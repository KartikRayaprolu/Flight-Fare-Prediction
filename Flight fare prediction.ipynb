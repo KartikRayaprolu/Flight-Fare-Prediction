{
 "cells": [
  {
   "cell_type": "code",
   "execution_count": 1,
   "metadata": {},
   "outputs": [],
   "source": [
    "import pandas as pd\n",
    "import numpy as np\n",
    "import matplotlib.pyplot as plt\n",
    "import seaborn as sns\n",
    "%matplotlib inline"
   ]
  },
  {
   "cell_type": "code",
   "execution_count": 2,
   "metadata": {},
   "outputs": [
    {
     "data": {
      "text/html": [
       "<div>\n",
       "<style scoped>\n",
       "    .dataframe tbody tr th:only-of-type {\n",
       "        vertical-align: middle;\n",
       "    }\n",
       "\n",
       "    .dataframe tbody tr th {\n",
       "        vertical-align: top;\n",
       "    }\n",
       "\n",
       "    .dataframe thead th {\n",
       "        text-align: right;\n",
       "    }\n",
       "</style>\n",
       "<table border=\"1\" class=\"dataframe\">\n",
       "  <thead>\n",
       "    <tr style=\"text-align: right;\">\n",
       "      <th></th>\n",
       "      <th>Airline</th>\n",
       "      <th>Date_of_Journey</th>\n",
       "      <th>Source</th>\n",
       "      <th>Destination</th>\n",
       "      <th>Route</th>\n",
       "      <th>Dep_Time</th>\n",
       "      <th>Arrival_Time</th>\n",
       "      <th>Duration</th>\n",
       "      <th>Total_Stops</th>\n",
       "      <th>Additional_Info</th>\n",
       "      <th>Price</th>\n",
       "    </tr>\n",
       "  </thead>\n",
       "  <tbody>\n",
       "    <tr>\n",
       "      <th>0</th>\n",
       "      <td>IndiGo</td>\n",
       "      <td>24/03/2019</td>\n",
       "      <td>Banglore</td>\n",
       "      <td>New Delhi</td>\n",
       "      <td>BLR ? DEL</td>\n",
       "      <td>22:20</td>\n",
       "      <td>01:10 22 Mar</td>\n",
       "      <td>2h 50m</td>\n",
       "      <td>non-stop</td>\n",
       "      <td>No info</td>\n",
       "      <td>3897</td>\n",
       "    </tr>\n",
       "    <tr>\n",
       "      <th>1</th>\n",
       "      <td>Air India</td>\n",
       "      <td>1/05/2019</td>\n",
       "      <td>Kolkata</td>\n",
       "      <td>Banglore</td>\n",
       "      <td>CCU ? IXR ? BBI ? BLR</td>\n",
       "      <td>05:50</td>\n",
       "      <td>13:15</td>\n",
       "      <td>7h 25m</td>\n",
       "      <td>2 stops</td>\n",
       "      <td>No info</td>\n",
       "      <td>7662</td>\n",
       "    </tr>\n",
       "    <tr>\n",
       "      <th>2</th>\n",
       "      <td>Jet Airways</td>\n",
       "      <td>9/06/2019</td>\n",
       "      <td>Delhi</td>\n",
       "      <td>Cochin</td>\n",
       "      <td>DEL ? LKO ? BOM ? COK</td>\n",
       "      <td>09:25</td>\n",
       "      <td>04:25 10 Jun</td>\n",
       "      <td>19h</td>\n",
       "      <td>2 stops</td>\n",
       "      <td>No info</td>\n",
       "      <td>13882</td>\n",
       "    </tr>\n",
       "    <tr>\n",
       "      <th>3</th>\n",
       "      <td>IndiGo</td>\n",
       "      <td>12/05/2019</td>\n",
       "      <td>Kolkata</td>\n",
       "      <td>Banglore</td>\n",
       "      <td>CCU ? NAG ? BLR</td>\n",
       "      <td>18:05</td>\n",
       "      <td>23:30</td>\n",
       "      <td>5h 25m</td>\n",
       "      <td>1 stop</td>\n",
       "      <td>No info</td>\n",
       "      <td>6218</td>\n",
       "    </tr>\n",
       "    <tr>\n",
       "      <th>4</th>\n",
       "      <td>IndiGo</td>\n",
       "      <td>01/03/2019</td>\n",
       "      <td>Banglore</td>\n",
       "      <td>New Delhi</td>\n",
       "      <td>BLR ? NAG ? DEL</td>\n",
       "      <td>16:50</td>\n",
       "      <td>21:35</td>\n",
       "      <td>4h 45m</td>\n",
       "      <td>1 stop</td>\n",
       "      <td>No info</td>\n",
       "      <td>13302</td>\n",
       "    </tr>\n",
       "  </tbody>\n",
       "</table>\n",
       "</div>"
      ],
      "text/plain": [
       "       Airline Date_of_Journey    Source Destination                  Route  \\\n",
       "0       IndiGo      24/03/2019  Banglore   New Delhi              BLR ? DEL   \n",
       "1    Air India       1/05/2019   Kolkata    Banglore  CCU ? IXR ? BBI ? BLR   \n",
       "2  Jet Airways       9/06/2019     Delhi      Cochin  DEL ? LKO ? BOM ? COK   \n",
       "3       IndiGo      12/05/2019   Kolkata    Banglore        CCU ? NAG ? BLR   \n",
       "4       IndiGo      01/03/2019  Banglore   New Delhi        BLR ? NAG ? DEL   \n",
       "\n",
       "  Dep_Time  Arrival_Time Duration Total_Stops Additional_Info  Price  \n",
       "0    22:20  01:10 22 Mar   2h 50m    non-stop         No info   3897  \n",
       "1    05:50         13:15   7h 25m     2 stops         No info   7662  \n",
       "2    09:25  04:25 10 Jun      19h     2 stops         No info  13882  \n",
       "3    18:05         23:30   5h 25m      1 stop         No info   6218  \n",
       "4    16:50         21:35   4h 45m      1 stop         No info  13302  "
      ]
     },
     "execution_count": 2,
     "metadata": {},
     "output_type": "execute_result"
    }
   ],
   "source": [
    "train = pd.read_csv(r\"C:\\Users\\karti\\Desktop\\Machine Hack\\Flight_Ticket_Participant_Datasets\\Data_Train.csv\")\n",
    "test = pd.read_csv(r\"C:\\Users\\karti\\Desktop\\Machine Hack\\Flight_Ticket_Participant_Datasets\\Data_Test.csv\")\n",
    "train.head()"
   ]
  },
  {
   "cell_type": "code",
   "execution_count": 3,
   "metadata": {},
   "outputs": [
    {
     "data": {
      "text/html": [
       "<div>\n",
       "<style scoped>\n",
       "    .dataframe tbody tr th:only-of-type {\n",
       "        vertical-align: middle;\n",
       "    }\n",
       "\n",
       "    .dataframe tbody tr th {\n",
       "        vertical-align: top;\n",
       "    }\n",
       "\n",
       "    .dataframe thead th {\n",
       "        text-align: right;\n",
       "    }\n",
       "</style>\n",
       "<table border=\"1\" class=\"dataframe\">\n",
       "  <thead>\n",
       "    <tr style=\"text-align: right;\">\n",
       "      <th></th>\n",
       "      <th>Airline</th>\n",
       "      <th>Date_of_Journey</th>\n",
       "      <th>Source</th>\n",
       "      <th>Destination</th>\n",
       "      <th>Route</th>\n",
       "      <th>Dep_Time</th>\n",
       "      <th>Arrival_Time</th>\n",
       "      <th>Duration</th>\n",
       "      <th>Total_Stops</th>\n",
       "      <th>Additional_Info</th>\n",
       "    </tr>\n",
       "  </thead>\n",
       "  <tbody>\n",
       "    <tr>\n",
       "      <th>0</th>\n",
       "      <td>Jet Airways</td>\n",
       "      <td>6/06/2019</td>\n",
       "      <td>Delhi</td>\n",
       "      <td>Cochin</td>\n",
       "      <td>DEL ? BOM ? COK</td>\n",
       "      <td>17:30</td>\n",
       "      <td>04:25 07 Jun</td>\n",
       "      <td>10h 55m</td>\n",
       "      <td>1 stop</td>\n",
       "      <td>No info</td>\n",
       "    </tr>\n",
       "    <tr>\n",
       "      <th>1</th>\n",
       "      <td>IndiGo</td>\n",
       "      <td>12/05/2019</td>\n",
       "      <td>Kolkata</td>\n",
       "      <td>Banglore</td>\n",
       "      <td>CCU ? MAA ? BLR</td>\n",
       "      <td>06:20</td>\n",
       "      <td>10:20</td>\n",
       "      <td>4h</td>\n",
       "      <td>1 stop</td>\n",
       "      <td>No info</td>\n",
       "    </tr>\n",
       "    <tr>\n",
       "      <th>2</th>\n",
       "      <td>Jet Airways</td>\n",
       "      <td>21/05/2019</td>\n",
       "      <td>Delhi</td>\n",
       "      <td>Cochin</td>\n",
       "      <td>DEL ? BOM ? COK</td>\n",
       "      <td>19:15</td>\n",
       "      <td>19:00 22 May</td>\n",
       "      <td>23h 45m</td>\n",
       "      <td>1 stop</td>\n",
       "      <td>In-flight meal not included</td>\n",
       "    </tr>\n",
       "    <tr>\n",
       "      <th>3</th>\n",
       "      <td>Multiple carriers</td>\n",
       "      <td>21/05/2019</td>\n",
       "      <td>Delhi</td>\n",
       "      <td>Cochin</td>\n",
       "      <td>DEL ? BOM ? COK</td>\n",
       "      <td>08:00</td>\n",
       "      <td>21:00</td>\n",
       "      <td>13h</td>\n",
       "      <td>1 stop</td>\n",
       "      <td>No info</td>\n",
       "    </tr>\n",
       "    <tr>\n",
       "      <th>4</th>\n",
       "      <td>Air Asia</td>\n",
       "      <td>24/06/2019</td>\n",
       "      <td>Banglore</td>\n",
       "      <td>Delhi</td>\n",
       "      <td>BLR ? DEL</td>\n",
       "      <td>23:55</td>\n",
       "      <td>02:45 25 Jun</td>\n",
       "      <td>2h 50m</td>\n",
       "      <td>non-stop</td>\n",
       "      <td>No info</td>\n",
       "    </tr>\n",
       "  </tbody>\n",
       "</table>\n",
       "</div>"
      ],
      "text/plain": [
       "             Airline Date_of_Journey    Source Destination            Route  \\\n",
       "0        Jet Airways       6/06/2019     Delhi      Cochin  DEL ? BOM ? COK   \n",
       "1             IndiGo      12/05/2019   Kolkata    Banglore  CCU ? MAA ? BLR   \n",
       "2        Jet Airways      21/05/2019     Delhi      Cochin  DEL ? BOM ? COK   \n",
       "3  Multiple carriers      21/05/2019     Delhi      Cochin  DEL ? BOM ? COK   \n",
       "4           Air Asia      24/06/2019  Banglore       Delhi        BLR ? DEL   \n",
       "\n",
       "  Dep_Time  Arrival_Time Duration Total_Stops              Additional_Info  \n",
       "0    17:30  04:25 07 Jun  10h 55m      1 stop                      No info  \n",
       "1    06:20         10:20       4h      1 stop                      No info  \n",
       "2    19:15  19:00 22 May  23h 45m      1 stop  In-flight meal not included  \n",
       "3    08:00         21:00      13h      1 stop                      No info  \n",
       "4    23:55  02:45 25 Jun   2h 50m    non-stop                      No info  "
      ]
     },
     "execution_count": 3,
     "metadata": {},
     "output_type": "execute_result"
    }
   ],
   "source": [
    "test.head()"
   ]
  },
  {
   "cell_type": "code",
   "execution_count": 4,
   "metadata": {},
   "outputs": [
    {
     "name": "stdout",
     "output_type": "stream",
     "text": [
      "<class 'pandas.core.frame.DataFrame'>\n",
      "RangeIndex: 2671 entries, 0 to 2670\n",
      "Data columns (total 10 columns):\n",
      " #   Column           Non-Null Count  Dtype \n",
      "---  ------           --------------  ----- \n",
      " 0   Airline          2671 non-null   object\n",
      " 1   Date_of_Journey  2671 non-null   object\n",
      " 2   Source           2671 non-null   object\n",
      " 3   Destination      2671 non-null   object\n",
      " 4   Route            2671 non-null   object\n",
      " 5   Dep_Time         2671 non-null   object\n",
      " 6   Arrival_Time     2671 non-null   object\n",
      " 7   Duration         2671 non-null   object\n",
      " 8   Total_Stops      2671 non-null   object\n",
      " 9   Additional_Info  2671 non-null   object\n",
      "dtypes: object(10)\n",
      "memory usage: 208.8+ KB\n"
     ]
    }
   ],
   "source": [
    "test.info()"
   ]
  },
  {
   "cell_type": "code",
   "execution_count": 5,
   "metadata": {},
   "outputs": [],
   "source": [
    "train = train.drop(columns = [\"Route\"])\n",
    "test = test.drop(columns = [\"Route\"])"
   ]
  },
  {
   "cell_type": "code",
   "execution_count": 6,
   "metadata": {},
   "outputs": [
    {
     "data": {
      "text/html": [
       "<div>\n",
       "<style scoped>\n",
       "    .dataframe tbody tr th:only-of-type {\n",
       "        vertical-align: middle;\n",
       "    }\n",
       "\n",
       "    .dataframe tbody tr th {\n",
       "        vertical-align: top;\n",
       "    }\n",
       "\n",
       "    .dataframe thead th {\n",
       "        text-align: right;\n",
       "    }\n",
       "</style>\n",
       "<table border=\"1\" class=\"dataframe\">\n",
       "  <thead>\n",
       "    <tr style=\"text-align: right;\">\n",
       "      <th></th>\n",
       "      <th>Airline</th>\n",
       "      <th>Date_of_Journey</th>\n",
       "      <th>Source</th>\n",
       "      <th>Destination</th>\n",
       "      <th>Dep_Time</th>\n",
       "      <th>Arrival_Time</th>\n",
       "      <th>Duration</th>\n",
       "      <th>Total_Stops</th>\n",
       "      <th>Additional_Info</th>\n",
       "      <th>Price</th>\n",
       "    </tr>\n",
       "  </thead>\n",
       "  <tbody>\n",
       "    <tr>\n",
       "      <th>0</th>\n",
       "      <td>IndiGo</td>\n",
       "      <td>24/03/2019</td>\n",
       "      <td>Banglore</td>\n",
       "      <td>New Delhi</td>\n",
       "      <td>22:20</td>\n",
       "      <td>01:10 22 Mar</td>\n",
       "      <td>2h 50m</td>\n",
       "      <td>non-stop</td>\n",
       "      <td>No info</td>\n",
       "      <td>3897</td>\n",
       "    </tr>\n",
       "    <tr>\n",
       "      <th>1</th>\n",
       "      <td>Air India</td>\n",
       "      <td>1/05/2019</td>\n",
       "      <td>Kolkata</td>\n",
       "      <td>Banglore</td>\n",
       "      <td>05:50</td>\n",
       "      <td>13:15</td>\n",
       "      <td>7h 25m</td>\n",
       "      <td>2 stops</td>\n",
       "      <td>No info</td>\n",
       "      <td>7662</td>\n",
       "    </tr>\n",
       "    <tr>\n",
       "      <th>2</th>\n",
       "      <td>Jet Airways</td>\n",
       "      <td>9/06/2019</td>\n",
       "      <td>Delhi</td>\n",
       "      <td>Cochin</td>\n",
       "      <td>09:25</td>\n",
       "      <td>04:25 10 Jun</td>\n",
       "      <td>19h</td>\n",
       "      <td>2 stops</td>\n",
       "      <td>No info</td>\n",
       "      <td>13882</td>\n",
       "    </tr>\n",
       "    <tr>\n",
       "      <th>3</th>\n",
       "      <td>IndiGo</td>\n",
       "      <td>12/05/2019</td>\n",
       "      <td>Kolkata</td>\n",
       "      <td>Banglore</td>\n",
       "      <td>18:05</td>\n",
       "      <td>23:30</td>\n",
       "      <td>5h 25m</td>\n",
       "      <td>1 stop</td>\n",
       "      <td>No info</td>\n",
       "      <td>6218</td>\n",
       "    </tr>\n",
       "    <tr>\n",
       "      <th>4</th>\n",
       "      <td>IndiGo</td>\n",
       "      <td>01/03/2019</td>\n",
       "      <td>Banglore</td>\n",
       "      <td>New Delhi</td>\n",
       "      <td>16:50</td>\n",
       "      <td>21:35</td>\n",
       "      <td>4h 45m</td>\n",
       "      <td>1 stop</td>\n",
       "      <td>No info</td>\n",
       "      <td>13302</td>\n",
       "    </tr>\n",
       "  </tbody>\n",
       "</table>\n",
       "</div>"
      ],
      "text/plain": [
       "       Airline Date_of_Journey    Source Destination Dep_Time  Arrival_Time  \\\n",
       "0       IndiGo      24/03/2019  Banglore   New Delhi    22:20  01:10 22 Mar   \n",
       "1    Air India       1/05/2019   Kolkata    Banglore    05:50         13:15   \n",
       "2  Jet Airways       9/06/2019     Delhi      Cochin    09:25  04:25 10 Jun   \n",
       "3       IndiGo      12/05/2019   Kolkata    Banglore    18:05         23:30   \n",
       "4       IndiGo      01/03/2019  Banglore   New Delhi    16:50         21:35   \n",
       "\n",
       "  Duration Total_Stops Additional_Info  Price  \n",
       "0   2h 50m    non-stop         No info   3897  \n",
       "1   7h 25m     2 stops         No info   7662  \n",
       "2      19h     2 stops         No info  13882  \n",
       "3   5h 25m      1 stop         No info   6218  \n",
       "4   4h 45m      1 stop         No info  13302  "
      ]
     },
     "execution_count": 6,
     "metadata": {},
     "output_type": "execute_result"
    }
   ],
   "source": [
    "train.head()"
   ]
  },
  {
   "cell_type": "code",
   "execution_count": 7,
   "metadata": {},
   "outputs": [
    {
     "data": {
      "text/html": [
       "<div>\n",
       "<style scoped>\n",
       "    .dataframe tbody tr th:only-of-type {\n",
       "        vertical-align: middle;\n",
       "    }\n",
       "\n",
       "    .dataframe tbody tr th {\n",
       "        vertical-align: top;\n",
       "    }\n",
       "\n",
       "    .dataframe thead th {\n",
       "        text-align: right;\n",
       "    }\n",
       "</style>\n",
       "<table border=\"1\" class=\"dataframe\">\n",
       "  <thead>\n",
       "    <tr style=\"text-align: right;\">\n",
       "      <th></th>\n",
       "      <th>Airline</th>\n",
       "      <th>Date_of_Journey</th>\n",
       "      <th>Source</th>\n",
       "      <th>Destination</th>\n",
       "      <th>Dep_Time</th>\n",
       "      <th>Arrival_Time</th>\n",
       "      <th>Duration</th>\n",
       "      <th>Total_Stops</th>\n",
       "      <th>Additional_Info</th>\n",
       "    </tr>\n",
       "  </thead>\n",
       "  <tbody>\n",
       "    <tr>\n",
       "      <th>0</th>\n",
       "      <td>Jet Airways</td>\n",
       "      <td>6/06/2019</td>\n",
       "      <td>Delhi</td>\n",
       "      <td>Cochin</td>\n",
       "      <td>17:30</td>\n",
       "      <td>04:25 07 Jun</td>\n",
       "      <td>10h 55m</td>\n",
       "      <td>1 stop</td>\n",
       "      <td>No info</td>\n",
       "    </tr>\n",
       "    <tr>\n",
       "      <th>1</th>\n",
       "      <td>IndiGo</td>\n",
       "      <td>12/05/2019</td>\n",
       "      <td>Kolkata</td>\n",
       "      <td>Banglore</td>\n",
       "      <td>06:20</td>\n",
       "      <td>10:20</td>\n",
       "      <td>4h</td>\n",
       "      <td>1 stop</td>\n",
       "      <td>No info</td>\n",
       "    </tr>\n",
       "    <tr>\n",
       "      <th>2</th>\n",
       "      <td>Jet Airways</td>\n",
       "      <td>21/05/2019</td>\n",
       "      <td>Delhi</td>\n",
       "      <td>Cochin</td>\n",
       "      <td>19:15</td>\n",
       "      <td>19:00 22 May</td>\n",
       "      <td>23h 45m</td>\n",
       "      <td>1 stop</td>\n",
       "      <td>In-flight meal not included</td>\n",
       "    </tr>\n",
       "    <tr>\n",
       "      <th>3</th>\n",
       "      <td>Multiple carriers</td>\n",
       "      <td>21/05/2019</td>\n",
       "      <td>Delhi</td>\n",
       "      <td>Cochin</td>\n",
       "      <td>08:00</td>\n",
       "      <td>21:00</td>\n",
       "      <td>13h</td>\n",
       "      <td>1 stop</td>\n",
       "      <td>No info</td>\n",
       "    </tr>\n",
       "    <tr>\n",
       "      <th>4</th>\n",
       "      <td>Air Asia</td>\n",
       "      <td>24/06/2019</td>\n",
       "      <td>Banglore</td>\n",
       "      <td>Delhi</td>\n",
       "      <td>23:55</td>\n",
       "      <td>02:45 25 Jun</td>\n",
       "      <td>2h 50m</td>\n",
       "      <td>non-stop</td>\n",
       "      <td>No info</td>\n",
       "    </tr>\n",
       "  </tbody>\n",
       "</table>\n",
       "</div>"
      ],
      "text/plain": [
       "             Airline Date_of_Journey    Source Destination Dep_Time  \\\n",
       "0        Jet Airways       6/06/2019     Delhi      Cochin    17:30   \n",
       "1             IndiGo      12/05/2019   Kolkata    Banglore    06:20   \n",
       "2        Jet Airways      21/05/2019     Delhi      Cochin    19:15   \n",
       "3  Multiple carriers      21/05/2019     Delhi      Cochin    08:00   \n",
       "4           Air Asia      24/06/2019  Banglore       Delhi    23:55   \n",
       "\n",
       "   Arrival_Time Duration Total_Stops              Additional_Info  \n",
       "0  04:25 07 Jun  10h 55m      1 stop                      No info  \n",
       "1         10:20       4h      1 stop                      No info  \n",
       "2  19:00 22 May  23h 45m      1 stop  In-flight meal not included  \n",
       "3         21:00      13h      1 stop                      No info  \n",
       "4  02:45 25 Jun   2h 50m    non-stop                      No info  "
      ]
     },
     "execution_count": 7,
     "metadata": {},
     "output_type": "execute_result"
    }
   ],
   "source": [
    "test.head()"
   ]
  },
  {
   "cell_type": "code",
   "execution_count": 8,
   "metadata": {},
   "outputs": [
    {
     "data": {
      "text/plain": [
       "(array(['IndiGo', 'Air India', 'Jet Airways', 'SpiceJet',\n",
       "        'Multiple carriers', 'GoAir', 'Vistara', 'Air Asia',\n",
       "        'Vistara Premium economy', 'Jet Airways Business',\n",
       "        'Multiple carriers Premium economy', 'Trujet'], dtype=object),\n",
       " 12)"
      ]
     },
     "execution_count": 8,
     "metadata": {},
     "output_type": "execute_result"
    }
   ],
   "source": [
    "train[\"Airline\"].unique(), train[\"Airline\"].nunique()"
   ]
  },
  {
   "cell_type": "code",
   "execution_count": 9,
   "metadata": {},
   "outputs": [
    {
     "data": {
      "text/plain": [
       "(5, 6)"
      ]
     },
     "execution_count": 9,
     "metadata": {},
     "output_type": "execute_result"
    }
   ],
   "source": [
    "train[\"Source\"].nunique(), train[\"Destination\"].nunique()"
   ]
  },
  {
   "cell_type": "code",
   "execution_count": 10,
   "metadata": {},
   "outputs": [],
   "source": [
    "import datetime"
   ]
  },
  {
   "cell_type": "code",
   "execution_count": 11,
   "metadata": {},
   "outputs": [],
   "source": [
    "train[\"Date_of_Journey\"] = pd.to_datetime(train[\"Date_of_Journey\"])\n",
    "test[\"Date_of_Journey\"] = pd.to_datetime(test[\"Date_of_Journey\"])"
   ]
  },
  {
   "cell_type": "code",
   "execution_count": 12,
   "metadata": {},
   "outputs": [],
   "source": [
    "# Extracting Year, Month and Day from Date of Journey column for both train and test\n",
    "train[\"Date_of_Journey_Year\"] = train[\"Date_of_Journey\"].dt.year\n",
    "train[\"Date_of_Journey_Month\"] = train[\"Date_of_Journey\"].dt.month\n",
    "train[\"Date_of_Journey_Day\"] = train[\"Date_of_Journey\"].dt.day\n",
    "\n",
    "# For test \n",
    "test[\"Date_of_Journey_Year\"] = test[\"Date_of_Journey\"].dt.year\n",
    "test[\"Date_of_Journey_Month\"] = test[\"Date_of_Journey\"].dt.month\n",
    "test[\"Date_of_Journey_Day\"] = test[\"Date_of_Journey\"].dt.day"
   ]
  },
  {
   "cell_type": "code",
   "execution_count": 13,
   "metadata": {},
   "outputs": [],
   "source": [
    "train = train.drop(columns = \"Date_of_Journey\")\n",
    "test = test.drop(columns = \"Date_of_Journey\")"
   ]
  },
  {
   "cell_type": "code",
   "execution_count": 14,
   "metadata": {},
   "outputs": [
    {
     "data": {
      "text/html": [
       "<div>\n",
       "<style scoped>\n",
       "    .dataframe tbody tr th:only-of-type {\n",
       "        vertical-align: middle;\n",
       "    }\n",
       "\n",
       "    .dataframe tbody tr th {\n",
       "        vertical-align: top;\n",
       "    }\n",
       "\n",
       "    .dataframe thead th {\n",
       "        text-align: right;\n",
       "    }\n",
       "</style>\n",
       "<table border=\"1\" class=\"dataframe\">\n",
       "  <thead>\n",
       "    <tr style=\"text-align: right;\">\n",
       "      <th></th>\n",
       "      <th>Airline</th>\n",
       "      <th>Source</th>\n",
       "      <th>Destination</th>\n",
       "      <th>Dep_Time</th>\n",
       "      <th>Arrival_Time</th>\n",
       "      <th>Duration</th>\n",
       "      <th>Total_Stops</th>\n",
       "      <th>Additional_Info</th>\n",
       "      <th>Price</th>\n",
       "      <th>Date_of_Journey_Year</th>\n",
       "      <th>Date_of_Journey_Month</th>\n",
       "      <th>Date_of_Journey_Day</th>\n",
       "    </tr>\n",
       "  </thead>\n",
       "  <tbody>\n",
       "    <tr>\n",
       "      <th>0</th>\n",
       "      <td>IndiGo</td>\n",
       "      <td>Banglore</td>\n",
       "      <td>New Delhi</td>\n",
       "      <td>22:20</td>\n",
       "      <td>01:10 22 Mar</td>\n",
       "      <td>2h 50m</td>\n",
       "      <td>non-stop</td>\n",
       "      <td>No info</td>\n",
       "      <td>3897</td>\n",
       "      <td>2019</td>\n",
       "      <td>3</td>\n",
       "      <td>24</td>\n",
       "    </tr>\n",
       "    <tr>\n",
       "      <th>1</th>\n",
       "      <td>Air India</td>\n",
       "      <td>Kolkata</td>\n",
       "      <td>Banglore</td>\n",
       "      <td>05:50</td>\n",
       "      <td>13:15</td>\n",
       "      <td>7h 25m</td>\n",
       "      <td>2 stops</td>\n",
       "      <td>No info</td>\n",
       "      <td>7662</td>\n",
       "      <td>2019</td>\n",
       "      <td>1</td>\n",
       "      <td>5</td>\n",
       "    </tr>\n",
       "    <tr>\n",
       "      <th>2</th>\n",
       "      <td>Jet Airways</td>\n",
       "      <td>Delhi</td>\n",
       "      <td>Cochin</td>\n",
       "      <td>09:25</td>\n",
       "      <td>04:25 10 Jun</td>\n",
       "      <td>19h</td>\n",
       "      <td>2 stops</td>\n",
       "      <td>No info</td>\n",
       "      <td>13882</td>\n",
       "      <td>2019</td>\n",
       "      <td>9</td>\n",
       "      <td>6</td>\n",
       "    </tr>\n",
       "    <tr>\n",
       "      <th>3</th>\n",
       "      <td>IndiGo</td>\n",
       "      <td>Kolkata</td>\n",
       "      <td>Banglore</td>\n",
       "      <td>18:05</td>\n",
       "      <td>23:30</td>\n",
       "      <td>5h 25m</td>\n",
       "      <td>1 stop</td>\n",
       "      <td>No info</td>\n",
       "      <td>6218</td>\n",
       "      <td>2019</td>\n",
       "      <td>12</td>\n",
       "      <td>5</td>\n",
       "    </tr>\n",
       "    <tr>\n",
       "      <th>4</th>\n",
       "      <td>IndiGo</td>\n",
       "      <td>Banglore</td>\n",
       "      <td>New Delhi</td>\n",
       "      <td>16:50</td>\n",
       "      <td>21:35</td>\n",
       "      <td>4h 45m</td>\n",
       "      <td>1 stop</td>\n",
       "      <td>No info</td>\n",
       "      <td>13302</td>\n",
       "      <td>2019</td>\n",
       "      <td>1</td>\n",
       "      <td>3</td>\n",
       "    </tr>\n",
       "  </tbody>\n",
       "</table>\n",
       "</div>"
      ],
      "text/plain": [
       "       Airline    Source Destination Dep_Time  Arrival_Time Duration  \\\n",
       "0       IndiGo  Banglore   New Delhi    22:20  01:10 22 Mar   2h 50m   \n",
       "1    Air India   Kolkata    Banglore    05:50         13:15   7h 25m   \n",
       "2  Jet Airways     Delhi      Cochin    09:25  04:25 10 Jun      19h   \n",
       "3       IndiGo   Kolkata    Banglore    18:05         23:30   5h 25m   \n",
       "4       IndiGo  Banglore   New Delhi    16:50         21:35   4h 45m   \n",
       "\n",
       "  Total_Stops Additional_Info  Price  Date_of_Journey_Year  \\\n",
       "0    non-stop         No info   3897                  2019   \n",
       "1     2 stops         No info   7662                  2019   \n",
       "2     2 stops         No info  13882                  2019   \n",
       "3      1 stop         No info   6218                  2019   \n",
       "4      1 stop         No info  13302                  2019   \n",
       "\n",
       "   Date_of_Journey_Month  Date_of_Journey_Day  \n",
       "0                      3                   24  \n",
       "1                      1                    5  \n",
       "2                      9                    6  \n",
       "3                     12                    5  \n",
       "4                      1                    3  "
      ]
     },
     "execution_count": 14,
     "metadata": {},
     "output_type": "execute_result"
    }
   ],
   "source": [
    "train.head()"
   ]
  },
  {
   "cell_type": "code",
   "execution_count": 15,
   "metadata": {
    "scrolled": true
   },
   "outputs": [
    {
     "data": {
      "text/html": [
       "<div>\n",
       "<style scoped>\n",
       "    .dataframe tbody tr th:only-of-type {\n",
       "        vertical-align: middle;\n",
       "    }\n",
       "\n",
       "    .dataframe tbody tr th {\n",
       "        vertical-align: top;\n",
       "    }\n",
       "\n",
       "    .dataframe thead th {\n",
       "        text-align: right;\n",
       "    }\n",
       "</style>\n",
       "<table border=\"1\" class=\"dataframe\">\n",
       "  <thead>\n",
       "    <tr style=\"text-align: right;\">\n",
       "      <th></th>\n",
       "      <th>Airline</th>\n",
       "      <th>Source</th>\n",
       "      <th>Destination</th>\n",
       "      <th>Dep_Time</th>\n",
       "      <th>Arrival_Time</th>\n",
       "      <th>Duration</th>\n",
       "      <th>Total_Stops</th>\n",
       "      <th>Additional_Info</th>\n",
       "      <th>Date_of_Journey_Year</th>\n",
       "      <th>Date_of_Journey_Month</th>\n",
       "      <th>Date_of_Journey_Day</th>\n",
       "    </tr>\n",
       "  </thead>\n",
       "  <tbody>\n",
       "    <tr>\n",
       "      <th>0</th>\n",
       "      <td>Jet Airways</td>\n",
       "      <td>Delhi</td>\n",
       "      <td>Cochin</td>\n",
       "      <td>17:30</td>\n",
       "      <td>04:25 07 Jun</td>\n",
       "      <td>10h 55m</td>\n",
       "      <td>1 stop</td>\n",
       "      <td>No info</td>\n",
       "      <td>2019</td>\n",
       "      <td>6</td>\n",
       "      <td>6</td>\n",
       "    </tr>\n",
       "    <tr>\n",
       "      <th>1</th>\n",
       "      <td>IndiGo</td>\n",
       "      <td>Kolkata</td>\n",
       "      <td>Banglore</td>\n",
       "      <td>06:20</td>\n",
       "      <td>10:20</td>\n",
       "      <td>4h</td>\n",
       "      <td>1 stop</td>\n",
       "      <td>No info</td>\n",
       "      <td>2019</td>\n",
       "      <td>12</td>\n",
       "      <td>5</td>\n",
       "    </tr>\n",
       "    <tr>\n",
       "      <th>2</th>\n",
       "      <td>Jet Airways</td>\n",
       "      <td>Delhi</td>\n",
       "      <td>Cochin</td>\n",
       "      <td>19:15</td>\n",
       "      <td>19:00 22 May</td>\n",
       "      <td>23h 45m</td>\n",
       "      <td>1 stop</td>\n",
       "      <td>In-flight meal not included</td>\n",
       "      <td>2019</td>\n",
       "      <td>5</td>\n",
       "      <td>21</td>\n",
       "    </tr>\n",
       "    <tr>\n",
       "      <th>3</th>\n",
       "      <td>Multiple carriers</td>\n",
       "      <td>Delhi</td>\n",
       "      <td>Cochin</td>\n",
       "      <td>08:00</td>\n",
       "      <td>21:00</td>\n",
       "      <td>13h</td>\n",
       "      <td>1 stop</td>\n",
       "      <td>No info</td>\n",
       "      <td>2019</td>\n",
       "      <td>5</td>\n",
       "      <td>21</td>\n",
       "    </tr>\n",
       "    <tr>\n",
       "      <th>4</th>\n",
       "      <td>Air Asia</td>\n",
       "      <td>Banglore</td>\n",
       "      <td>Delhi</td>\n",
       "      <td>23:55</td>\n",
       "      <td>02:45 25 Jun</td>\n",
       "      <td>2h 50m</td>\n",
       "      <td>non-stop</td>\n",
       "      <td>No info</td>\n",
       "      <td>2019</td>\n",
       "      <td>6</td>\n",
       "      <td>24</td>\n",
       "    </tr>\n",
       "  </tbody>\n",
       "</table>\n",
       "</div>"
      ],
      "text/plain": [
       "             Airline    Source Destination Dep_Time  Arrival_Time Duration  \\\n",
       "0        Jet Airways     Delhi      Cochin    17:30  04:25 07 Jun  10h 55m   \n",
       "1             IndiGo   Kolkata    Banglore    06:20         10:20       4h   \n",
       "2        Jet Airways     Delhi      Cochin    19:15  19:00 22 May  23h 45m   \n",
       "3  Multiple carriers     Delhi      Cochin    08:00         21:00      13h   \n",
       "4           Air Asia  Banglore       Delhi    23:55  02:45 25 Jun   2h 50m   \n",
       "\n",
       "  Total_Stops              Additional_Info  Date_of_Journey_Year  \\\n",
       "0      1 stop                      No info                  2019   \n",
       "1      1 stop                      No info                  2019   \n",
       "2      1 stop  In-flight meal not included                  2019   \n",
       "3      1 stop                      No info                  2019   \n",
       "4    non-stop                      No info                  2019   \n",
       "\n",
       "   Date_of_Journey_Month  Date_of_Journey_Day  \n",
       "0                      6                    6  \n",
       "1                     12                    5  \n",
       "2                      5                   21  \n",
       "3                      5                   21  \n",
       "4                      6                   24  "
      ]
     },
     "execution_count": 15,
     "metadata": {},
     "output_type": "execute_result"
    }
   ],
   "source": [
    "test.head()"
   ]
  },
  {
   "cell_type": "code",
   "execution_count": 16,
   "metadata": {},
   "outputs": [],
   "source": [
    "train[\"Dep_Time\"] = pd.to_datetime(train[\"Dep_Time\"])\n",
    "test[\"Dep_Time\"] = pd.to_datetime(test[\"Dep_Time\"])"
   ]
  },
  {
   "cell_type": "code",
   "execution_count": 17,
   "metadata": {},
   "outputs": [],
   "source": [
    "train[\"Dep_Time_hour\"] = train[\"Dep_Time\"].dt.hour\n",
    "train[\"Dep_Time_min\"] = train[\"Dep_Time\"].dt.minute\n",
    "\n",
    "test[\"Dep_Time_hour\"] = test[\"Dep_Time\"].dt.hour\n",
    "test[\"Dep_Time_min\"] = test[\"Dep_Time\"].dt.minute"
   ]
  },
  {
   "cell_type": "code",
   "execution_count": 18,
   "metadata": {},
   "outputs": [],
   "source": [
    "train = train.drop(columns = \"Dep_Time\")\n",
    "test = test.drop(columns = \"Dep_Time\")"
   ]
  },
  {
   "cell_type": "code",
   "execution_count": 19,
   "metadata": {},
   "outputs": [
    {
     "data": {
      "text/html": [
       "<div>\n",
       "<style scoped>\n",
       "    .dataframe tbody tr th:only-of-type {\n",
       "        vertical-align: middle;\n",
       "    }\n",
       "\n",
       "    .dataframe tbody tr th {\n",
       "        vertical-align: top;\n",
       "    }\n",
       "\n",
       "    .dataframe thead th {\n",
       "        text-align: right;\n",
       "    }\n",
       "</style>\n",
       "<table border=\"1\" class=\"dataframe\">\n",
       "  <thead>\n",
       "    <tr style=\"text-align: right;\">\n",
       "      <th></th>\n",
       "      <th>Airline</th>\n",
       "      <th>Source</th>\n",
       "      <th>Destination</th>\n",
       "      <th>Arrival_Time</th>\n",
       "      <th>Duration</th>\n",
       "      <th>Total_Stops</th>\n",
       "      <th>Additional_Info</th>\n",
       "      <th>Price</th>\n",
       "      <th>Date_of_Journey_Year</th>\n",
       "      <th>Date_of_Journey_Month</th>\n",
       "      <th>Date_of_Journey_Day</th>\n",
       "      <th>Dep_Time_hour</th>\n",
       "      <th>Dep_Time_min</th>\n",
       "    </tr>\n",
       "  </thead>\n",
       "  <tbody>\n",
       "    <tr>\n",
       "      <th>0</th>\n",
       "      <td>IndiGo</td>\n",
       "      <td>Banglore</td>\n",
       "      <td>New Delhi</td>\n",
       "      <td>01:10 22 Mar</td>\n",
       "      <td>2h 50m</td>\n",
       "      <td>non-stop</td>\n",
       "      <td>No info</td>\n",
       "      <td>3897</td>\n",
       "      <td>2019</td>\n",
       "      <td>3</td>\n",
       "      <td>24</td>\n",
       "      <td>22</td>\n",
       "      <td>20</td>\n",
       "    </tr>\n",
       "    <tr>\n",
       "      <th>1</th>\n",
       "      <td>Air India</td>\n",
       "      <td>Kolkata</td>\n",
       "      <td>Banglore</td>\n",
       "      <td>13:15</td>\n",
       "      <td>7h 25m</td>\n",
       "      <td>2 stops</td>\n",
       "      <td>No info</td>\n",
       "      <td>7662</td>\n",
       "      <td>2019</td>\n",
       "      <td>1</td>\n",
       "      <td>5</td>\n",
       "      <td>5</td>\n",
       "      <td>50</td>\n",
       "    </tr>\n",
       "    <tr>\n",
       "      <th>2</th>\n",
       "      <td>Jet Airways</td>\n",
       "      <td>Delhi</td>\n",
       "      <td>Cochin</td>\n",
       "      <td>04:25 10 Jun</td>\n",
       "      <td>19h</td>\n",
       "      <td>2 stops</td>\n",
       "      <td>No info</td>\n",
       "      <td>13882</td>\n",
       "      <td>2019</td>\n",
       "      <td>9</td>\n",
       "      <td>6</td>\n",
       "      <td>9</td>\n",
       "      <td>25</td>\n",
       "    </tr>\n",
       "    <tr>\n",
       "      <th>3</th>\n",
       "      <td>IndiGo</td>\n",
       "      <td>Kolkata</td>\n",
       "      <td>Banglore</td>\n",
       "      <td>23:30</td>\n",
       "      <td>5h 25m</td>\n",
       "      <td>1 stop</td>\n",
       "      <td>No info</td>\n",
       "      <td>6218</td>\n",
       "      <td>2019</td>\n",
       "      <td>12</td>\n",
       "      <td>5</td>\n",
       "      <td>18</td>\n",
       "      <td>5</td>\n",
       "    </tr>\n",
       "    <tr>\n",
       "      <th>4</th>\n",
       "      <td>IndiGo</td>\n",
       "      <td>Banglore</td>\n",
       "      <td>New Delhi</td>\n",
       "      <td>21:35</td>\n",
       "      <td>4h 45m</td>\n",
       "      <td>1 stop</td>\n",
       "      <td>No info</td>\n",
       "      <td>13302</td>\n",
       "      <td>2019</td>\n",
       "      <td>1</td>\n",
       "      <td>3</td>\n",
       "      <td>16</td>\n",
       "      <td>50</td>\n",
       "    </tr>\n",
       "  </tbody>\n",
       "</table>\n",
       "</div>"
      ],
      "text/plain": [
       "       Airline    Source Destination  Arrival_Time Duration Total_Stops  \\\n",
       "0       IndiGo  Banglore   New Delhi  01:10 22 Mar   2h 50m    non-stop   \n",
       "1    Air India   Kolkata    Banglore         13:15   7h 25m     2 stops   \n",
       "2  Jet Airways     Delhi      Cochin  04:25 10 Jun      19h     2 stops   \n",
       "3       IndiGo   Kolkata    Banglore         23:30   5h 25m      1 stop   \n",
       "4       IndiGo  Banglore   New Delhi         21:35   4h 45m      1 stop   \n",
       "\n",
       "  Additional_Info  Price  Date_of_Journey_Year  Date_of_Journey_Month  \\\n",
       "0         No info   3897                  2019                      3   \n",
       "1         No info   7662                  2019                      1   \n",
       "2         No info  13882                  2019                      9   \n",
       "3         No info   6218                  2019                     12   \n",
       "4         No info  13302                  2019                      1   \n",
       "\n",
       "   Date_of_Journey_Day  Dep_Time_hour  Dep_Time_min  \n",
       "0                   24             22            20  \n",
       "1                    5              5            50  \n",
       "2                    6              9            25  \n",
       "3                    5             18             5  \n",
       "4                    3             16            50  "
      ]
     },
     "execution_count": 19,
     "metadata": {},
     "output_type": "execute_result"
    }
   ],
   "source": [
    "train.head()"
   ]
  },
  {
   "cell_type": "code",
   "execution_count": 20,
   "metadata": {
    "scrolled": false
   },
   "outputs": [
    {
     "data": {
      "text/html": [
       "<div>\n",
       "<style scoped>\n",
       "    .dataframe tbody tr th:only-of-type {\n",
       "        vertical-align: middle;\n",
       "    }\n",
       "\n",
       "    .dataframe tbody tr th {\n",
       "        vertical-align: top;\n",
       "    }\n",
       "\n",
       "    .dataframe thead th {\n",
       "        text-align: right;\n",
       "    }\n",
       "</style>\n",
       "<table border=\"1\" class=\"dataframe\">\n",
       "  <thead>\n",
       "    <tr style=\"text-align: right;\">\n",
       "      <th></th>\n",
       "      <th>Airline</th>\n",
       "      <th>Source</th>\n",
       "      <th>Destination</th>\n",
       "      <th>Arrival_Time</th>\n",
       "      <th>Duration</th>\n",
       "      <th>Total_Stops</th>\n",
       "      <th>Additional_Info</th>\n",
       "      <th>Date_of_Journey_Year</th>\n",
       "      <th>Date_of_Journey_Month</th>\n",
       "      <th>Date_of_Journey_Day</th>\n",
       "      <th>Dep_Time_hour</th>\n",
       "      <th>Dep_Time_min</th>\n",
       "    </tr>\n",
       "  </thead>\n",
       "  <tbody>\n",
       "    <tr>\n",
       "      <th>0</th>\n",
       "      <td>Jet Airways</td>\n",
       "      <td>Delhi</td>\n",
       "      <td>Cochin</td>\n",
       "      <td>04:25 07 Jun</td>\n",
       "      <td>10h 55m</td>\n",
       "      <td>1 stop</td>\n",
       "      <td>No info</td>\n",
       "      <td>2019</td>\n",
       "      <td>6</td>\n",
       "      <td>6</td>\n",
       "      <td>17</td>\n",
       "      <td>30</td>\n",
       "    </tr>\n",
       "    <tr>\n",
       "      <th>1</th>\n",
       "      <td>IndiGo</td>\n",
       "      <td>Kolkata</td>\n",
       "      <td>Banglore</td>\n",
       "      <td>10:20</td>\n",
       "      <td>4h</td>\n",
       "      <td>1 stop</td>\n",
       "      <td>No info</td>\n",
       "      <td>2019</td>\n",
       "      <td>12</td>\n",
       "      <td>5</td>\n",
       "      <td>6</td>\n",
       "      <td>20</td>\n",
       "    </tr>\n",
       "    <tr>\n",
       "      <th>2</th>\n",
       "      <td>Jet Airways</td>\n",
       "      <td>Delhi</td>\n",
       "      <td>Cochin</td>\n",
       "      <td>19:00 22 May</td>\n",
       "      <td>23h 45m</td>\n",
       "      <td>1 stop</td>\n",
       "      <td>In-flight meal not included</td>\n",
       "      <td>2019</td>\n",
       "      <td>5</td>\n",
       "      <td>21</td>\n",
       "      <td>19</td>\n",
       "      <td>15</td>\n",
       "    </tr>\n",
       "    <tr>\n",
       "      <th>3</th>\n",
       "      <td>Multiple carriers</td>\n",
       "      <td>Delhi</td>\n",
       "      <td>Cochin</td>\n",
       "      <td>21:00</td>\n",
       "      <td>13h</td>\n",
       "      <td>1 stop</td>\n",
       "      <td>No info</td>\n",
       "      <td>2019</td>\n",
       "      <td>5</td>\n",
       "      <td>21</td>\n",
       "      <td>8</td>\n",
       "      <td>0</td>\n",
       "    </tr>\n",
       "    <tr>\n",
       "      <th>4</th>\n",
       "      <td>Air Asia</td>\n",
       "      <td>Banglore</td>\n",
       "      <td>Delhi</td>\n",
       "      <td>02:45 25 Jun</td>\n",
       "      <td>2h 50m</td>\n",
       "      <td>non-stop</td>\n",
       "      <td>No info</td>\n",
       "      <td>2019</td>\n",
       "      <td>6</td>\n",
       "      <td>24</td>\n",
       "      <td>23</td>\n",
       "      <td>55</td>\n",
       "    </tr>\n",
       "  </tbody>\n",
       "</table>\n",
       "</div>"
      ],
      "text/plain": [
       "             Airline    Source Destination  Arrival_Time Duration Total_Stops  \\\n",
       "0        Jet Airways     Delhi      Cochin  04:25 07 Jun  10h 55m      1 stop   \n",
       "1             IndiGo   Kolkata    Banglore         10:20       4h      1 stop   \n",
       "2        Jet Airways     Delhi      Cochin  19:00 22 May  23h 45m      1 stop   \n",
       "3  Multiple carriers     Delhi      Cochin         21:00      13h      1 stop   \n",
       "4           Air Asia  Banglore       Delhi  02:45 25 Jun   2h 50m    non-stop   \n",
       "\n",
       "               Additional_Info  Date_of_Journey_Year  Date_of_Journey_Month  \\\n",
       "0                      No info                  2019                      6   \n",
       "1                      No info                  2019                     12   \n",
       "2  In-flight meal not included                  2019                      5   \n",
       "3                      No info                  2019                      5   \n",
       "4                      No info                  2019                      6   \n",
       "\n",
       "   Date_of_Journey_Day  Dep_Time_hour  Dep_Time_min  \n",
       "0                    6             17            30  \n",
       "1                    5              6            20  \n",
       "2                   21             19            15  \n",
       "3                   21              8             0  \n",
       "4                   24             23            55  "
      ]
     },
     "execution_count": 20,
     "metadata": {},
     "output_type": "execute_result"
    }
   ],
   "source": [
    "test.head()"
   ]
  },
  {
   "cell_type": "code",
   "execution_count": 21,
   "metadata": {},
   "outputs": [],
   "source": [
    "train[\"Arrival_Time\"] = pd.to_datetime(train[\"Arrival_Time\"])\n",
    "test[\"Arrival_Time\"] = pd.to_datetime(test[\"Arrival_Time\"])"
   ]
  },
  {
   "cell_type": "code",
   "execution_count": 22,
   "metadata": {},
   "outputs": [],
   "source": [
    "train[\"Arrival_Time_hour\"] = train[\"Arrival_Time\"].dt.hour\n",
    "train[\"Arrival_Time_min\"] = train[\"Arrival_Time\"].dt.minute\n",
    "\n",
    "test[\"Arrival_Time_hour\"] = test[\"Arrival_Time\"].dt.hour\n",
    "test[\"Arrival_Time_min\"] = test[\"Arrival_Time\"].dt.minute"
   ]
  },
  {
   "cell_type": "code",
   "execution_count": 23,
   "metadata": {},
   "outputs": [],
   "source": [
    "train = train.drop(columns = \"Arrival_Time\")\n",
    "test = test.drop(columns = \"Arrival_Time\")"
   ]
  },
  {
   "cell_type": "code",
   "execution_count": 24,
   "metadata": {},
   "outputs": [
    {
     "data": {
      "text/html": [
       "<div>\n",
       "<style scoped>\n",
       "    .dataframe tbody tr th:only-of-type {\n",
       "        vertical-align: middle;\n",
       "    }\n",
       "\n",
       "    .dataframe tbody tr th {\n",
       "        vertical-align: top;\n",
       "    }\n",
       "\n",
       "    .dataframe thead th {\n",
       "        text-align: right;\n",
       "    }\n",
       "</style>\n",
       "<table border=\"1\" class=\"dataframe\">\n",
       "  <thead>\n",
       "    <tr style=\"text-align: right;\">\n",
       "      <th></th>\n",
       "      <th>Airline</th>\n",
       "      <th>Source</th>\n",
       "      <th>Destination</th>\n",
       "      <th>Duration</th>\n",
       "      <th>Total_Stops</th>\n",
       "      <th>Additional_Info</th>\n",
       "      <th>Price</th>\n",
       "      <th>Date_of_Journey_Year</th>\n",
       "      <th>Date_of_Journey_Month</th>\n",
       "      <th>Date_of_Journey_Day</th>\n",
       "      <th>Dep_Time_hour</th>\n",
       "      <th>Dep_Time_min</th>\n",
       "      <th>Arrival_Time_hour</th>\n",
       "      <th>Arrival_Time_min</th>\n",
       "    </tr>\n",
       "  </thead>\n",
       "  <tbody>\n",
       "    <tr>\n",
       "      <th>0</th>\n",
       "      <td>IndiGo</td>\n",
       "      <td>Banglore</td>\n",
       "      <td>New Delhi</td>\n",
       "      <td>2h 50m</td>\n",
       "      <td>non-stop</td>\n",
       "      <td>No info</td>\n",
       "      <td>3897</td>\n",
       "      <td>2019</td>\n",
       "      <td>3</td>\n",
       "      <td>24</td>\n",
       "      <td>22</td>\n",
       "      <td>20</td>\n",
       "      <td>1</td>\n",
       "      <td>10</td>\n",
       "    </tr>\n",
       "    <tr>\n",
       "      <th>1</th>\n",
       "      <td>Air India</td>\n",
       "      <td>Kolkata</td>\n",
       "      <td>Banglore</td>\n",
       "      <td>7h 25m</td>\n",
       "      <td>2 stops</td>\n",
       "      <td>No info</td>\n",
       "      <td>7662</td>\n",
       "      <td>2019</td>\n",
       "      <td>1</td>\n",
       "      <td>5</td>\n",
       "      <td>5</td>\n",
       "      <td>50</td>\n",
       "      <td>13</td>\n",
       "      <td>15</td>\n",
       "    </tr>\n",
       "    <tr>\n",
       "      <th>2</th>\n",
       "      <td>Jet Airways</td>\n",
       "      <td>Delhi</td>\n",
       "      <td>Cochin</td>\n",
       "      <td>19h</td>\n",
       "      <td>2 stops</td>\n",
       "      <td>No info</td>\n",
       "      <td>13882</td>\n",
       "      <td>2019</td>\n",
       "      <td>9</td>\n",
       "      <td>6</td>\n",
       "      <td>9</td>\n",
       "      <td>25</td>\n",
       "      <td>4</td>\n",
       "      <td>25</td>\n",
       "    </tr>\n",
       "    <tr>\n",
       "      <th>3</th>\n",
       "      <td>IndiGo</td>\n",
       "      <td>Kolkata</td>\n",
       "      <td>Banglore</td>\n",
       "      <td>5h 25m</td>\n",
       "      <td>1 stop</td>\n",
       "      <td>No info</td>\n",
       "      <td>6218</td>\n",
       "      <td>2019</td>\n",
       "      <td>12</td>\n",
       "      <td>5</td>\n",
       "      <td>18</td>\n",
       "      <td>5</td>\n",
       "      <td>23</td>\n",
       "      <td>30</td>\n",
       "    </tr>\n",
       "    <tr>\n",
       "      <th>4</th>\n",
       "      <td>IndiGo</td>\n",
       "      <td>Banglore</td>\n",
       "      <td>New Delhi</td>\n",
       "      <td>4h 45m</td>\n",
       "      <td>1 stop</td>\n",
       "      <td>No info</td>\n",
       "      <td>13302</td>\n",
       "      <td>2019</td>\n",
       "      <td>1</td>\n",
       "      <td>3</td>\n",
       "      <td>16</td>\n",
       "      <td>50</td>\n",
       "      <td>21</td>\n",
       "      <td>35</td>\n",
       "    </tr>\n",
       "  </tbody>\n",
       "</table>\n",
       "</div>"
      ],
      "text/plain": [
       "       Airline    Source Destination Duration Total_Stops Additional_Info  \\\n",
       "0       IndiGo  Banglore   New Delhi   2h 50m    non-stop         No info   \n",
       "1    Air India   Kolkata    Banglore   7h 25m     2 stops         No info   \n",
       "2  Jet Airways     Delhi      Cochin      19h     2 stops         No info   \n",
       "3       IndiGo   Kolkata    Banglore   5h 25m      1 stop         No info   \n",
       "4       IndiGo  Banglore   New Delhi   4h 45m      1 stop         No info   \n",
       "\n",
       "   Price  Date_of_Journey_Year  Date_of_Journey_Month  Date_of_Journey_Day  \\\n",
       "0   3897                  2019                      3                   24   \n",
       "1   7662                  2019                      1                    5   \n",
       "2  13882                  2019                      9                    6   \n",
       "3   6218                  2019                     12                    5   \n",
       "4  13302                  2019                      1                    3   \n",
       "\n",
       "   Dep_Time_hour  Dep_Time_min  Arrival_Time_hour  Arrival_Time_min  \n",
       "0             22            20                  1                10  \n",
       "1              5            50                 13                15  \n",
       "2              9            25                  4                25  \n",
       "3             18             5                 23                30  \n",
       "4             16            50                 21                35  "
      ]
     },
     "execution_count": 24,
     "metadata": {},
     "output_type": "execute_result"
    }
   ],
   "source": [
    "train.head()"
   ]
  },
  {
   "cell_type": "code",
   "execution_count": 25,
   "metadata": {
    "scrolled": true
   },
   "outputs": [
    {
     "data": {
      "text/html": [
       "<div>\n",
       "<style scoped>\n",
       "    .dataframe tbody tr th:only-of-type {\n",
       "        vertical-align: middle;\n",
       "    }\n",
       "\n",
       "    .dataframe tbody tr th {\n",
       "        vertical-align: top;\n",
       "    }\n",
       "\n",
       "    .dataframe thead th {\n",
       "        text-align: right;\n",
       "    }\n",
       "</style>\n",
       "<table border=\"1\" class=\"dataframe\">\n",
       "  <thead>\n",
       "    <tr style=\"text-align: right;\">\n",
       "      <th></th>\n",
       "      <th>Airline</th>\n",
       "      <th>Source</th>\n",
       "      <th>Destination</th>\n",
       "      <th>Duration</th>\n",
       "      <th>Total_Stops</th>\n",
       "      <th>Additional_Info</th>\n",
       "      <th>Date_of_Journey_Year</th>\n",
       "      <th>Date_of_Journey_Month</th>\n",
       "      <th>Date_of_Journey_Day</th>\n",
       "      <th>Dep_Time_hour</th>\n",
       "      <th>Dep_Time_min</th>\n",
       "      <th>Arrival_Time_hour</th>\n",
       "      <th>Arrival_Time_min</th>\n",
       "    </tr>\n",
       "  </thead>\n",
       "  <tbody>\n",
       "    <tr>\n",
       "      <th>0</th>\n",
       "      <td>Jet Airways</td>\n",
       "      <td>Delhi</td>\n",
       "      <td>Cochin</td>\n",
       "      <td>10h 55m</td>\n",
       "      <td>1 stop</td>\n",
       "      <td>No info</td>\n",
       "      <td>2019</td>\n",
       "      <td>6</td>\n",
       "      <td>6</td>\n",
       "      <td>17</td>\n",
       "      <td>30</td>\n",
       "      <td>4</td>\n",
       "      <td>25</td>\n",
       "    </tr>\n",
       "    <tr>\n",
       "      <th>1</th>\n",
       "      <td>IndiGo</td>\n",
       "      <td>Kolkata</td>\n",
       "      <td>Banglore</td>\n",
       "      <td>4h</td>\n",
       "      <td>1 stop</td>\n",
       "      <td>No info</td>\n",
       "      <td>2019</td>\n",
       "      <td>12</td>\n",
       "      <td>5</td>\n",
       "      <td>6</td>\n",
       "      <td>20</td>\n",
       "      <td>10</td>\n",
       "      <td>20</td>\n",
       "    </tr>\n",
       "    <tr>\n",
       "      <th>2</th>\n",
       "      <td>Jet Airways</td>\n",
       "      <td>Delhi</td>\n",
       "      <td>Cochin</td>\n",
       "      <td>23h 45m</td>\n",
       "      <td>1 stop</td>\n",
       "      <td>In-flight meal not included</td>\n",
       "      <td>2019</td>\n",
       "      <td>5</td>\n",
       "      <td>21</td>\n",
       "      <td>19</td>\n",
       "      <td>15</td>\n",
       "      <td>19</td>\n",
       "      <td>0</td>\n",
       "    </tr>\n",
       "    <tr>\n",
       "      <th>3</th>\n",
       "      <td>Multiple carriers</td>\n",
       "      <td>Delhi</td>\n",
       "      <td>Cochin</td>\n",
       "      <td>13h</td>\n",
       "      <td>1 stop</td>\n",
       "      <td>No info</td>\n",
       "      <td>2019</td>\n",
       "      <td>5</td>\n",
       "      <td>21</td>\n",
       "      <td>8</td>\n",
       "      <td>0</td>\n",
       "      <td>21</td>\n",
       "      <td>0</td>\n",
       "    </tr>\n",
       "    <tr>\n",
       "      <th>4</th>\n",
       "      <td>Air Asia</td>\n",
       "      <td>Banglore</td>\n",
       "      <td>Delhi</td>\n",
       "      <td>2h 50m</td>\n",
       "      <td>non-stop</td>\n",
       "      <td>No info</td>\n",
       "      <td>2019</td>\n",
       "      <td>6</td>\n",
       "      <td>24</td>\n",
       "      <td>23</td>\n",
       "      <td>55</td>\n",
       "      <td>2</td>\n",
       "      <td>45</td>\n",
       "    </tr>\n",
       "  </tbody>\n",
       "</table>\n",
       "</div>"
      ],
      "text/plain": [
       "             Airline    Source Destination Duration Total_Stops  \\\n",
       "0        Jet Airways     Delhi      Cochin  10h 55m      1 stop   \n",
       "1             IndiGo   Kolkata    Banglore       4h      1 stop   \n",
       "2        Jet Airways     Delhi      Cochin  23h 45m      1 stop   \n",
       "3  Multiple carriers     Delhi      Cochin      13h      1 stop   \n",
       "4           Air Asia  Banglore       Delhi   2h 50m    non-stop   \n",
       "\n",
       "               Additional_Info  Date_of_Journey_Year  Date_of_Journey_Month  \\\n",
       "0                      No info                  2019                      6   \n",
       "1                      No info                  2019                     12   \n",
       "2  In-flight meal not included                  2019                      5   \n",
       "3                      No info                  2019                      5   \n",
       "4                      No info                  2019                      6   \n",
       "\n",
       "   Date_of_Journey_Day  Dep_Time_hour  Dep_Time_min  Arrival_Time_hour  \\\n",
       "0                    6             17            30                  4   \n",
       "1                    5              6            20                 10   \n",
       "2                   21             19            15                 19   \n",
       "3                   21              8             0                 21   \n",
       "4                   24             23            55                  2   \n",
       "\n",
       "   Arrival_Time_min  \n",
       "0                25  \n",
       "1                20  \n",
       "2                 0  \n",
       "3                 0  \n",
       "4                45  "
      ]
     },
     "execution_count": 25,
     "metadata": {},
     "output_type": "execute_result"
    }
   ],
   "source": [
    "test.head()"
   ]
  },
  {
   "cell_type": "code",
   "execution_count": 26,
   "metadata": {},
   "outputs": [],
   "source": [
    "# The duration column is in the form of string i.e. there is hours \"h\" and minutes \"m\". Therefore to change this into minutes\n",
    "# the following is to be done: - \n",
    "\n",
    "duration_train = list(train[\"Duration\"])\n",
    "\n",
    "for i in range (len(duration_train)):\n",
    "    if len(duration_train[i].split())!=2: \n",
    "#To check if duration has both hours and minutes , if yes , implement the below logic\n",
    "        if \"h\" in duration_train[i]:\n",
    "            duration_train[i] = duration_train[i].strip() + \" 0m\"\n",
    "        else:\n",
    "            duration_train[i] = \"0h \" + duration_train[i]\n",
    "            \n",
    "duration_train_hours = []\n",
    "duration_train_mins = []\n",
    "\n",
    "for i in range(len(duration_train)):\n",
    "    duration_train_hours.append(int(duration_train[i].split(sep = 'h')[0]))\n",
    "    # To get hours in duration\n",
    "    duration_train_mins.append(int(duration_train[i].split(sep = 'm')[0].split()[-1]))\n",
    "    # To get minutes in duration\n",
    "# -------------------------------------------------------------------------------------------------    \n",
    "\n",
    "duration_test = list(test[\"Duration\"])\n",
    "\n",
    "for i in range (len(duration_test)):\n",
    "    if len(duration_test[i].split())!=2: \n",
    "#To check if duration has both hours and minutes , if yes , implement the below logic\n",
    "        if \"h\" in duration_test[i]:\n",
    "            duration_test[i] = duration_test[i].strip() + \" 0m\"\n",
    "        else:\n",
    "            duration_test[i] = \"0h \" + duration_test[i]\n",
    "            \n",
    "duration_test_hours = []\n",
    "duration_test_mins = []\n",
    "\n",
    "for i in range(len(duration_test)):\n",
    "    duration_test_hours.append(int(duration_test[i].split(sep = 'h')[0]))\n",
    "    # To get hours in duration\n",
    "    duration_test_mins.append(int(duration_test[i].split(sep = 'm')[0].split()[-1]))\n",
    "    # To get minutes in duration"
   ]
  },
  {
   "cell_type": "code",
   "execution_count": 27,
   "metadata": {},
   "outputs": [],
   "source": [
    "train['Duration_hours'] = duration_train_hours\n",
    "train['Duration_minutes'] = duration_train_mins\n",
    "\n",
    "#---------------------------------------------\n",
    "\n",
    "test['Duration_hours'] = duration_test_hours\n",
    "test['Duration_minutes'] = duration_test_mins"
   ]
  },
  {
   "cell_type": "code",
   "execution_count": 28,
   "metadata": {},
   "outputs": [],
   "source": [
    "#Splitting duration  time\n",
    "\n",
    "#a=df_train['Duration'].str.split(' ',expand=True)\n",
    "#a[1].fillna('00m',inplace=True)\n",
    "#df_train['dur_hr']=a[0].apply(lambda x: x[:-1])\n",
    "#df_train['dur_min']=a[1].apply(lambda x: x[:-1])"
   ]
  },
  {
   "cell_type": "code",
   "execution_count": 29,
   "metadata": {},
   "outputs": [],
   "source": [
    "train = train.drop(columns = \"Duration\")\n",
    "test = test.drop(columns = \"Duration\")"
   ]
  },
  {
   "cell_type": "code",
   "execution_count": 30,
   "metadata": {
    "scrolled": true
   },
   "outputs": [
    {
     "data": {
      "text/html": [
       "<div>\n",
       "<style scoped>\n",
       "    .dataframe tbody tr th:only-of-type {\n",
       "        vertical-align: middle;\n",
       "    }\n",
       "\n",
       "    .dataframe tbody tr th {\n",
       "        vertical-align: top;\n",
       "    }\n",
       "\n",
       "    .dataframe thead th {\n",
       "        text-align: right;\n",
       "    }\n",
       "</style>\n",
       "<table border=\"1\" class=\"dataframe\">\n",
       "  <thead>\n",
       "    <tr style=\"text-align: right;\">\n",
       "      <th></th>\n",
       "      <th>Airline</th>\n",
       "      <th>Source</th>\n",
       "      <th>Destination</th>\n",
       "      <th>Total_Stops</th>\n",
       "      <th>Additional_Info</th>\n",
       "      <th>Price</th>\n",
       "      <th>Date_of_Journey_Year</th>\n",
       "      <th>Date_of_Journey_Month</th>\n",
       "      <th>Date_of_Journey_Day</th>\n",
       "      <th>Dep_Time_hour</th>\n",
       "      <th>Dep_Time_min</th>\n",
       "      <th>Arrival_Time_hour</th>\n",
       "      <th>Arrival_Time_min</th>\n",
       "      <th>Duration_hours</th>\n",
       "      <th>Duration_minutes</th>\n",
       "    </tr>\n",
       "  </thead>\n",
       "  <tbody>\n",
       "    <tr>\n",
       "      <th>0</th>\n",
       "      <td>IndiGo</td>\n",
       "      <td>Banglore</td>\n",
       "      <td>New Delhi</td>\n",
       "      <td>non-stop</td>\n",
       "      <td>No info</td>\n",
       "      <td>3897</td>\n",
       "      <td>2019</td>\n",
       "      <td>3</td>\n",
       "      <td>24</td>\n",
       "      <td>22</td>\n",
       "      <td>20</td>\n",
       "      <td>1</td>\n",
       "      <td>10</td>\n",
       "      <td>2</td>\n",
       "      <td>50</td>\n",
       "    </tr>\n",
       "    <tr>\n",
       "      <th>1</th>\n",
       "      <td>Air India</td>\n",
       "      <td>Kolkata</td>\n",
       "      <td>Banglore</td>\n",
       "      <td>2 stops</td>\n",
       "      <td>No info</td>\n",
       "      <td>7662</td>\n",
       "      <td>2019</td>\n",
       "      <td>1</td>\n",
       "      <td>5</td>\n",
       "      <td>5</td>\n",
       "      <td>50</td>\n",
       "      <td>13</td>\n",
       "      <td>15</td>\n",
       "      <td>7</td>\n",
       "      <td>25</td>\n",
       "    </tr>\n",
       "    <tr>\n",
       "      <th>2</th>\n",
       "      <td>Jet Airways</td>\n",
       "      <td>Delhi</td>\n",
       "      <td>Cochin</td>\n",
       "      <td>2 stops</td>\n",
       "      <td>No info</td>\n",
       "      <td>13882</td>\n",
       "      <td>2019</td>\n",
       "      <td>9</td>\n",
       "      <td>6</td>\n",
       "      <td>9</td>\n",
       "      <td>25</td>\n",
       "      <td>4</td>\n",
       "      <td>25</td>\n",
       "      <td>19</td>\n",
       "      <td>0</td>\n",
       "    </tr>\n",
       "    <tr>\n",
       "      <th>3</th>\n",
       "      <td>IndiGo</td>\n",
       "      <td>Kolkata</td>\n",
       "      <td>Banglore</td>\n",
       "      <td>1 stop</td>\n",
       "      <td>No info</td>\n",
       "      <td>6218</td>\n",
       "      <td>2019</td>\n",
       "      <td>12</td>\n",
       "      <td>5</td>\n",
       "      <td>18</td>\n",
       "      <td>5</td>\n",
       "      <td>23</td>\n",
       "      <td>30</td>\n",
       "      <td>5</td>\n",
       "      <td>25</td>\n",
       "    </tr>\n",
       "    <tr>\n",
       "      <th>4</th>\n",
       "      <td>IndiGo</td>\n",
       "      <td>Banglore</td>\n",
       "      <td>New Delhi</td>\n",
       "      <td>1 stop</td>\n",
       "      <td>No info</td>\n",
       "      <td>13302</td>\n",
       "      <td>2019</td>\n",
       "      <td>1</td>\n",
       "      <td>3</td>\n",
       "      <td>16</td>\n",
       "      <td>50</td>\n",
       "      <td>21</td>\n",
       "      <td>35</td>\n",
       "      <td>4</td>\n",
       "      <td>45</td>\n",
       "    </tr>\n",
       "  </tbody>\n",
       "</table>\n",
       "</div>"
      ],
      "text/plain": [
       "       Airline    Source Destination Total_Stops Additional_Info  Price  \\\n",
       "0       IndiGo  Banglore   New Delhi    non-stop         No info   3897   \n",
       "1    Air India   Kolkata    Banglore     2 stops         No info   7662   \n",
       "2  Jet Airways     Delhi      Cochin     2 stops         No info  13882   \n",
       "3       IndiGo   Kolkata    Banglore      1 stop         No info   6218   \n",
       "4       IndiGo  Banglore   New Delhi      1 stop         No info  13302   \n",
       "\n",
       "   Date_of_Journey_Year  Date_of_Journey_Month  Date_of_Journey_Day  \\\n",
       "0                  2019                      3                   24   \n",
       "1                  2019                      1                    5   \n",
       "2                  2019                      9                    6   \n",
       "3                  2019                     12                    5   \n",
       "4                  2019                      1                    3   \n",
       "\n",
       "   Dep_Time_hour  Dep_Time_min  Arrival_Time_hour  Arrival_Time_min  \\\n",
       "0             22            20                  1                10   \n",
       "1              5            50                 13                15   \n",
       "2              9            25                  4                25   \n",
       "3             18             5                 23                30   \n",
       "4             16            50                 21                35   \n",
       "\n",
       "   Duration_hours  Duration_minutes  \n",
       "0               2                50  \n",
       "1               7                25  \n",
       "2              19                 0  \n",
       "3               5                25  \n",
       "4               4                45  "
      ]
     },
     "execution_count": 30,
     "metadata": {},
     "output_type": "execute_result"
    }
   ],
   "source": [
    "train.head()"
   ]
  },
  {
   "cell_type": "code",
   "execution_count": 31,
   "metadata": {
    "scrolled": true
   },
   "outputs": [
    {
     "data": {
      "text/html": [
       "<div>\n",
       "<style scoped>\n",
       "    .dataframe tbody tr th:only-of-type {\n",
       "        vertical-align: middle;\n",
       "    }\n",
       "\n",
       "    .dataframe tbody tr th {\n",
       "        vertical-align: top;\n",
       "    }\n",
       "\n",
       "    .dataframe thead th {\n",
       "        text-align: right;\n",
       "    }\n",
       "</style>\n",
       "<table border=\"1\" class=\"dataframe\">\n",
       "  <thead>\n",
       "    <tr style=\"text-align: right;\">\n",
       "      <th></th>\n",
       "      <th>Airline</th>\n",
       "      <th>Source</th>\n",
       "      <th>Destination</th>\n",
       "      <th>Total_Stops</th>\n",
       "      <th>Additional_Info</th>\n",
       "      <th>Date_of_Journey_Year</th>\n",
       "      <th>Date_of_Journey_Month</th>\n",
       "      <th>Date_of_Journey_Day</th>\n",
       "      <th>Dep_Time_hour</th>\n",
       "      <th>Dep_Time_min</th>\n",
       "      <th>Arrival_Time_hour</th>\n",
       "      <th>Arrival_Time_min</th>\n",
       "      <th>Duration_hours</th>\n",
       "      <th>Duration_minutes</th>\n",
       "    </tr>\n",
       "  </thead>\n",
       "  <tbody>\n",
       "    <tr>\n",
       "      <th>0</th>\n",
       "      <td>Jet Airways</td>\n",
       "      <td>Delhi</td>\n",
       "      <td>Cochin</td>\n",
       "      <td>1 stop</td>\n",
       "      <td>No info</td>\n",
       "      <td>2019</td>\n",
       "      <td>6</td>\n",
       "      <td>6</td>\n",
       "      <td>17</td>\n",
       "      <td>30</td>\n",
       "      <td>4</td>\n",
       "      <td>25</td>\n",
       "      <td>10</td>\n",
       "      <td>55</td>\n",
       "    </tr>\n",
       "    <tr>\n",
       "      <th>1</th>\n",
       "      <td>IndiGo</td>\n",
       "      <td>Kolkata</td>\n",
       "      <td>Banglore</td>\n",
       "      <td>1 stop</td>\n",
       "      <td>No info</td>\n",
       "      <td>2019</td>\n",
       "      <td>12</td>\n",
       "      <td>5</td>\n",
       "      <td>6</td>\n",
       "      <td>20</td>\n",
       "      <td>10</td>\n",
       "      <td>20</td>\n",
       "      <td>4</td>\n",
       "      <td>0</td>\n",
       "    </tr>\n",
       "    <tr>\n",
       "      <th>2</th>\n",
       "      <td>Jet Airways</td>\n",
       "      <td>Delhi</td>\n",
       "      <td>Cochin</td>\n",
       "      <td>1 stop</td>\n",
       "      <td>In-flight meal not included</td>\n",
       "      <td>2019</td>\n",
       "      <td>5</td>\n",
       "      <td>21</td>\n",
       "      <td>19</td>\n",
       "      <td>15</td>\n",
       "      <td>19</td>\n",
       "      <td>0</td>\n",
       "      <td>23</td>\n",
       "      <td>45</td>\n",
       "    </tr>\n",
       "    <tr>\n",
       "      <th>3</th>\n",
       "      <td>Multiple carriers</td>\n",
       "      <td>Delhi</td>\n",
       "      <td>Cochin</td>\n",
       "      <td>1 stop</td>\n",
       "      <td>No info</td>\n",
       "      <td>2019</td>\n",
       "      <td>5</td>\n",
       "      <td>21</td>\n",
       "      <td>8</td>\n",
       "      <td>0</td>\n",
       "      <td>21</td>\n",
       "      <td>0</td>\n",
       "      <td>13</td>\n",
       "      <td>0</td>\n",
       "    </tr>\n",
       "    <tr>\n",
       "      <th>4</th>\n",
       "      <td>Air Asia</td>\n",
       "      <td>Banglore</td>\n",
       "      <td>Delhi</td>\n",
       "      <td>non-stop</td>\n",
       "      <td>No info</td>\n",
       "      <td>2019</td>\n",
       "      <td>6</td>\n",
       "      <td>24</td>\n",
       "      <td>23</td>\n",
       "      <td>55</td>\n",
       "      <td>2</td>\n",
       "      <td>45</td>\n",
       "      <td>2</td>\n",
       "      <td>50</td>\n",
       "    </tr>\n",
       "  </tbody>\n",
       "</table>\n",
       "</div>"
      ],
      "text/plain": [
       "             Airline    Source Destination Total_Stops  \\\n",
       "0        Jet Airways     Delhi      Cochin      1 stop   \n",
       "1             IndiGo   Kolkata    Banglore      1 stop   \n",
       "2        Jet Airways     Delhi      Cochin      1 stop   \n",
       "3  Multiple carriers     Delhi      Cochin      1 stop   \n",
       "4           Air Asia  Banglore       Delhi    non-stop   \n",
       "\n",
       "               Additional_Info  Date_of_Journey_Year  Date_of_Journey_Month  \\\n",
       "0                      No info                  2019                      6   \n",
       "1                      No info                  2019                     12   \n",
       "2  In-flight meal not included                  2019                      5   \n",
       "3                      No info                  2019                      5   \n",
       "4                      No info                  2019                      6   \n",
       "\n",
       "   Date_of_Journey_Day  Dep_Time_hour  Dep_Time_min  Arrival_Time_hour  \\\n",
       "0                    6             17            30                  4   \n",
       "1                    5              6            20                 10   \n",
       "2                   21             19            15                 19   \n",
       "3                   21              8             0                 21   \n",
       "4                   24             23            55                  2   \n",
       "\n",
       "   Arrival_Time_min  Duration_hours  Duration_minutes  \n",
       "0                25              10                55  \n",
       "1                20               4                 0  \n",
       "2                 0              23                45  \n",
       "3                 0              13                 0  \n",
       "4                45               2                50  "
      ]
     },
     "execution_count": 31,
     "metadata": {},
     "output_type": "execute_result"
    }
   ],
   "source": [
    "test.head()"
   ]
  },
  {
   "cell_type": "code",
   "execution_count": 32,
   "metadata": {},
   "outputs": [
    {
     "data": {
      "text/plain": [
       "array(['non-stop', '2 stops', '1 stop', '3 stops', nan, '4 stops'],\n",
       "      dtype=object)"
      ]
     },
     "execution_count": 32,
     "metadata": {},
     "output_type": "execute_result"
    }
   ],
   "source": [
    "train[\"Total_Stops\"].unique()"
   ]
  },
  {
   "cell_type": "code",
   "execution_count": 33,
   "metadata": {},
   "outputs": [
    {
     "data": {
      "text/plain": [
       "Airline                  False\n",
       "Source                   False\n",
       "Destination              False\n",
       "Total_Stops              False\n",
       "Additional_Info          False\n",
       "Date_of_Journey_Year     False\n",
       "Date_of_Journey_Month    False\n",
       "Date_of_Journey_Day      False\n",
       "Dep_Time_hour            False\n",
       "Dep_Time_min             False\n",
       "Arrival_Time_hour        False\n",
       "Arrival_Time_min         False\n",
       "Duration_hours           False\n",
       "Duration_minutes         False\n",
       "dtype: bool"
      ]
     },
     "execution_count": 33,
     "metadata": {},
     "output_type": "execute_result"
    }
   ],
   "source": [
    "test.isna().any()"
   ]
  },
  {
   "cell_type": "code",
   "execution_count": 34,
   "metadata": {},
   "outputs": [
    {
     "data": {
      "text/plain": [
       "Airline                  0\n",
       "Source                   0\n",
       "Destination              0\n",
       "Total_Stops              1\n",
       "Additional_Info          0\n",
       "Price                    0\n",
       "Date_of_Journey_Year     0\n",
       "Date_of_Journey_Month    0\n",
       "Date_of_Journey_Day      0\n",
       "Dep_Time_hour            0\n",
       "Dep_Time_min             0\n",
       "Arrival_Time_hour        0\n",
       "Arrival_Time_min         0\n",
       "Duration_hours           0\n",
       "Duration_minutes         0\n",
       "dtype: int64"
      ]
     },
     "execution_count": 34,
     "metadata": {},
     "output_type": "execute_result"
    }
   ],
   "source": [
    "count_nan = len(train) - train.count()\n",
    "count_nan"
   ]
  },
  {
   "cell_type": "code",
   "execution_count": 35,
   "metadata": {},
   "outputs": [],
   "source": [
    "train = train.dropna(subset=['Total_Stops'])\n",
    "test = test.dropna(subset=['Total_Stops'])"
   ]
  },
  {
   "cell_type": "code",
   "execution_count": 36,
   "metadata": {},
   "outputs": [
    {
     "data": {
      "text/html": [
       "<div>\n",
       "<style scoped>\n",
       "    .dataframe tbody tr th:only-of-type {\n",
       "        vertical-align: middle;\n",
       "    }\n",
       "\n",
       "    .dataframe tbody tr th {\n",
       "        vertical-align: top;\n",
       "    }\n",
       "\n",
       "    .dataframe thead th {\n",
       "        text-align: right;\n",
       "    }\n",
       "</style>\n",
       "<table border=\"1\" class=\"dataframe\">\n",
       "  <thead>\n",
       "    <tr style=\"text-align: right;\">\n",
       "      <th></th>\n",
       "      <th>Airline</th>\n",
       "      <th>Source</th>\n",
       "      <th>Destination</th>\n",
       "      <th>Total_Stops</th>\n",
       "      <th>Additional_Info</th>\n",
       "      <th>Price</th>\n",
       "      <th>Date_of_Journey_Year</th>\n",
       "      <th>Date_of_Journey_Month</th>\n",
       "      <th>Date_of_Journey_Day</th>\n",
       "      <th>Dep_Time_hour</th>\n",
       "      <th>Dep_Time_min</th>\n",
       "      <th>Arrival_Time_hour</th>\n",
       "      <th>Arrival_Time_min</th>\n",
       "      <th>Duration_hours</th>\n",
       "      <th>Duration_minutes</th>\n",
       "    </tr>\n",
       "  </thead>\n",
       "  <tbody>\n",
       "    <tr>\n",
       "      <th>0</th>\n",
       "      <td>IndiGo</td>\n",
       "      <td>Banglore</td>\n",
       "      <td>New Delhi</td>\n",
       "      <td>non-stop</td>\n",
       "      <td>No info</td>\n",
       "      <td>3897</td>\n",
       "      <td>2019</td>\n",
       "      <td>3</td>\n",
       "      <td>24</td>\n",
       "      <td>22</td>\n",
       "      <td>20</td>\n",
       "      <td>1</td>\n",
       "      <td>10</td>\n",
       "      <td>2</td>\n",
       "      <td>50</td>\n",
       "    </tr>\n",
       "    <tr>\n",
       "      <th>1</th>\n",
       "      <td>Air India</td>\n",
       "      <td>Kolkata</td>\n",
       "      <td>Banglore</td>\n",
       "      <td>2 stops</td>\n",
       "      <td>No info</td>\n",
       "      <td>7662</td>\n",
       "      <td>2019</td>\n",
       "      <td>1</td>\n",
       "      <td>5</td>\n",
       "      <td>5</td>\n",
       "      <td>50</td>\n",
       "      <td>13</td>\n",
       "      <td>15</td>\n",
       "      <td>7</td>\n",
       "      <td>25</td>\n",
       "    </tr>\n",
       "    <tr>\n",
       "      <th>2</th>\n",
       "      <td>Jet Airways</td>\n",
       "      <td>Delhi</td>\n",
       "      <td>Cochin</td>\n",
       "      <td>2 stops</td>\n",
       "      <td>No info</td>\n",
       "      <td>13882</td>\n",
       "      <td>2019</td>\n",
       "      <td>9</td>\n",
       "      <td>6</td>\n",
       "      <td>9</td>\n",
       "      <td>25</td>\n",
       "      <td>4</td>\n",
       "      <td>25</td>\n",
       "      <td>19</td>\n",
       "      <td>0</td>\n",
       "    </tr>\n",
       "    <tr>\n",
       "      <th>3</th>\n",
       "      <td>IndiGo</td>\n",
       "      <td>Kolkata</td>\n",
       "      <td>Banglore</td>\n",
       "      <td>1 stop</td>\n",
       "      <td>No info</td>\n",
       "      <td>6218</td>\n",
       "      <td>2019</td>\n",
       "      <td>12</td>\n",
       "      <td>5</td>\n",
       "      <td>18</td>\n",
       "      <td>5</td>\n",
       "      <td>23</td>\n",
       "      <td>30</td>\n",
       "      <td>5</td>\n",
       "      <td>25</td>\n",
       "    </tr>\n",
       "    <tr>\n",
       "      <th>4</th>\n",
       "      <td>IndiGo</td>\n",
       "      <td>Banglore</td>\n",
       "      <td>New Delhi</td>\n",
       "      <td>1 stop</td>\n",
       "      <td>No info</td>\n",
       "      <td>13302</td>\n",
       "      <td>2019</td>\n",
       "      <td>1</td>\n",
       "      <td>3</td>\n",
       "      <td>16</td>\n",
       "      <td>50</td>\n",
       "      <td>21</td>\n",
       "      <td>35</td>\n",
       "      <td>4</td>\n",
       "      <td>45</td>\n",
       "    </tr>\n",
       "  </tbody>\n",
       "</table>\n",
       "</div>"
      ],
      "text/plain": [
       "       Airline    Source Destination Total_Stops Additional_Info  Price  \\\n",
       "0       IndiGo  Banglore   New Delhi    non-stop         No info   3897   \n",
       "1    Air India   Kolkata    Banglore     2 stops         No info   7662   \n",
       "2  Jet Airways     Delhi      Cochin     2 stops         No info  13882   \n",
       "3       IndiGo   Kolkata    Banglore      1 stop         No info   6218   \n",
       "4       IndiGo  Banglore   New Delhi      1 stop         No info  13302   \n",
       "\n",
       "   Date_of_Journey_Year  Date_of_Journey_Month  Date_of_Journey_Day  \\\n",
       "0                  2019                      3                   24   \n",
       "1                  2019                      1                    5   \n",
       "2                  2019                      9                    6   \n",
       "3                  2019                     12                    5   \n",
       "4                  2019                      1                    3   \n",
       "\n",
       "   Dep_Time_hour  Dep_Time_min  Arrival_Time_hour  Arrival_Time_min  \\\n",
       "0             22            20                  1                10   \n",
       "1              5            50                 13                15   \n",
       "2              9            25                  4                25   \n",
       "3             18             5                 23                30   \n",
       "4             16            50                 21                35   \n",
       "\n",
       "   Duration_hours  Duration_minutes  \n",
       "0               2                50  \n",
       "1               7                25  \n",
       "2              19                 0  \n",
       "3               5                25  \n",
       "4               4                45  "
      ]
     },
     "execution_count": 36,
     "metadata": {},
     "output_type": "execute_result"
    }
   ],
   "source": [
    "train.head()"
   ]
  },
  {
   "cell_type": "code",
   "execution_count": 37,
   "metadata": {},
   "outputs": [
    {
     "data": {
      "text/plain": [
       "Airline                  0\n",
       "Source                   0\n",
       "Destination              0\n",
       "Total_Stops              0\n",
       "Additional_Info          0\n",
       "Price                    0\n",
       "Date_of_Journey_Year     0\n",
       "Date_of_Journey_Month    0\n",
       "Date_of_Journey_Day      0\n",
       "Dep_Time_hour            0\n",
       "Dep_Time_min             0\n",
       "Arrival_Time_hour        0\n",
       "Arrival_Time_min         0\n",
       "Duration_hours           0\n",
       "Duration_minutes         0\n",
       "dtype: int64"
      ]
     },
     "execution_count": 37,
     "metadata": {},
     "output_type": "execute_result"
    }
   ],
   "source": [
    "count_nan = len(train) - train.count()\n",
    "count_nan"
   ]
  },
  {
   "cell_type": "code",
   "execution_count": 38,
   "metadata": {},
   "outputs": [
    {
     "data": {
      "text/plain": [
       "array(['No info', 'In-flight meal not included',\n",
       "       'No check-in baggage included', '1 Short layover', 'No Info',\n",
       "       '1 Long layover', 'Change airports', 'Business class',\n",
       "       'Red-eye flight', '2 Long layover'], dtype=object)"
      ]
     },
     "execution_count": 38,
     "metadata": {},
     "output_type": "execute_result"
    }
   ],
   "source": [
    "train[\"Additional_Info\"].unique()"
   ]
  },
  {
   "cell_type": "code",
   "execution_count": 39,
   "metadata": {
    "scrolled": true
   },
   "outputs": [
    {
     "name": "stdout",
     "output_type": "stream",
     "text": [
      "<class 'pandas.core.frame.DataFrame'>\n",
      "Int64Index: 10682 entries, 0 to 10682\n",
      "Data columns (total 15 columns):\n",
      " #   Column                 Non-Null Count  Dtype \n",
      "---  ------                 --------------  ----- \n",
      " 0   Airline                10682 non-null  object\n",
      " 1   Source                 10682 non-null  object\n",
      " 2   Destination            10682 non-null  object\n",
      " 3   Total_Stops            10682 non-null  object\n",
      " 4   Additional_Info        10682 non-null  object\n",
      " 5   Price                  10682 non-null  int64 \n",
      " 6   Date_of_Journey_Year   10682 non-null  int64 \n",
      " 7   Date_of_Journey_Month  10682 non-null  int64 \n",
      " 8   Date_of_Journey_Day    10682 non-null  int64 \n",
      " 9   Dep_Time_hour          10682 non-null  int64 \n",
      " 10  Dep_Time_min           10682 non-null  int64 \n",
      " 11  Arrival_Time_hour      10682 non-null  int64 \n",
      " 12  Arrival_Time_min       10682 non-null  int64 \n",
      " 13  Duration_hours         10682 non-null  int64 \n",
      " 14  Duration_minutes       10682 non-null  int64 \n",
      "dtypes: int64(10), object(5)\n",
      "memory usage: 1.3+ MB\n"
     ]
    }
   ],
   "source": [
    "train.info()"
   ]
  },
  {
   "cell_type": "code",
   "execution_count": 40,
   "metadata": {},
   "outputs": [
    {
     "data": {
      "text/html": [
       "<div>\n",
       "<style scoped>\n",
       "    .dataframe tbody tr th:only-of-type {\n",
       "        vertical-align: middle;\n",
       "    }\n",
       "\n",
       "    .dataframe tbody tr th {\n",
       "        vertical-align: top;\n",
       "    }\n",
       "\n",
       "    .dataframe thead th {\n",
       "        text-align: right;\n",
       "    }\n",
       "</style>\n",
       "<table border=\"1\" class=\"dataframe\">\n",
       "  <thead>\n",
       "    <tr style=\"text-align: right;\">\n",
       "      <th></th>\n",
       "      <th>Airline</th>\n",
       "      <th>Source</th>\n",
       "      <th>Destination</th>\n",
       "      <th>Total_Stops</th>\n",
       "      <th>Additional_Info</th>\n",
       "      <th>Price</th>\n",
       "      <th>Date_of_Journey_Year</th>\n",
       "      <th>Date_of_Journey_Month</th>\n",
       "      <th>Date_of_Journey_Day</th>\n",
       "      <th>Dep_Time_hour</th>\n",
       "      <th>Dep_Time_min</th>\n",
       "      <th>Arrival_Time_hour</th>\n",
       "      <th>Arrival_Time_min</th>\n",
       "      <th>Duration_hours</th>\n",
       "      <th>Duration_minutes</th>\n",
       "    </tr>\n",
       "  </thead>\n",
       "  <tbody>\n",
       "    <tr>\n",
       "      <th>0</th>\n",
       "      <td>IndiGo</td>\n",
       "      <td>Banglore</td>\n",
       "      <td>New Delhi</td>\n",
       "      <td>non-stop</td>\n",
       "      <td>No info</td>\n",
       "      <td>3897</td>\n",
       "      <td>2019</td>\n",
       "      <td>3</td>\n",
       "      <td>24</td>\n",
       "      <td>22</td>\n",
       "      <td>20</td>\n",
       "      <td>1</td>\n",
       "      <td>10</td>\n",
       "      <td>2</td>\n",
       "      <td>50</td>\n",
       "    </tr>\n",
       "    <tr>\n",
       "      <th>1</th>\n",
       "      <td>Air India</td>\n",
       "      <td>Kolkata</td>\n",
       "      <td>Banglore</td>\n",
       "      <td>2 stops</td>\n",
       "      <td>No info</td>\n",
       "      <td>7662</td>\n",
       "      <td>2019</td>\n",
       "      <td>1</td>\n",
       "      <td>5</td>\n",
       "      <td>5</td>\n",
       "      <td>50</td>\n",
       "      <td>13</td>\n",
       "      <td>15</td>\n",
       "      <td>7</td>\n",
       "      <td>25</td>\n",
       "    </tr>\n",
       "    <tr>\n",
       "      <th>2</th>\n",
       "      <td>Jet Airways</td>\n",
       "      <td>Delhi</td>\n",
       "      <td>Cochin</td>\n",
       "      <td>2 stops</td>\n",
       "      <td>No info</td>\n",
       "      <td>13882</td>\n",
       "      <td>2019</td>\n",
       "      <td>9</td>\n",
       "      <td>6</td>\n",
       "      <td>9</td>\n",
       "      <td>25</td>\n",
       "      <td>4</td>\n",
       "      <td>25</td>\n",
       "      <td>19</td>\n",
       "      <td>0</td>\n",
       "    </tr>\n",
       "    <tr>\n",
       "      <th>3</th>\n",
       "      <td>IndiGo</td>\n",
       "      <td>Kolkata</td>\n",
       "      <td>Banglore</td>\n",
       "      <td>1 stop</td>\n",
       "      <td>No info</td>\n",
       "      <td>6218</td>\n",
       "      <td>2019</td>\n",
       "      <td>12</td>\n",
       "      <td>5</td>\n",
       "      <td>18</td>\n",
       "      <td>5</td>\n",
       "      <td>23</td>\n",
       "      <td>30</td>\n",
       "      <td>5</td>\n",
       "      <td>25</td>\n",
       "    </tr>\n",
       "    <tr>\n",
       "      <th>4</th>\n",
       "      <td>IndiGo</td>\n",
       "      <td>Banglore</td>\n",
       "      <td>New Delhi</td>\n",
       "      <td>1 stop</td>\n",
       "      <td>No info</td>\n",
       "      <td>13302</td>\n",
       "      <td>2019</td>\n",
       "      <td>1</td>\n",
       "      <td>3</td>\n",
       "      <td>16</td>\n",
       "      <td>50</td>\n",
       "      <td>21</td>\n",
       "      <td>35</td>\n",
       "      <td>4</td>\n",
       "      <td>45</td>\n",
       "    </tr>\n",
       "  </tbody>\n",
       "</table>\n",
       "</div>"
      ],
      "text/plain": [
       "       Airline    Source Destination Total_Stops Additional_Info  Price  \\\n",
       "0       IndiGo  Banglore   New Delhi    non-stop         No info   3897   \n",
       "1    Air India   Kolkata    Banglore     2 stops         No info   7662   \n",
       "2  Jet Airways     Delhi      Cochin     2 stops         No info  13882   \n",
       "3       IndiGo   Kolkata    Banglore      1 stop         No info   6218   \n",
       "4       IndiGo  Banglore   New Delhi      1 stop         No info  13302   \n",
       "\n",
       "   Date_of_Journey_Year  Date_of_Journey_Month  Date_of_Journey_Day  \\\n",
       "0                  2019                      3                   24   \n",
       "1                  2019                      1                    5   \n",
       "2                  2019                      9                    6   \n",
       "3                  2019                     12                    5   \n",
       "4                  2019                      1                    3   \n",
       "\n",
       "   Dep_Time_hour  Dep_Time_min  Arrival_Time_hour  Arrival_Time_min  \\\n",
       "0             22            20                  1                10   \n",
       "1              5            50                 13                15   \n",
       "2              9            25                  4                25   \n",
       "3             18             5                 23                30   \n",
       "4             16            50                 21                35   \n",
       "\n",
       "   Duration_hours  Duration_minutes  \n",
       "0               2                50  \n",
       "1               7                25  \n",
       "2              19                 0  \n",
       "3               5                25  \n",
       "4               4                45  "
      ]
     },
     "execution_count": 40,
     "metadata": {},
     "output_type": "execute_result"
    }
   ],
   "source": [
    "train.head()"
   ]
  },
  {
   "cell_type": "code",
   "execution_count": 41,
   "metadata": {},
   "outputs": [
    {
     "data": {
      "text/plain": [
       "(1, 1)"
      ]
     },
     "execution_count": 41,
     "metadata": {},
     "output_type": "execute_result"
    }
   ],
   "source": [
    "train[\"Date_of_Journey_Year\"].nunique(), test[\"Date_of_Journey_Year\"].nunique()"
   ]
  },
  {
   "cell_type": "code",
   "execution_count": 42,
   "metadata": {},
   "outputs": [
    {
     "data": {
      "text/plain": [
       "(array(['Banglore', 'Kolkata', 'Delhi', 'Chennai', 'Mumbai'], dtype=object),\n",
       " array(['New Delhi', 'Banglore', 'Cochin', 'Kolkata', 'Delhi', 'Hyderabad'],\n",
       "       dtype=object))"
      ]
     },
     "execution_count": 42,
     "metadata": {},
     "output_type": "execute_result"
    }
   ],
   "source": [
    "train[\"Source\"].unique(), train[\"Destination\"].unique()"
   ]
  },
  {
   "cell_type": "code",
   "execution_count": 43,
   "metadata": {},
   "outputs": [
    {
     "data": {
      "text/html": [
       "<div>\n",
       "<style scoped>\n",
       "    .dataframe tbody tr th:only-of-type {\n",
       "        vertical-align: middle;\n",
       "    }\n",
       "\n",
       "    .dataframe tbody tr th {\n",
       "        vertical-align: top;\n",
       "    }\n",
       "\n",
       "    .dataframe thead th {\n",
       "        text-align: right;\n",
       "    }\n",
       "</style>\n",
       "<table border=\"1\" class=\"dataframe\">\n",
       "  <thead>\n",
       "    <tr style=\"text-align: right;\">\n",
       "      <th></th>\n",
       "      <th>Airline</th>\n",
       "      <th>Source</th>\n",
       "      <th>Destination</th>\n",
       "      <th>Total_Stops</th>\n",
       "      <th>Additional_Info</th>\n",
       "      <th>Price</th>\n",
       "      <th>Date_of_Journey_Year</th>\n",
       "      <th>Date_of_Journey_Month</th>\n",
       "      <th>Date_of_Journey_Day</th>\n",
       "      <th>Dep_Time_hour</th>\n",
       "      <th>Dep_Time_min</th>\n",
       "      <th>Arrival_Time_hour</th>\n",
       "      <th>Arrival_Time_min</th>\n",
       "      <th>Duration_hours</th>\n",
       "      <th>Duration_minutes</th>\n",
       "    </tr>\n",
       "  </thead>\n",
       "  <tbody>\n",
       "    <tr>\n",
       "      <th>0</th>\n",
       "      <td>IndiGo</td>\n",
       "      <td>Banglore</td>\n",
       "      <td>New Delhi</td>\n",
       "      <td>non-stop</td>\n",
       "      <td>No info</td>\n",
       "      <td>3897</td>\n",
       "      <td>2019</td>\n",
       "      <td>3</td>\n",
       "      <td>24</td>\n",
       "      <td>22</td>\n",
       "      <td>20</td>\n",
       "      <td>1</td>\n",
       "      <td>10</td>\n",
       "      <td>2</td>\n",
       "      <td>50</td>\n",
       "    </tr>\n",
       "    <tr>\n",
       "      <th>1</th>\n",
       "      <td>Air India</td>\n",
       "      <td>Kolkata</td>\n",
       "      <td>Banglore</td>\n",
       "      <td>2 stops</td>\n",
       "      <td>No info</td>\n",
       "      <td>7662</td>\n",
       "      <td>2019</td>\n",
       "      <td>1</td>\n",
       "      <td>5</td>\n",
       "      <td>5</td>\n",
       "      <td>50</td>\n",
       "      <td>13</td>\n",
       "      <td>15</td>\n",
       "      <td>7</td>\n",
       "      <td>25</td>\n",
       "    </tr>\n",
       "    <tr>\n",
       "      <th>2</th>\n",
       "      <td>Jet Airways</td>\n",
       "      <td>Delhi</td>\n",
       "      <td>Cochin</td>\n",
       "      <td>2 stops</td>\n",
       "      <td>No info</td>\n",
       "      <td>13882</td>\n",
       "      <td>2019</td>\n",
       "      <td>9</td>\n",
       "      <td>6</td>\n",
       "      <td>9</td>\n",
       "      <td>25</td>\n",
       "      <td>4</td>\n",
       "      <td>25</td>\n",
       "      <td>19</td>\n",
       "      <td>0</td>\n",
       "    </tr>\n",
       "    <tr>\n",
       "      <th>3</th>\n",
       "      <td>IndiGo</td>\n",
       "      <td>Kolkata</td>\n",
       "      <td>Banglore</td>\n",
       "      <td>1 stop</td>\n",
       "      <td>No info</td>\n",
       "      <td>6218</td>\n",
       "      <td>2019</td>\n",
       "      <td>12</td>\n",
       "      <td>5</td>\n",
       "      <td>18</td>\n",
       "      <td>5</td>\n",
       "      <td>23</td>\n",
       "      <td>30</td>\n",
       "      <td>5</td>\n",
       "      <td>25</td>\n",
       "    </tr>\n",
       "    <tr>\n",
       "      <th>4</th>\n",
       "      <td>IndiGo</td>\n",
       "      <td>Banglore</td>\n",
       "      <td>New Delhi</td>\n",
       "      <td>1 stop</td>\n",
       "      <td>No info</td>\n",
       "      <td>13302</td>\n",
       "      <td>2019</td>\n",
       "      <td>1</td>\n",
       "      <td>3</td>\n",
       "      <td>16</td>\n",
       "      <td>50</td>\n",
       "      <td>21</td>\n",
       "      <td>35</td>\n",
       "      <td>4</td>\n",
       "      <td>45</td>\n",
       "    </tr>\n",
       "  </tbody>\n",
       "</table>\n",
       "</div>"
      ],
      "text/plain": [
       "       Airline    Source Destination Total_Stops Additional_Info  Price  \\\n",
       "0       IndiGo  Banglore   New Delhi    non-stop         No info   3897   \n",
       "1    Air India   Kolkata    Banglore     2 stops         No info   7662   \n",
       "2  Jet Airways     Delhi      Cochin     2 stops         No info  13882   \n",
       "3       IndiGo   Kolkata    Banglore      1 stop         No info   6218   \n",
       "4       IndiGo  Banglore   New Delhi      1 stop         No info  13302   \n",
       "\n",
       "   Date_of_Journey_Year  Date_of_Journey_Month  Date_of_Journey_Day  \\\n",
       "0                  2019                      3                   24   \n",
       "1                  2019                      1                    5   \n",
       "2                  2019                      9                    6   \n",
       "3                  2019                     12                    5   \n",
       "4                  2019                      1                    3   \n",
       "\n",
       "   Dep_Time_hour  Dep_Time_min  Arrival_Time_hour  Arrival_Time_min  \\\n",
       "0             22            20                  1                10   \n",
       "1              5            50                 13                15   \n",
       "2              9            25                  4                25   \n",
       "3             18             5                 23                30   \n",
       "4             16            50                 21                35   \n",
       "\n",
       "   Duration_hours  Duration_minutes  \n",
       "0               2                50  \n",
       "1               7                25  \n",
       "2              19                 0  \n",
       "3               5                25  \n",
       "4               4                45  "
      ]
     },
     "execution_count": 43,
     "metadata": {},
     "output_type": "execute_result"
    }
   ],
   "source": [
    "train.head()"
   ]
  },
  {
   "cell_type": "code",
   "execution_count": 44,
   "metadata": {},
   "outputs": [
    {
     "data": {
      "text/plain": [
       "No info                         8344\n",
       "In-flight meal not included     1982\n",
       "No check-in baggage included     320\n",
       "1 Long layover                    19\n",
       "Change airports                    7\n",
       "Business class                     4\n",
       "No Info                            3\n",
       "Red-eye flight                     1\n",
       "1 Short layover                    1\n",
       "2 Long layover                     1\n",
       "Name: Additional_Info, dtype: int64"
      ]
     },
     "execution_count": 44,
     "metadata": {},
     "output_type": "execute_result"
    }
   ],
   "source": [
    "train[\"Additional_Info\"].value_counts()"
   ]
  },
  {
   "cell_type": "code",
   "execution_count": 45,
   "metadata": {},
   "outputs": [
    {
     "data": {
      "text/plain": [
       "78.1127129750983"
      ]
     },
     "execution_count": 45,
     "metadata": {},
     "output_type": "execute_result"
    }
   ],
   "source": [
    "(8344/10682)*100"
   ]
  },
  {
   "cell_type": "code",
   "execution_count": 46,
   "metadata": {},
   "outputs": [],
   "source": [
    "# The Additional_Info column is to be dropped as 80% of the values are \"No Info\" which leads to give no information about the\n",
    "# dataset.\n",
    "train = train.drop(columns = \"Additional_Info\")\n",
    "test = test.drop(columns = \"Additional_Info\")"
   ]
  },
  {
   "cell_type": "code",
   "execution_count": 47,
   "metadata": {
    "scrolled": false
   },
   "outputs": [
    {
     "data": {
      "text/html": [
       "<div>\n",
       "<style scoped>\n",
       "    .dataframe tbody tr th:only-of-type {\n",
       "        vertical-align: middle;\n",
       "    }\n",
       "\n",
       "    .dataframe tbody tr th {\n",
       "        vertical-align: top;\n",
       "    }\n",
       "\n",
       "    .dataframe thead th {\n",
       "        text-align: right;\n",
       "    }\n",
       "</style>\n",
       "<table border=\"1\" class=\"dataframe\">\n",
       "  <thead>\n",
       "    <tr style=\"text-align: right;\">\n",
       "      <th></th>\n",
       "      <th>Airline</th>\n",
       "      <th>Source</th>\n",
       "      <th>Destination</th>\n",
       "      <th>Total_Stops</th>\n",
       "      <th>Price</th>\n",
       "      <th>Date_of_Journey_Year</th>\n",
       "      <th>Date_of_Journey_Month</th>\n",
       "      <th>Date_of_Journey_Day</th>\n",
       "      <th>Dep_Time_hour</th>\n",
       "      <th>Dep_Time_min</th>\n",
       "      <th>Arrival_Time_hour</th>\n",
       "      <th>Arrival_Time_min</th>\n",
       "      <th>Duration_hours</th>\n",
       "      <th>Duration_minutes</th>\n",
       "    </tr>\n",
       "  </thead>\n",
       "  <tbody>\n",
       "    <tr>\n",
       "      <th>0</th>\n",
       "      <td>IndiGo</td>\n",
       "      <td>Banglore</td>\n",
       "      <td>New Delhi</td>\n",
       "      <td>non-stop</td>\n",
       "      <td>3897</td>\n",
       "      <td>2019</td>\n",
       "      <td>3</td>\n",
       "      <td>24</td>\n",
       "      <td>22</td>\n",
       "      <td>20</td>\n",
       "      <td>1</td>\n",
       "      <td>10</td>\n",
       "      <td>2</td>\n",
       "      <td>50</td>\n",
       "    </tr>\n",
       "    <tr>\n",
       "      <th>1</th>\n",
       "      <td>Air India</td>\n",
       "      <td>Kolkata</td>\n",
       "      <td>Banglore</td>\n",
       "      <td>2 stops</td>\n",
       "      <td>7662</td>\n",
       "      <td>2019</td>\n",
       "      <td>1</td>\n",
       "      <td>5</td>\n",
       "      <td>5</td>\n",
       "      <td>50</td>\n",
       "      <td>13</td>\n",
       "      <td>15</td>\n",
       "      <td>7</td>\n",
       "      <td>25</td>\n",
       "    </tr>\n",
       "    <tr>\n",
       "      <th>2</th>\n",
       "      <td>Jet Airways</td>\n",
       "      <td>Delhi</td>\n",
       "      <td>Cochin</td>\n",
       "      <td>2 stops</td>\n",
       "      <td>13882</td>\n",
       "      <td>2019</td>\n",
       "      <td>9</td>\n",
       "      <td>6</td>\n",
       "      <td>9</td>\n",
       "      <td>25</td>\n",
       "      <td>4</td>\n",
       "      <td>25</td>\n",
       "      <td>19</td>\n",
       "      <td>0</td>\n",
       "    </tr>\n",
       "    <tr>\n",
       "      <th>3</th>\n",
       "      <td>IndiGo</td>\n",
       "      <td>Kolkata</td>\n",
       "      <td>Banglore</td>\n",
       "      <td>1 stop</td>\n",
       "      <td>6218</td>\n",
       "      <td>2019</td>\n",
       "      <td>12</td>\n",
       "      <td>5</td>\n",
       "      <td>18</td>\n",
       "      <td>5</td>\n",
       "      <td>23</td>\n",
       "      <td>30</td>\n",
       "      <td>5</td>\n",
       "      <td>25</td>\n",
       "    </tr>\n",
       "    <tr>\n",
       "      <th>4</th>\n",
       "      <td>IndiGo</td>\n",
       "      <td>Banglore</td>\n",
       "      <td>New Delhi</td>\n",
       "      <td>1 stop</td>\n",
       "      <td>13302</td>\n",
       "      <td>2019</td>\n",
       "      <td>1</td>\n",
       "      <td>3</td>\n",
       "      <td>16</td>\n",
       "      <td>50</td>\n",
       "      <td>21</td>\n",
       "      <td>35</td>\n",
       "      <td>4</td>\n",
       "      <td>45</td>\n",
       "    </tr>\n",
       "  </tbody>\n",
       "</table>\n",
       "</div>"
      ],
      "text/plain": [
       "       Airline    Source Destination Total_Stops  Price  Date_of_Journey_Year  \\\n",
       "0       IndiGo  Banglore   New Delhi    non-stop   3897                  2019   \n",
       "1    Air India   Kolkata    Banglore     2 stops   7662                  2019   \n",
       "2  Jet Airways     Delhi      Cochin     2 stops  13882                  2019   \n",
       "3       IndiGo   Kolkata    Banglore      1 stop   6218                  2019   \n",
       "4       IndiGo  Banglore   New Delhi      1 stop  13302                  2019   \n",
       "\n",
       "   Date_of_Journey_Month  Date_of_Journey_Day  Dep_Time_hour  Dep_Time_min  \\\n",
       "0                      3                   24             22            20   \n",
       "1                      1                    5              5            50   \n",
       "2                      9                    6              9            25   \n",
       "3                     12                    5             18             5   \n",
       "4                      1                    3             16            50   \n",
       "\n",
       "   Arrival_Time_hour  Arrival_Time_min  Duration_hours  Duration_minutes  \n",
       "0                  1                10               2                50  \n",
       "1                 13                15               7                25  \n",
       "2                  4                25              19                 0  \n",
       "3                 23                30               5                25  \n",
       "4                 21                35               4                45  "
      ]
     },
     "execution_count": 47,
     "metadata": {},
     "output_type": "execute_result"
    }
   ],
   "source": [
    "train.head()"
   ]
  },
  {
   "cell_type": "code",
   "execution_count": 48,
   "metadata": {},
   "outputs": [
    {
     "data": {
      "text/plain": [
       "Text(0.5, 1.0, 'corr_train.corr()')"
      ]
     },
     "execution_count": 48,
     "metadata": {},
     "output_type": "execute_result"
    },
    {
     "data": {
      "image/png": "[encoded data removed]",
      "text/plain": [
       "<Figure size 432x288 with 2 Axes>"
      ]
     },
     "metadata": {
      "needs_background": "light"
     },
     "output_type": "display_data"
    }
   ],
   "source": [
    "corr_train = train.corr()\n",
    "sns.heatmap(corr_train.corr(),cmap='coolwarm')\n",
    "plt.title('corr_train.corr()')"
   ]
  },
  {
   "cell_type": "code",
   "execution_count": 49,
   "metadata": {},
   "outputs": [],
   "source": [
    "train = train.drop(columns = \"Date_of_Journey_Year\")\n",
    "test = test.drop(columns = \"Date_of_Journey_Year\")"
   ]
  },
  {
   "cell_type": "code",
   "execution_count": 50,
   "metadata": {
    "scrolled": true
   },
   "outputs": [
    {
     "data": {
      "text/html": [
       "<div>\n",
       "<style scoped>\n",
       "    .dataframe tbody tr th:only-of-type {\n",
       "        vertical-align: middle;\n",
       "    }\n",
       "\n",
       "    .dataframe tbody tr th {\n",
       "        vertical-align: top;\n",
       "    }\n",
       "\n",
       "    .dataframe thead th {\n",
       "        text-align: right;\n",
       "    }\n",
       "</style>\n",
       "<table border=\"1\" class=\"dataframe\">\n",
       "  <thead>\n",
       "    <tr style=\"text-align: right;\">\n",
       "      <th></th>\n",
       "      <th>Airline</th>\n",
       "      <th>Source</th>\n",
       "      <th>Destination</th>\n",
       "      <th>Total_Stops</th>\n",
       "      <th>Price</th>\n",
       "      <th>Date_of_Journey_Month</th>\n",
       "      <th>Date_of_Journey_Day</th>\n",
       "      <th>Dep_Time_hour</th>\n",
       "      <th>Dep_Time_min</th>\n",
       "      <th>Arrival_Time_hour</th>\n",
       "      <th>Arrival_Time_min</th>\n",
       "      <th>Duration_hours</th>\n",
       "      <th>Duration_minutes</th>\n",
       "    </tr>\n",
       "  </thead>\n",
       "  <tbody>\n",
       "    <tr>\n",
       "      <th>0</th>\n",
       "      <td>IndiGo</td>\n",
       "      <td>Banglore</td>\n",
       "      <td>New Delhi</td>\n",
       "      <td>non-stop</td>\n",
       "      <td>3897</td>\n",
       "      <td>3</td>\n",
       "      <td>24</td>\n",
       "      <td>22</td>\n",
       "      <td>20</td>\n",
       "      <td>1</td>\n",
       "      <td>10</td>\n",
       "      <td>2</td>\n",
       "      <td>50</td>\n",
       "    </tr>\n",
       "    <tr>\n",
       "      <th>1</th>\n",
       "      <td>Air India</td>\n",
       "      <td>Kolkata</td>\n",
       "      <td>Banglore</td>\n",
       "      <td>2 stops</td>\n",
       "      <td>7662</td>\n",
       "      <td>1</td>\n",
       "      <td>5</td>\n",
       "      <td>5</td>\n",
       "      <td>50</td>\n",
       "      <td>13</td>\n",
       "      <td>15</td>\n",
       "      <td>7</td>\n",
       "      <td>25</td>\n",
       "    </tr>\n",
       "    <tr>\n",
       "      <th>2</th>\n",
       "      <td>Jet Airways</td>\n",
       "      <td>Delhi</td>\n",
       "      <td>Cochin</td>\n",
       "      <td>2 stops</td>\n",
       "      <td>13882</td>\n",
       "      <td>9</td>\n",
       "      <td>6</td>\n",
       "      <td>9</td>\n",
       "      <td>25</td>\n",
       "      <td>4</td>\n",
       "      <td>25</td>\n",
       "      <td>19</td>\n",
       "      <td>0</td>\n",
       "    </tr>\n",
       "    <tr>\n",
       "      <th>3</th>\n",
       "      <td>IndiGo</td>\n",
       "      <td>Kolkata</td>\n",
       "      <td>Banglore</td>\n",
       "      <td>1 stop</td>\n",
       "      <td>6218</td>\n",
       "      <td>12</td>\n",
       "      <td>5</td>\n",
       "      <td>18</td>\n",
       "      <td>5</td>\n",
       "      <td>23</td>\n",
       "      <td>30</td>\n",
       "      <td>5</td>\n",
       "      <td>25</td>\n",
       "    </tr>\n",
       "    <tr>\n",
       "      <th>4</th>\n",
       "      <td>IndiGo</td>\n",
       "      <td>Banglore</td>\n",
       "      <td>New Delhi</td>\n",
       "      <td>1 stop</td>\n",
       "      <td>13302</td>\n",
       "      <td>1</td>\n",
       "      <td>3</td>\n",
       "      <td>16</td>\n",
       "      <td>50</td>\n",
       "      <td>21</td>\n",
       "      <td>35</td>\n",
       "      <td>4</td>\n",
       "      <td>45</td>\n",
       "    </tr>\n",
       "  </tbody>\n",
       "</table>\n",
       "</div>"
      ],
      "text/plain": [
       "       Airline    Source Destination Total_Stops  Price  \\\n",
       "0       IndiGo  Banglore   New Delhi    non-stop   3897   \n",
       "1    Air India   Kolkata    Banglore     2 stops   7662   \n",
       "2  Jet Airways     Delhi      Cochin     2 stops  13882   \n",
       "3       IndiGo   Kolkata    Banglore      1 stop   6218   \n",
       "4       IndiGo  Banglore   New Delhi      1 stop  13302   \n",
       "\n",
       "   Date_of_Journey_Month  Date_of_Journey_Day  Dep_Time_hour  Dep_Time_min  \\\n",
       "0                      3                   24             22            20   \n",
       "1                      1                    5              5            50   \n",
       "2                      9                    6              9            25   \n",
       "3                     12                    5             18             5   \n",
       "4                      1                    3             16            50   \n",
       "\n",
       "   Arrival_Time_hour  Arrival_Time_min  Duration_hours  Duration_minutes  \n",
       "0                  1                10               2                50  \n",
       "1                 13                15               7                25  \n",
       "2                  4                25              19                 0  \n",
       "3                 23                30               5                25  \n",
       "4                 21                35               4                45  "
      ]
     },
     "execution_count": 50,
     "metadata": {},
     "output_type": "execute_result"
    }
   ],
   "source": [
    "train.head()"
   ]
  },
  {
   "cell_type": "code",
   "execution_count": 51,
   "metadata": {},
   "outputs": [
    {
     "data": {
      "text/plain": [
       "Text(0.5, 1.0, 'Heatmap - Correlation plot')"
      ]
     },
     "execution_count": 51,
     "metadata": {},
     "output_type": "execute_result"
    },
    {
     "data": {
      "image/png": "[encoded data removed]",
      "text/plain": [
       "<Figure size 864x504 with 2 Axes>"
      ]
     },
     "metadata": {
      "needs_background": "light"
     },
     "output_type": "display_data"
    }
   ],
   "source": [
    "corr_train1 = train.corr()\n",
    "plt.figure(figsize=(12,7))\n",
    "sns.heatmap(corr_train1.corr(), cmap = \"coolwarm\", annot = True)\n",
    "plt.title(\"Heatmap - Correlation plot\")"
   ]
  },
  {
   "cell_type": "code",
   "execution_count": 52,
   "metadata": {},
   "outputs": [
    {
     "data": {
      "image/png": "[encoded data removed]",
      "text/plain": [
       "<Figure size 720x432 with 1 Axes>"
      ]
     },
     "metadata": {
      "needs_background": "light"
     },
     "output_type": "display_data"
    }
   ],
   "source": [
    "plt.figure(figsize = (10,6))\n",
    "plt.title(\"Number of flights month wise\")\n",
    "ct = sns.countplot(x = \"Date_of_Journey_Month\", data = train)\n",
    "plt.xlabel(\"Month\")\n",
    "plt.ylabel(\"Count of flights\")\n",
    "for p in ct.patches:\n",
    "    ct.annotate(int(p.get_height()), (p.get_x()+0.25, p.get_height()+1), va='bottom',\n",
    "                    color= 'black')"
   ]
  },
  {
   "cell_type": "code",
   "execution_count": 53,
   "metadata": {},
   "outputs": [],
   "source": [
    "# From the above plot, we can understand that in april the number of flights are the least whereas the most in June."
   ]
  },
  {
   "cell_type": "code",
   "execution_count": 54,
   "metadata": {},
   "outputs": [
    {
     "data": {
      "image/png": "[encoded data removed]",
      "text/plain": [
       "<Figure size 2160x648 with 1 Axes>"
      ]
     },
     "metadata": {
      "needs_background": "light"
     },
     "output_type": "display_data"
    }
   ],
   "source": [
    "# Find count of flight airline wise\n",
    "\n",
    "plt.figure(figsize = (30,9))\n",
    "plt.title(\"Number of flights Airline wise\")\n",
    "ct = sns.countplot(x = \"Airline\", data = train)\n",
    "plt.xlabel(\"Airlines\")\n",
    "plt.ylabel(\"Count of flights\")\n",
    "for p in ct.patches:\n",
    "    ct.annotate(int(p.get_height()), (p.get_x()+0.25, p.get_height()+1), va='bottom',\n",
    "                    color= 'black')"
   ]
  },
  {
   "cell_type": "code",
   "execution_count": 55,
   "metadata": {},
   "outputs": [
    {
     "data": {
      "image/png": "[encoded data removed]",
      "text/plain": [
       "<Figure size 864x432 with 1 Axes>"
      ]
     },
     "metadata": {
      "needs_background": "light"
     },
     "output_type": "display_data"
    }
   ],
   "source": [
    "plt.figure(figsize = (12,6))\n",
    "dp = sns.distplot(train[\"Price\"], kde = False, bins = 60)\n",
    "for p in dp.patches:\n",
    "    dp.annotate(int(p.get_height()), (p.get_x()+0.25, p.get_height()+1), va='bottom',\n",
    "                    color= 'black')"
   ]
  },
  {
   "cell_type": "code",
   "execution_count": 56,
   "metadata": {},
   "outputs": [
    {
     "data": {
      "text/plain": [
       "array(['non-stop', '2 stops', '1 stop', '3 stops', '4 stops'],\n",
       "      dtype=object)"
      ]
     },
     "execution_count": 56,
     "metadata": {},
     "output_type": "execute_result"
    }
   ],
   "source": [
    "train[\"Total_Stops\"].unique()"
   ]
  },
  {
   "cell_type": "code",
   "execution_count": 57,
   "metadata": {},
   "outputs": [],
   "source": [
    "#flight[\"Total_Stops\"] = flight[\"Total_Stops\"].replace(to_replace ={\"non-stop\"}, value = 0, regex = True)\n",
    "#flight[\"Total_Stops\"] = flight[\"Total_Stops\"].replace(to_replace ={\"2 stops\"}, value = 2, regex = True)\n",
    "#flight[\"Total_Stops\"] = flight[\"Total_Stops\"].replace(to_replace ={\"1 stop\"}, value = 1, regex = True)\n",
    "#flight[\"Total_Stops\"] = flight[\"Total_Stops\"].replace(to_replace ={\"3 stops\"}, value = 3, regex = True)\n",
    "#flight[\"Total_Stops\"] = flight[\"Total_Stops\"].replace(to_replace ={\"4 stops\"}, value = 4, regex = True)\n",
    "\n",
    "train[\"Total_Stops\"] = train[\"Total_Stops\"].replace({\"non-stop\":0, \"2 stops\":2, \"1 stop\":1, \"3 stops\":3, \"4 stops\":4})\n",
    "test[\"Total_Stops\"] = test[\"Total_Stops\"].replace({\"non-stop\":0, \"2 stops\":2, \"1 stop\":1, \"3 stops\":3, \"4 stops\":4})"
   ]
  },
  {
   "cell_type": "code",
   "execution_count": 58,
   "metadata": {
    "scrolled": false
   },
   "outputs": [
    {
     "data": {
      "text/html": [
       "<div>\n",
       "<style scoped>\n",
       "    .dataframe tbody tr th:only-of-type {\n",
       "        vertical-align: middle;\n",
       "    }\n",
       "\n",
       "    .dataframe tbody tr th {\n",
       "        vertical-align: top;\n",
       "    }\n",
       "\n",
       "    .dataframe thead th {\n",
       "        text-align: right;\n",
       "    }\n",
       "</style>\n",
       "<table border=\"1\" class=\"dataframe\">\n",
       "  <thead>\n",
       "    <tr style=\"text-align: right;\">\n",
       "      <th></th>\n",
       "      <th>Airline</th>\n",
       "      <th>Source</th>\n",
       "      <th>Destination</th>\n",
       "      <th>Total_Stops</th>\n",
       "      <th>Price</th>\n",
       "      <th>Date_of_Journey_Month</th>\n",
       "      <th>Date_of_Journey_Day</th>\n",
       "      <th>Dep_Time_hour</th>\n",
       "      <th>Dep_Time_min</th>\n",
       "      <th>Arrival_Time_hour</th>\n",
       "      <th>Arrival_Time_min</th>\n",
       "      <th>Duration_hours</th>\n",
       "      <th>Duration_minutes</th>\n",
       "    </tr>\n",
       "  </thead>\n",
       "  <tbody>\n",
       "    <tr>\n",
       "      <th>0</th>\n",
       "      <td>IndiGo</td>\n",
       "      <td>Banglore</td>\n",
       "      <td>New Delhi</td>\n",
       "      <td>0</td>\n",
       "      <td>3897</td>\n",
       "      <td>3</td>\n",
       "      <td>24</td>\n",
       "      <td>22</td>\n",
       "      <td>20</td>\n",
       "      <td>1</td>\n",
       "      <td>10</td>\n",
       "      <td>2</td>\n",
       "      <td>50</td>\n",
       "    </tr>\n",
       "    <tr>\n",
       "      <th>1</th>\n",
       "      <td>Air India</td>\n",
       "      <td>Kolkata</td>\n",
       "      <td>Banglore</td>\n",
       "      <td>2</td>\n",
       "      <td>7662</td>\n",
       "      <td>1</td>\n",
       "      <td>5</td>\n",
       "      <td>5</td>\n",
       "      <td>50</td>\n",
       "      <td>13</td>\n",
       "      <td>15</td>\n",
       "      <td>7</td>\n",
       "      <td>25</td>\n",
       "    </tr>\n",
       "    <tr>\n",
       "      <th>2</th>\n",
       "      <td>Jet Airways</td>\n",
       "      <td>Delhi</td>\n",
       "      <td>Cochin</td>\n",
       "      <td>2</td>\n",
       "      <td>13882</td>\n",
       "      <td>9</td>\n",
       "      <td>6</td>\n",
       "      <td>9</td>\n",
       "      <td>25</td>\n",
       "      <td>4</td>\n",
       "      <td>25</td>\n",
       "      <td>19</td>\n",
       "      <td>0</td>\n",
       "    </tr>\n",
       "    <tr>\n",
       "      <th>3</th>\n",
       "      <td>IndiGo</td>\n",
       "      <td>Kolkata</td>\n",
       "      <td>Banglore</td>\n",
       "      <td>1</td>\n",
       "      <td>6218</td>\n",
       "      <td>12</td>\n",
       "      <td>5</td>\n",
       "      <td>18</td>\n",
       "      <td>5</td>\n",
       "      <td>23</td>\n",
       "      <td>30</td>\n",
       "      <td>5</td>\n",
       "      <td>25</td>\n",
       "    </tr>\n",
       "    <tr>\n",
       "      <th>4</th>\n",
       "      <td>IndiGo</td>\n",
       "      <td>Banglore</td>\n",
       "      <td>New Delhi</td>\n",
       "      <td>1</td>\n",
       "      <td>13302</td>\n",
       "      <td>1</td>\n",
       "      <td>3</td>\n",
       "      <td>16</td>\n",
       "      <td>50</td>\n",
       "      <td>21</td>\n",
       "      <td>35</td>\n",
       "      <td>4</td>\n",
       "      <td>45</td>\n",
       "    </tr>\n",
       "  </tbody>\n",
       "</table>\n",
       "</div>"
      ],
      "text/plain": [
       "       Airline    Source Destination  Total_Stops  Price  \\\n",
       "0       IndiGo  Banglore   New Delhi            0   3897   \n",
       "1    Air India   Kolkata    Banglore            2   7662   \n",
       "2  Jet Airways     Delhi      Cochin            2  13882   \n",
       "3       IndiGo   Kolkata    Banglore            1   6218   \n",
       "4       IndiGo  Banglore   New Delhi            1  13302   \n",
       "\n",
       "   Date_of_Journey_Month  Date_of_Journey_Day  Dep_Time_hour  Dep_Time_min  \\\n",
       "0                      3                   24             22            20   \n",
       "1                      1                    5              5            50   \n",
       "2                      9                    6              9            25   \n",
       "3                     12                    5             18             5   \n",
       "4                      1                    3             16            50   \n",
       "\n",
       "   Arrival_Time_hour  Arrival_Time_min  Duration_hours  Duration_minutes  \n",
       "0                  1                10               2                50  \n",
       "1                 13                15               7                25  \n",
       "2                  4                25              19                 0  \n",
       "3                 23                30               5                25  \n",
       "4                 21                35               4                45  "
      ]
     },
     "execution_count": 58,
     "metadata": {},
     "output_type": "execute_result"
    }
   ],
   "source": [
    "train.head()"
   ]
  },
  {
   "cell_type": "code",
   "execution_count": 59,
   "metadata": {
    "scrolled": true
   },
   "outputs": [
    {
     "data": {
      "text/html": [
       "<div>\n",
       "<style scoped>\n",
       "    .dataframe tbody tr th:only-of-type {\n",
       "        vertical-align: middle;\n",
       "    }\n",
       "\n",
       "    .dataframe tbody tr th {\n",
       "        vertical-align: top;\n",
       "    }\n",
       "\n",
       "    .dataframe thead th {\n",
       "        text-align: right;\n",
       "    }\n",
       "</style>\n",
       "<table border=\"1\" class=\"dataframe\">\n",
       "  <thead>\n",
       "    <tr style=\"text-align: right;\">\n",
       "      <th></th>\n",
       "      <th>Airline</th>\n",
       "      <th>Source</th>\n",
       "      <th>Destination</th>\n",
       "      <th>Total_Stops</th>\n",
       "      <th>Date_of_Journey_Month</th>\n",
       "      <th>Date_of_Journey_Day</th>\n",
       "      <th>Dep_Time_hour</th>\n",
       "      <th>Dep_Time_min</th>\n",
       "      <th>Arrival_Time_hour</th>\n",
       "      <th>Arrival_Time_min</th>\n",
       "      <th>Duration_hours</th>\n",
       "      <th>Duration_minutes</th>\n",
       "    </tr>\n",
       "  </thead>\n",
       "  <tbody>\n",
       "    <tr>\n",
       "      <th>0</th>\n",
       "      <td>Jet Airways</td>\n",
       "      <td>Delhi</td>\n",
       "      <td>Cochin</td>\n",
       "      <td>1</td>\n",
       "      <td>6</td>\n",
       "      <td>6</td>\n",
       "      <td>17</td>\n",
       "      <td>30</td>\n",
       "      <td>4</td>\n",
       "      <td>25</td>\n",
       "      <td>10</td>\n",
       "      <td>55</td>\n",
       "    </tr>\n",
       "    <tr>\n",
       "      <th>1</th>\n",
       "      <td>IndiGo</td>\n",
       "      <td>Kolkata</td>\n",
       "      <td>Banglore</td>\n",
       "      <td>1</td>\n",
       "      <td>12</td>\n",
       "      <td>5</td>\n",
       "      <td>6</td>\n",
       "      <td>20</td>\n",
       "      <td>10</td>\n",
       "      <td>20</td>\n",
       "      <td>4</td>\n",
       "      <td>0</td>\n",
       "    </tr>\n",
       "    <tr>\n",
       "      <th>2</th>\n",
       "      <td>Jet Airways</td>\n",
       "      <td>Delhi</td>\n",
       "      <td>Cochin</td>\n",
       "      <td>1</td>\n",
       "      <td>5</td>\n",
       "      <td>21</td>\n",
       "      <td>19</td>\n",
       "      <td>15</td>\n",
       "      <td>19</td>\n",
       "      <td>0</td>\n",
       "      <td>23</td>\n",
       "      <td>45</td>\n",
       "    </tr>\n",
       "    <tr>\n",
       "      <th>3</th>\n",
       "      <td>Multiple carriers</td>\n",
       "      <td>Delhi</td>\n",
       "      <td>Cochin</td>\n",
       "      <td>1</td>\n",
       "      <td>5</td>\n",
       "      <td>21</td>\n",
       "      <td>8</td>\n",
       "      <td>0</td>\n",
       "      <td>21</td>\n",
       "      <td>0</td>\n",
       "      <td>13</td>\n",
       "      <td>0</td>\n",
       "    </tr>\n",
       "    <tr>\n",
       "      <th>4</th>\n",
       "      <td>Air Asia</td>\n",
       "      <td>Banglore</td>\n",
       "      <td>Delhi</td>\n",
       "      <td>0</td>\n",
       "      <td>6</td>\n",
       "      <td>24</td>\n",
       "      <td>23</td>\n",
       "      <td>55</td>\n",
       "      <td>2</td>\n",
       "      <td>45</td>\n",
       "      <td>2</td>\n",
       "      <td>50</td>\n",
       "    </tr>\n",
       "  </tbody>\n",
       "</table>\n",
       "</div>"
      ],
      "text/plain": [
       "             Airline    Source Destination  Total_Stops  \\\n",
       "0        Jet Airways     Delhi      Cochin            1   \n",
       "1             IndiGo   Kolkata    Banglore            1   \n",
       "2        Jet Airways     Delhi      Cochin            1   \n",
       "3  Multiple carriers     Delhi      Cochin            1   \n",
       "4           Air Asia  Banglore       Delhi            0   \n",
       "\n",
       "   Date_of_Journey_Month  Date_of_Journey_Day  Dep_Time_hour  Dep_Time_min  \\\n",
       "0                      6                    6             17            30   \n",
       "1                     12                    5              6            20   \n",
       "2                      5                   21             19            15   \n",
       "3                      5                   21              8             0   \n",
       "4                      6                   24             23            55   \n",
       "\n",
       "   Arrival_Time_hour  Arrival_Time_min  Duration_hours  Duration_minutes  \n",
       "0                  4                25              10                55  \n",
       "1                 10                20               4                 0  \n",
       "2                 19                 0              23                45  \n",
       "3                 21                 0              13                 0  \n",
       "4                  2                45               2                50  "
      ]
     },
     "execution_count": 59,
     "metadata": {},
     "output_type": "execute_result"
    }
   ],
   "source": [
    "test.head()"
   ]
  },
  {
   "cell_type": "code",
   "execution_count": 60,
   "metadata": {},
   "outputs": [
    {
     "data": {
      "image/png": "[encoded data removed]",
      "text/plain": [
       "<Figure size 432x288 with 1 Axes>"
      ]
     },
     "metadata": {
      "needs_background": "light"
     },
     "output_type": "display_data"
    }
   ],
   "source": [
    "bp = sns.barplot(x = \"Total_Stops\", y = \"Price\", data = train)\n",
    "for p in bp.patches:\n",
    "    bp.annotate(int(p.get_height()), (p.get_x()+0.25, p.get_height()+1), va='bottom',\n",
    "                    color= 'black')"
   ]
  },
  {
   "cell_type": "code",
   "execution_count": 61,
   "metadata": {},
   "outputs": [
    {
     "data": {
      "text/plain": [
       "(array([-10000.,      0.,  10000.,  20000.,  30000.,  40000.,  50000.,\n",
       "         60000.,  70000.,  80000.,  90000.]),\n",
       " <a list of 11 Text major ticklabel objects>)"
      ]
     },
     "execution_count": 61,
     "metadata": {},
     "output_type": "execute_result"
    },
    {
     "data": {
      "image/png": "[encoded data removed]",
      "text/plain": [
       "<Figure size 432x432 with 1 Axes>"
      ]
     },
     "metadata": {
      "needs_background": "light"
     },
     "output_type": "display_data"
    }
   ],
   "source": [
    "plt.figure(figsize = (6,6))\n",
    "plt.title(\"Price Scatter plot\")\n",
    "plt.scatter(train[\"Airline\"], train[\"Price\"])\n",
    "plt.xticks(rotation = 90)\n",
    "plt.xlabel(\"Airline\")\n",
    "plt.ylabel(\"Price\")\n",
    "plt.yticks(rotation = 90)"
   ]
  },
  {
   "cell_type": "code",
   "execution_count": 62,
   "metadata": {},
   "outputs": [],
   "source": [
    "# Lets combine the lest taken and classes or airlines and combine\n",
    "\n",
    "train[\"Airline\"] = train[\"Airline\"].replace({\"Vistara Premium economy\":\"Other\", \"Jet Airways Business\":\"Other\", \n",
    "                                             \"Multiple carriers Premium economy\":\"Other\", \"Trujet\":\"Other\"})\n",
    "test[\"Airline\"] = test[\"Airline\"].replace({\"Vistara Premium economy\":\"Other\", \"Jet Airways\":\"Other\", \n",
    "                                           \"Multiple carriers Premium economy\":\"Other\", \"Trujet\":\"Other\"})"
   ]
  },
  {
   "cell_type": "code",
   "execution_count": 63,
   "metadata": {},
   "outputs": [
    {
     "data": {
      "text/plain": [
       "array(['IndiGo', 'Air India', 'Jet Airways', 'SpiceJet',\n",
       "       'Multiple carriers', 'GoAir', 'Vistara', 'Air Asia', 'Other'],\n",
       "      dtype=object)"
      ]
     },
     "execution_count": 63,
     "metadata": {},
     "output_type": "execute_result"
    }
   ],
   "source": [
    "train[\"Airline\"].unique()"
   ]
  },
  {
   "cell_type": "code",
   "execution_count": 64,
   "metadata": {},
   "outputs": [
    {
     "data": {
      "image/png": "[encoded data removed]",
      "text/plain": [
       "<Figure size 1440x648 with 1 Axes>"
      ]
     },
     "metadata": {
      "needs_background": "light"
     },
     "output_type": "display_data"
    }
   ],
   "source": [
    "# Find count of flight airline wise\n",
    "\n",
    "plt.figure(figsize = (20,9))\n",
    "plt.title(\"Number of flights Airline wise\")\n",
    "ct = sns.countplot(x = \"Airline\", data = train)\n",
    "plt.xlabel(\"Airlines\")\n",
    "plt.ylabel(\"Count of flights\")\n",
    "for p in ct.patches:\n",
    "    ct.annotate(int(p.get_height()), (p.get_x()+0.25, p.get_height()+1), va='bottom',\n",
    "                    color= 'black')"
   ]
  },
  {
   "cell_type": "code",
   "execution_count": 65,
   "metadata": {},
   "outputs": [
    {
     "data": {
      "text/plain": [
       "(array([-10000.,      0.,  10000.,  20000.,  30000.,  40000.,  50000.,\n",
       "         60000.,  70000.,  80000.,  90000.]),\n",
       " <a list of 11 Text major ticklabel objects>)"
      ]
     },
     "execution_count": 65,
     "metadata": {},
     "output_type": "execute_result"
    },
    {
     "data": {
      "image/png": "[encoded data removed]",
      "text/plain": [
       "<Figure size 432x432 with 1 Axes>"
      ]
     },
     "metadata": {
      "needs_background": "light"
     },
     "output_type": "display_data"
    }
   ],
   "source": [
    "plt.figure(figsize = (6,6))\n",
    "plt.title(\"Price Scatter plot\")\n",
    "plt.scatter(train[\"Airline\"], train[\"Price\"])\n",
    "plt.xticks(rotation = 90)\n",
    "plt.xlabel(\"Airline\")\n",
    "plt.ylabel(\"Price\")\n",
    "plt.yticks(rotation = 90)"
   ]
  },
  {
   "cell_type": "code",
   "execution_count": 66,
   "metadata": {
    "scrolled": true
   },
   "outputs": [
    {
     "data": {
      "text/plain": [
       "<matplotlib.axes._subplots.AxesSubplot at 0x1f9013c0ac8>"
      ]
     },
     "execution_count": 66,
     "metadata": {},
     "output_type": "execute_result"
    },
    {
     "data": {
      "image/png": "[encoded data removed]",
      "text/plain": [
       "<Figure size 720x504 with 1 Axes>"
      ]
     },
     "metadata": {
      "needs_background": "light"
     },
     "output_type": "display_data"
    }
   ],
   "source": [
    "plt.figure(figsize=(10,7))\n",
    "sns.barplot(y=train['Airline'],x=train['Price'],hue=train['Total_Stops'])"
   ]
  },
  {
   "cell_type": "code",
   "execution_count": 67,
   "metadata": {
    "scrolled": true
   },
   "outputs": [
    {
     "data": {
      "text/html": [
       "<div>\n",
       "<style scoped>\n",
       "    .dataframe tbody tr th:only-of-type {\n",
       "        vertical-align: middle;\n",
       "    }\n",
       "\n",
       "    .dataframe tbody tr th {\n",
       "        vertical-align: top;\n",
       "    }\n",
       "\n",
       "    .dataframe thead th {\n",
       "        text-align: right;\n",
       "    }\n",
       "</style>\n",
       "<table border=\"1\" class=\"dataframe\">\n",
       "  <thead>\n",
       "    <tr style=\"text-align: right;\">\n",
       "      <th></th>\n",
       "      <th>Airline</th>\n",
       "      <th>Source</th>\n",
       "      <th>Destination</th>\n",
       "      <th>Total_Stops</th>\n",
       "      <th>Price</th>\n",
       "      <th>Date_of_Journey_Month</th>\n",
       "      <th>Date_of_Journey_Day</th>\n",
       "      <th>Dep_Time_hour</th>\n",
       "      <th>Dep_Time_min</th>\n",
       "      <th>Arrival_Time_hour</th>\n",
       "      <th>Arrival_Time_min</th>\n",
       "      <th>Duration_hours</th>\n",
       "      <th>Duration_minutes</th>\n",
       "    </tr>\n",
       "  </thead>\n",
       "  <tbody>\n",
       "    <tr>\n",
       "      <th>0</th>\n",
       "      <td>IndiGo</td>\n",
       "      <td>Banglore</td>\n",
       "      <td>New Delhi</td>\n",
       "      <td>0</td>\n",
       "      <td>3897</td>\n",
       "      <td>3</td>\n",
       "      <td>24</td>\n",
       "      <td>22</td>\n",
       "      <td>20</td>\n",
       "      <td>1</td>\n",
       "      <td>10</td>\n",
       "      <td>2</td>\n",
       "      <td>50</td>\n",
       "    </tr>\n",
       "    <tr>\n",
       "      <th>1</th>\n",
       "      <td>Air India</td>\n",
       "      <td>Kolkata</td>\n",
       "      <td>Banglore</td>\n",
       "      <td>2</td>\n",
       "      <td>7662</td>\n",
       "      <td>1</td>\n",
       "      <td>5</td>\n",
       "      <td>5</td>\n",
       "      <td>50</td>\n",
       "      <td>13</td>\n",
       "      <td>15</td>\n",
       "      <td>7</td>\n",
       "      <td>25</td>\n",
       "    </tr>\n",
       "    <tr>\n",
       "      <th>2</th>\n",
       "      <td>Jet Airways</td>\n",
       "      <td>Delhi</td>\n",
       "      <td>Cochin</td>\n",
       "      <td>2</td>\n",
       "      <td>13882</td>\n",
       "      <td>9</td>\n",
       "      <td>6</td>\n",
       "      <td>9</td>\n",
       "      <td>25</td>\n",
       "      <td>4</td>\n",
       "      <td>25</td>\n",
       "      <td>19</td>\n",
       "      <td>0</td>\n",
       "    </tr>\n",
       "    <tr>\n",
       "      <th>3</th>\n",
       "      <td>IndiGo</td>\n",
       "      <td>Kolkata</td>\n",
       "      <td>Banglore</td>\n",
       "      <td>1</td>\n",
       "      <td>6218</td>\n",
       "      <td>12</td>\n",
       "      <td>5</td>\n",
       "      <td>18</td>\n",
       "      <td>5</td>\n",
       "      <td>23</td>\n",
       "      <td>30</td>\n",
       "      <td>5</td>\n",
       "      <td>25</td>\n",
       "    </tr>\n",
       "    <tr>\n",
       "      <th>4</th>\n",
       "      <td>IndiGo</td>\n",
       "      <td>Banglore</td>\n",
       "      <td>New Delhi</td>\n",
       "      <td>1</td>\n",
       "      <td>13302</td>\n",
       "      <td>1</td>\n",
       "      <td>3</td>\n",
       "      <td>16</td>\n",
       "      <td>50</td>\n",
       "      <td>21</td>\n",
       "      <td>35</td>\n",
       "      <td>4</td>\n",
       "      <td>45</td>\n",
       "    </tr>\n",
       "  </tbody>\n",
       "</table>\n",
       "</div>"
      ],
      "text/plain": [
       "       Airline    Source Destination  Total_Stops  Price  \\\n",
       "0       IndiGo  Banglore   New Delhi            0   3897   \n",
       "1    Air India   Kolkata    Banglore            2   7662   \n",
       "2  Jet Airways     Delhi      Cochin            2  13882   \n",
       "3       IndiGo   Kolkata    Banglore            1   6218   \n",
       "4       IndiGo  Banglore   New Delhi            1  13302   \n",
       "\n",
       "   Date_of_Journey_Month  Date_of_Journey_Day  Dep_Time_hour  Dep_Time_min  \\\n",
       "0                      3                   24             22            20   \n",
       "1                      1                    5              5            50   \n",
       "2                      9                    6              9            25   \n",
       "3                     12                    5             18             5   \n",
       "4                      1                    3             16            50   \n",
       "\n",
       "   Arrival_Time_hour  Arrival_Time_min  Duration_hours  Duration_minutes  \n",
       "0                  1                10               2                50  \n",
       "1                 13                15               7                25  \n",
       "2                  4                25              19                 0  \n",
       "3                 23                30               5                25  \n",
       "4                 21                35               4                45  "
      ]
     },
     "execution_count": 67,
     "metadata": {},
     "output_type": "execute_result"
    }
   ],
   "source": [
    "train.head()"
   ]
  },
  {
   "cell_type": "code",
   "execution_count": 68,
   "metadata": {},
   "outputs": [],
   "source": [
    "dummies = pd.get_dummies(train[[\"Airline\",\"Source\",\"Destination\"]], drop_first = True)\n",
    "train = train.drop([\"Airline\",\"Source\",\"Destination\"], axis = 1)\n",
    "train = pd.concat([train,dummies], axis = 1)\n",
    "\n",
    "# --------------------------------------------------------------------------------------\n",
    "\n",
    "dummies = pd.get_dummies(test[[\"Airline\",\"Source\",\"Destination\"]], drop_first = True)\n",
    "test = test.drop([\"Airline\",\"Source\",\"Destination\"], axis = 1)\n",
    "test = pd.concat([test,dummies], axis = 1)"
   ]
  },
  {
   "cell_type": "code",
   "execution_count": 69,
   "metadata": {},
   "outputs": [],
   "source": [
    "pd.set_option('display.max_rows', 500)\n",
    "pd.set_option('display.max_columns', 500)\n",
    "pd.set_option('display.width', 1000)"
   ]
  },
  {
   "cell_type": "code",
   "execution_count": 70,
   "metadata": {
    "scrolled": true
   },
   "outputs": [
    {
     "data": {
      "text/html": [
       "<div>\n",
       "<style scoped>\n",
       "    .dataframe tbody tr th:only-of-type {\n",
       "        vertical-align: middle;\n",
       "    }\n",
       "\n",
       "    .dataframe tbody tr th {\n",
       "        vertical-align: top;\n",
       "    }\n",
       "\n",
       "    .dataframe thead th {\n",
       "        text-align: right;\n",
       "    }\n",
       "</style>\n",
       "<table border=\"1\" class=\"dataframe\">\n",
       "  <thead>\n",
       "    <tr style=\"text-align: right;\">\n",
       "      <th></th>\n",
       "      <th>Total_Stops</th>\n",
       "      <th>Price</th>\n",
       "      <th>Date_of_Journey_Month</th>\n",
       "      <th>Date_of_Journey_Day</th>\n",
       "      <th>Dep_Time_hour</th>\n",
       "      <th>Dep_Time_min</th>\n",
       "      <th>Arrival_Time_hour</th>\n",
       "      <th>Arrival_Time_min</th>\n",
       "      <th>Duration_hours</th>\n",
       "      <th>Duration_minutes</th>\n",
       "      <th>Airline_Air India</th>\n",
       "      <th>Airline_GoAir</th>\n",
       "      <th>Airline_IndiGo</th>\n",
       "      <th>Airline_Jet Airways</th>\n",
       "      <th>Airline_Multiple carriers</th>\n",
       "      <th>Airline_Other</th>\n",
       "      <th>Airline_SpiceJet</th>\n",
       "      <th>Airline_Vistara</th>\n",
       "      <th>Source_Chennai</th>\n",
       "      <th>Source_Delhi</th>\n",
       "      <th>Source_Kolkata</th>\n",
       "      <th>Source_Mumbai</th>\n",
       "      <th>Destination_Cochin</th>\n",
       "      <th>Destination_Delhi</th>\n",
       "      <th>Destination_Hyderabad</th>\n",
       "      <th>Destination_Kolkata</th>\n",
       "      <th>Destination_New Delhi</th>\n",
       "    </tr>\n",
       "  </thead>\n",
       "  <tbody>\n",
       "    <tr>\n",
       "      <th>0</th>\n",
       "      <td>0</td>\n",
       "      <td>3897</td>\n",
       "      <td>3</td>\n",
       "      <td>24</td>\n",
       "      <td>22</td>\n",
       "      <td>20</td>\n",
       "      <td>1</td>\n",
       "      <td>10</td>\n",
       "      <td>2</td>\n",
       "      <td>50</td>\n",
       "      <td>0</td>\n",
       "      <td>0</td>\n",
       "      <td>1</td>\n",
       "      <td>0</td>\n",
       "      <td>0</td>\n",
       "      <td>0</td>\n",
       "      <td>0</td>\n",
       "      <td>0</td>\n",
       "      <td>0</td>\n",
       "      <td>0</td>\n",
       "      <td>0</td>\n",
       "      <td>0</td>\n",
       "      <td>0</td>\n",
       "      <td>0</td>\n",
       "      <td>0</td>\n",
       "      <td>0</td>\n",
       "      <td>1</td>\n",
       "    </tr>\n",
       "    <tr>\n",
       "      <th>1</th>\n",
       "      <td>2</td>\n",
       "      <td>7662</td>\n",
       "      <td>1</td>\n",
       "      <td>5</td>\n",
       "      <td>5</td>\n",
       "      <td>50</td>\n",
       "      <td>13</td>\n",
       "      <td>15</td>\n",
       "      <td>7</td>\n",
       "      <td>25</td>\n",
       "      <td>1</td>\n",
       "      <td>0</td>\n",
       "      <td>0</td>\n",
       "      <td>0</td>\n",
       "      <td>0</td>\n",
       "      <td>0</td>\n",
       "      <td>0</td>\n",
       "      <td>0</td>\n",
       "      <td>0</td>\n",
       "      <td>0</td>\n",
       "      <td>1</td>\n",
       "      <td>0</td>\n",
       "      <td>0</td>\n",
       "      <td>0</td>\n",
       "      <td>0</td>\n",
       "      <td>0</td>\n",
       "      <td>0</td>\n",
       "    </tr>\n",
       "    <tr>\n",
       "      <th>2</th>\n",
       "      <td>2</td>\n",
       "      <td>13882</td>\n",
       "      <td>9</td>\n",
       "      <td>6</td>\n",
       "      <td>9</td>\n",
       "      <td>25</td>\n",
       "      <td>4</td>\n",
       "      <td>25</td>\n",
       "      <td>19</td>\n",
       "      <td>0</td>\n",
       "      <td>0</td>\n",
       "      <td>0</td>\n",
       "      <td>0</td>\n",
       "      <td>1</td>\n",
       "      <td>0</td>\n",
       "      <td>0</td>\n",
       "      <td>0</td>\n",
       "      <td>0</td>\n",
       "      <td>0</td>\n",
       "      <td>1</td>\n",
       "      <td>0</td>\n",
       "      <td>0</td>\n",
       "      <td>1</td>\n",
       "      <td>0</td>\n",
       "      <td>0</td>\n",
       "      <td>0</td>\n",
       "      <td>0</td>\n",
       "    </tr>\n",
       "    <tr>\n",
       "      <th>3</th>\n",
       "      <td>1</td>\n",
       "      <td>6218</td>\n",
       "      <td>12</td>\n",
       "      <td>5</td>\n",
       "      <td>18</td>\n",
       "      <td>5</td>\n",
       "      <td>23</td>\n",
       "      <td>30</td>\n",
       "      <td>5</td>\n",
       "      <td>25</td>\n",
       "      <td>0</td>\n",
       "      <td>0</td>\n",
       "      <td>1</td>\n",
       "      <td>0</td>\n",
       "      <td>0</td>\n",
       "      <td>0</td>\n",
       "      <td>0</td>\n",
       "      <td>0</td>\n",
       "      <td>0</td>\n",
       "      <td>0</td>\n",
       "      <td>1</td>\n",
       "      <td>0</td>\n",
       "      <td>0</td>\n",
       "      <td>0</td>\n",
       "      <td>0</td>\n",
       "      <td>0</td>\n",
       "      <td>0</td>\n",
       "    </tr>\n",
       "    <tr>\n",
       "      <th>4</th>\n",
       "      <td>1</td>\n",
       "      <td>13302</td>\n",
       "      <td>1</td>\n",
       "      <td>3</td>\n",
       "      <td>16</td>\n",
       "      <td>50</td>\n",
       "      <td>21</td>\n",
       "      <td>35</td>\n",
       "      <td>4</td>\n",
       "      <td>45</td>\n",
       "      <td>0</td>\n",
       "      <td>0</td>\n",
       "      <td>1</td>\n",
       "      <td>0</td>\n",
       "      <td>0</td>\n",
       "      <td>0</td>\n",
       "      <td>0</td>\n",
       "      <td>0</td>\n",
       "      <td>0</td>\n",
       "      <td>0</td>\n",
       "      <td>0</td>\n",
       "      <td>0</td>\n",
       "      <td>0</td>\n",
       "      <td>0</td>\n",
       "      <td>0</td>\n",
       "      <td>0</td>\n",
       "      <td>1</td>\n",
       "    </tr>\n",
       "  </tbody>\n",
       "</table>\n",
       "</div>"
      ],
      "text/plain": [
       "   Total_Stops  Price  Date_of_Journey_Month  Date_of_Journey_Day  Dep_Time_hour  Dep_Time_min  Arrival_Time_hour  Arrival_Time_min  Duration_hours  Duration_minutes  Airline_Air India  Airline_GoAir  Airline_IndiGo  Airline_Jet Airways  Airline_Multiple carriers  Airline_Other  Airline_SpiceJet  Airline_Vistara  Source_Chennai  Source_Delhi  Source_Kolkata  Source_Mumbai  Destination_Cochin  Destination_Delhi  Destination_Hyderabad  Destination_Kolkata  Destination_New Delhi\n",
       "0            0   3897                      3                   24             22            20                  1                10               2                50                  0              0               1                    0                          0              0                 0                0               0             0               0              0                   0                  0                      0                    0                      1\n",
       "1            2   7662                      1                    5              5            50                 13                15               7                25                  1              0               0                    0                          0              0                 0                0               0             0               1              0                   0                  0                      0                    0                      0\n",
       "2            2  13882                      9                    6              9            25                  4                25              19                 0                  0              0               0                    1                          0              0                 0                0               0             1               0              0                   1                  0                      0                    0                      0\n",
       "3            1   6218                     12                    5             18             5                 23                30               5                25                  0              0               1                    0                          0              0                 0                0               0             0               1              0                   0                  0                      0                    0                      0\n",
       "4            1  13302                      1                    3             16            50                 21                35               4                45                  0              0               1                    0                          0              0                 0                0               0             0               0              0                   0                  0                      0                    0                      1"
      ]
     },
     "execution_count": 70,
     "metadata": {},
     "output_type": "execute_result"
    }
   ],
   "source": [
    "train.head()"
   ]
  },
  {
   "cell_type": "markdown",
   "metadata": {},
   "source": [
    "**Feature Selection**"
   ]
  },
  {
   "cell_type": "code",
   "execution_count": 71,
   "metadata": {},
   "outputs": [
    {
     "data": {
      "text/plain": [
       "(10682, 27)"
      ]
     },
     "execution_count": 71,
     "metadata": {},
     "output_type": "execute_result"
    }
   ],
   "source": [
    "train.shape"
   ]
  },
  {
   "cell_type": "code",
   "execution_count": 72,
   "metadata": {},
   "outputs": [
    {
     "data": {
      "text/plain": [
       "(2671, 26)"
      ]
     },
     "execution_count": 72,
     "metadata": {},
     "output_type": "execute_result"
    }
   ],
   "source": [
    "test.shape"
   ]
  },
  {
   "cell_type": "code",
   "execution_count": 73,
   "metadata": {},
   "outputs": [
    {
     "data": {
      "text/plain": [
       "Index(['Total_Stops', 'Price', 'Date_of_Journey_Month', 'Date_of_Journey_Day', 'Dep_Time_hour', 'Dep_Time_min', 'Arrival_Time_hour', 'Arrival_Time_min', 'Duration_hours', 'Duration_minutes', 'Airline_Air India', 'Airline_GoAir', 'Airline_IndiGo', 'Airline_Jet Airways', 'Airline_Multiple carriers', 'Airline_Other', 'Airline_SpiceJet', 'Airline_Vistara', 'Source_Chennai', 'Source_Delhi', 'Source_Kolkata', 'Source_Mumbai', 'Destination_Cochin', 'Destination_Delhi', 'Destination_Hyderabad', 'Destination_Kolkata', 'Destination_New Delhi'], dtype='object')"
      ]
     },
     "execution_count": 73,
     "metadata": {},
     "output_type": "execute_result"
    }
   ],
   "source": [
    "train.columns"
   ]
  },
  {
   "cell_type": "code",
   "execution_count": 74,
   "metadata": {
    "scrolled": true
   },
   "outputs": [
    {
     "data": {
      "text/html": [
       "<div>\n",
       "<style scoped>\n",
       "    .dataframe tbody tr th:only-of-type {\n",
       "        vertical-align: middle;\n",
       "    }\n",
       "\n",
       "    .dataframe tbody tr th {\n",
       "        vertical-align: top;\n",
       "    }\n",
       "\n",
       "    .dataframe thead th {\n",
       "        text-align: right;\n",
       "    }\n",
       "</style>\n",
       "<table border=\"1\" class=\"dataframe\">\n",
       "  <thead>\n",
       "    <tr style=\"text-align: right;\">\n",
       "      <th></th>\n",
       "      <th>Total_Stops</th>\n",
       "      <th>Date_of_Journey_Month</th>\n",
       "      <th>Date_of_Journey_Day</th>\n",
       "      <th>Dep_Time_hour</th>\n",
       "      <th>Dep_Time_min</th>\n",
       "      <th>Arrival_Time_hour</th>\n",
       "      <th>Arrival_Time_min</th>\n",
       "      <th>Duration_hours</th>\n",
       "      <th>Duration_minutes</th>\n",
       "      <th>Airline_Air India</th>\n",
       "      <th>Airline_GoAir</th>\n",
       "      <th>Airline_IndiGo</th>\n",
       "      <th>Airline_Jet Airways</th>\n",
       "      <th>Airline_Multiple carriers</th>\n",
       "      <th>Airline_Other</th>\n",
       "      <th>Airline_SpiceJet</th>\n",
       "      <th>Airline_Vistara</th>\n",
       "      <th>Source_Chennai</th>\n",
       "      <th>Source_Delhi</th>\n",
       "      <th>Source_Kolkata</th>\n",
       "      <th>Source_Mumbai</th>\n",
       "      <th>Destination_Cochin</th>\n",
       "      <th>Destination_Delhi</th>\n",
       "      <th>Destination_Hyderabad</th>\n",
       "      <th>Destination_Kolkata</th>\n",
       "      <th>Destination_New Delhi</th>\n",
       "    </tr>\n",
       "  </thead>\n",
       "  <tbody>\n",
       "    <tr>\n",
       "      <th>0</th>\n",
       "      <td>0</td>\n",
       "      <td>3</td>\n",
       "      <td>24</td>\n",
       "      <td>22</td>\n",
       "      <td>20</td>\n",
       "      <td>1</td>\n",
       "      <td>10</td>\n",
       "      <td>2</td>\n",
       "      <td>50</td>\n",
       "      <td>0</td>\n",
       "      <td>0</td>\n",
       "      <td>1</td>\n",
       "      <td>0</td>\n",
       "      <td>0</td>\n",
       "      <td>0</td>\n",
       "      <td>0</td>\n",
       "      <td>0</td>\n",
       "      <td>0</td>\n",
       "      <td>0</td>\n",
       "      <td>0</td>\n",
       "      <td>0</td>\n",
       "      <td>0</td>\n",
       "      <td>0</td>\n",
       "      <td>0</td>\n",
       "      <td>0</td>\n",
       "      <td>1</td>\n",
       "    </tr>\n",
       "    <tr>\n",
       "      <th>1</th>\n",
       "      <td>2</td>\n",
       "      <td>1</td>\n",
       "      <td>5</td>\n",
       "      <td>5</td>\n",
       "      <td>50</td>\n",
       "      <td>13</td>\n",
       "      <td>15</td>\n",
       "      <td>7</td>\n",
       "      <td>25</td>\n",
       "      <td>1</td>\n",
       "      <td>0</td>\n",
       "      <td>0</td>\n",
       "      <td>0</td>\n",
       "      <td>0</td>\n",
       "      <td>0</td>\n",
       "      <td>0</td>\n",
       "      <td>0</td>\n",
       "      <td>0</td>\n",
       "      <td>0</td>\n",
       "      <td>1</td>\n",
       "      <td>0</td>\n",
       "      <td>0</td>\n",
       "      <td>0</td>\n",
       "      <td>0</td>\n",
       "      <td>0</td>\n",
       "      <td>0</td>\n",
       "    </tr>\n",
       "    <tr>\n",
       "      <th>2</th>\n",
       "      <td>2</td>\n",
       "      <td>9</td>\n",
       "      <td>6</td>\n",
       "      <td>9</td>\n",
       "      <td>25</td>\n",
       "      <td>4</td>\n",
       "      <td>25</td>\n",
       "      <td>19</td>\n",
       "      <td>0</td>\n",
       "      <td>0</td>\n",
       "      <td>0</td>\n",
       "      <td>0</td>\n",
       "      <td>1</td>\n",
       "      <td>0</td>\n",
       "      <td>0</td>\n",
       "      <td>0</td>\n",
       "      <td>0</td>\n",
       "      <td>0</td>\n",
       "      <td>1</td>\n",
       "      <td>0</td>\n",
       "      <td>0</td>\n",
       "      <td>1</td>\n",
       "      <td>0</td>\n",
       "      <td>0</td>\n",
       "      <td>0</td>\n",
       "      <td>0</td>\n",
       "    </tr>\n",
       "    <tr>\n",
       "      <th>3</th>\n",
       "      <td>1</td>\n",
       "      <td>12</td>\n",
       "      <td>5</td>\n",
       "      <td>18</td>\n",
       "      <td>5</td>\n",
       "      <td>23</td>\n",
       "      <td>30</td>\n",
       "      <td>5</td>\n",
       "      <td>25</td>\n",
       "      <td>0</td>\n",
       "      <td>0</td>\n",
       "      <td>1</td>\n",
       "      <td>0</td>\n",
       "      <td>0</td>\n",
       "      <td>0</td>\n",
       "      <td>0</td>\n",
       "      <td>0</td>\n",
       "      <td>0</td>\n",
       "      <td>0</td>\n",
       "      <td>1</td>\n",
       "      <td>0</td>\n",
       "      <td>0</td>\n",
       "      <td>0</td>\n",
       "      <td>0</td>\n",
       "      <td>0</td>\n",
       "      <td>0</td>\n",
       "    </tr>\n",
       "    <tr>\n",
       "      <th>4</th>\n",
       "      <td>1</td>\n",
       "      <td>1</td>\n",
       "      <td>3</td>\n",
       "      <td>16</td>\n",
       "      <td>50</td>\n",
       "      <td>21</td>\n",
       "      <td>35</td>\n",
       "      <td>4</td>\n",
       "      <td>45</td>\n",
       "      <td>0</td>\n",
       "      <td>0</td>\n",
       "      <td>1</td>\n",
       "      <td>0</td>\n",
       "      <td>0</td>\n",
       "      <td>0</td>\n",
       "      <td>0</td>\n",
       "      <td>0</td>\n",
       "      <td>0</td>\n",
       "      <td>0</td>\n",
       "      <td>0</td>\n",
       "      <td>0</td>\n",
       "      <td>0</td>\n",
       "      <td>0</td>\n",
       "      <td>0</td>\n",
       "      <td>0</td>\n",
       "      <td>1</td>\n",
       "    </tr>\n",
       "  </tbody>\n",
       "</table>\n",
       "</div>"
      ],
      "text/plain": [
       "   Total_Stops  Date_of_Journey_Month  Date_of_Journey_Day  Dep_Time_hour  Dep_Time_min  Arrival_Time_hour  Arrival_Time_min  Duration_hours  Duration_minutes  Airline_Air India  Airline_GoAir  Airline_IndiGo  Airline_Jet Airways  Airline_Multiple carriers  Airline_Other  Airline_SpiceJet  Airline_Vistara  Source_Chennai  Source_Delhi  Source_Kolkata  Source_Mumbai  Destination_Cochin  Destination_Delhi  Destination_Hyderabad  Destination_Kolkata  Destination_New Delhi\n",
       "0            0                      3                   24             22            20                  1                10               2                50                  0              0               1                    0                          0              0                 0                0               0             0               0              0                   0                  0                      0                    0                      1\n",
       "1            2                      1                    5              5            50                 13                15               7                25                  1              0               0                    0                          0              0                 0                0               0             0               1              0                   0                  0                      0                    0                      0\n",
       "2            2                      9                    6              9            25                  4                25              19                 0                  0              0               0                    1                          0              0                 0                0               0             1               0              0                   1                  0                      0                    0                      0\n",
       "3            1                     12                    5             18             5                 23                30               5                25                  0              0               1                    0                          0              0                 0                0               0             0               1              0                   0                  0                      0                    0                      0\n",
       "4            1                      1                    3             16            50                 21                35               4                45                  0              0               1                    0                          0              0                 0                0               0             0               0              0                   0                  0                      0                    0                      1"
      ]
     },
     "execution_count": 74,
     "metadata": {},
     "output_type": "execute_result"
    }
   ],
   "source": [
    "X = train.loc[:,['Total_Stops', 'Date_of_Journey_Month', 'Date_of_Journey_Day', 'Dep_Time_hour', 'Dep_Time_min', \n",
    "                 'Arrival_Time_hour', 'Arrival_Time_min', 'Duration_hours', 'Duration_minutes', 'Airline_Air India', \n",
    "                 'Airline_GoAir', 'Airline_IndiGo', 'Airline_Jet Airways', 'Airline_Multiple carriers', 'Airline_Other', \n",
    "                 'Airline_SpiceJet', 'Airline_Vistara', 'Source_Chennai', 'Source_Delhi', 'Source_Kolkata', 'Source_Mumbai', \n",
    "                 'Destination_Cochin', 'Destination_Delhi', 'Destination_Hyderabad', 'Destination_Kolkata', \n",
    "                 'Destination_New Delhi']]\n",
    "X.head()"
   ]
  },
  {
   "cell_type": "code",
   "execution_count": 75,
   "metadata": {},
   "outputs": [
    {
     "data": {
      "text/plain": [
       "0     3897\n",
       "1     7662\n",
       "2    13882\n",
       "3     6218\n",
       "4    13302\n",
       "Name: Price, dtype: int64"
      ]
     },
     "execution_count": 75,
     "metadata": {},
     "output_type": "execute_result"
    }
   ],
   "source": [
    "y = train.iloc[:, 1]\n",
    "y.head()"
   ]
  },
  {
   "cell_type": "code",
   "execution_count": 76,
   "metadata": {},
   "outputs": [],
   "source": [
    "from sklearn.ensemble import ExtraTreesRegressor"
   ]
  },
  {
   "cell_type": "code",
   "execution_count": 77,
   "metadata": {},
   "outputs": [
    {
     "data": {
      "text/plain": [
       "ExtraTreesRegressor()"
      ]
     },
     "execution_count": 77,
     "metadata": {},
     "output_type": "execute_result"
    }
   ],
   "source": [
    "selection = ExtraTreesRegressor()\n",
    "selection.fit(X, y)"
   ]
  },
  {
   "cell_type": "code",
   "execution_count": 78,
   "metadata": {},
   "outputs": [
    {
     "name": "stdout",
     "output_type": "stream",
     "text": [
      "[0.24174518 0.08987888 0.11485157 0.02524779 0.02448028 0.02942031\n",
      " 0.02154895 0.11845024 0.01773623 0.01074537 0.00199054 0.02348569\n",
      " 0.1362313  0.01566277 0.03282241 0.00391412 0.00485378 0.00057091\n",
      " 0.00773973 0.00479333 0.00678594 0.01203142 0.01269531 0.00750761\n",
      " 0.00048255 0.03432779]\n"
     ]
    }
   ],
   "source": [
    "print(selection.feature_importances_)"
   ]
  },
  {
   "cell_type": "code",
   "execution_count": 79,
   "metadata": {
    "scrolled": false
   },
   "outputs": [
    {
     "data": {
      "image/png": "[encoded data removed]",
      "text/plain": [
       "<Figure size 864x576 with 1 Axes>"
      ]
     },
     "metadata": {
      "needs_background": "light"
     },
     "output_type": "display_data"
    }
   ],
   "source": [
    "# Plot a graph showing the most significant variables \n",
    "\n",
    "plt.figure(figsize = (12,8))\n",
    "feat_importances = pd.Series(selection.feature_importances_, index=X.columns)\n",
    "feat_importances.nlargest(20).plot(kind='barh')\n",
    "plt.show()"
   ]
  },
  {
   "cell_type": "code",
   "execution_count": 80,
   "metadata": {},
   "outputs": [],
   "source": [
    "# be generated by our model in final step\n",
    "X = train.drop([\"Price\"], axis=1)\n",
    "y = np.log1p(train[\"Price\"])\n",
    "# y = df_train[\"Price\"]\n",
    "X_test = test"
   ]
  },
  {
   "cell_type": "code",
   "execution_count": 81,
   "metadata": {},
   "outputs": [],
   "source": [
    "from sklearn.model_selection import train_test_split"
   ]
  },
  {
   "cell_type": "code",
   "execution_count": 82,
   "metadata": {},
   "outputs": [],
   "source": [
    "X_train, X_test, y_train, y_test = train_test_split(X, y, test_size=0.2, random_state=42)"
   ]
  },
  {
   "cell_type": "code",
   "execution_count": 83,
   "metadata": {},
   "outputs": [
    {
     "data": {
      "text/plain": [
       "6075     9.720526\n",
       "3544     8.509161\n",
       "9291     9.125654\n",
       "5032     8.258163\n",
       "2483     9.464905\n",
       "           ...   \n",
       "9797     8.910451\n",
       "9871     8.438799\n",
       "10063    8.916372\n",
       "8802     9.085344\n",
       "8617     9.557611\n",
       "Name: Price, Length: 2137, dtype: float64"
      ]
     },
     "execution_count": 83,
     "metadata": {},
     "output_type": "execute_result"
    }
   ],
   "source": [
    "y_test"
   ]
  },
  {
   "cell_type": "code",
   "execution_count": 84,
   "metadata": {},
   "outputs": [],
   "source": [
    "from sklearn.preprocessing import StandardScaler"
   ]
  },
  {
   "cell_type": "code",
   "execution_count": 85,
   "metadata": {},
   "outputs": [],
   "source": [
    "sc = StandardScaler()\n",
    "X_train = sc.fit_transform(X_train)\n",
    "X_test = sc.transform(X_test)"
   ]
  },
  {
   "cell_type": "markdown",
   "metadata": {},
   "source": [
    "# Creating a Model"
   ]
  },
  {
   "cell_type": "markdown",
   "metadata": {},
   "source": [
    "# 1. Linear Regression"
   ]
  },
  {
   "cell_type": "code",
   "execution_count": 86,
   "metadata": {},
   "outputs": [],
   "source": [
    "from sklearn.linear_model import LinearRegression\n",
    "lr = LinearRegression()"
   ]
  },
  {
   "cell_type": "code",
   "execution_count": 87,
   "metadata": {},
   "outputs": [
    {
     "data": {
      "text/plain": [
       "LinearRegression()"
      ]
     },
     "execution_count": 87,
     "metadata": {},
     "output_type": "execute_result"
    }
   ],
   "source": [
    "lr.fit(X_train, y_train)"
   ]
  },
  {
   "cell_type": "markdown",
   "metadata": {},
   "source": [
    "# Prediction from our Models"
   ]
  },
  {
   "cell_type": "code",
   "execution_count": 88,
   "metadata": {},
   "outputs": [],
   "source": [
    "predictions = lr.predict(X_test)"
   ]
  },
  {
   "cell_type": "markdown",
   "metadata": {},
   "source": [
    "**Scatter Plot**"
   ]
  },
  {
   "cell_type": "code",
   "execution_count": 89,
   "metadata": {},
   "outputs": [
    {
     "data": {
      "text/plain": [
       "Text(0, 0.5, 'predictions')"
      ]
     },
     "execution_count": 89,
     "metadata": {},
     "output_type": "execute_result"
    },
    {
     "data": {
      "image/png": "[encoded data removed]",
      "text/plain": [
       "<Figure size 432x288 with 1 Axes>"
      ]
     },
     "metadata": {
      "needs_background": "light"
     },
     "output_type": "display_data"
    }
   ],
   "source": [
    "plt.scatter(y_test, predictions, alpha = 0.5)\n",
    "plt.xlabel(\"y_test\")\n",
    "plt.ylabel(\"predictions\")"
   ]
  },
  {
   "cell_type": "markdown",
   "metadata": {},
   "source": [
    "**Residual Histogram**"
   ]
  },
  {
   "cell_type": "code",
   "execution_count": 90,
   "metadata": {},
   "outputs": [
    {
     "data": {
      "text/plain": [
       "<matplotlib.axes._subplots.AxesSubplot at 0x1f901fc76d8>"
      ]
     },
     "execution_count": 90,
     "metadata": {},
     "output_type": "execute_result"
    },
    {
     "data": {
      "image/png": "[encoded data removed]",
      "text/plain": [
       "<Figure size 432x288 with 1 Axes>"
      ]
     },
     "metadata": {
      "needs_background": "light"
     },
     "output_type": "display_data"
    }
   ],
   "source": [
    "sns.distplot((y_test-predictions), bins = 50)"
   ]
  },
  {
   "cell_type": "markdown",
   "metadata": {},
   "source": [
    "# Regression Evaluation Metrics"
   ]
  },
  {
   "cell_type": "code",
   "execution_count": 91,
   "metadata": {},
   "outputs": [],
   "source": [
    "from sklearn import metrics"
   ]
  },
  {
   "cell_type": "code",
   "execution_count": 92,
   "metadata": {},
   "outputs": [
    {
     "name": "stdout",
     "output_type": "stream",
     "text": [
      "MAE: 0.20624294810255808\n",
      "MSE: 0.07479040983656486\n",
      "RMSE: 0.2734783535063879\n"
     ]
    }
   ],
   "source": [
    "print('MAE:', metrics.mean_absolute_error(y_test, predictions))\n",
    "print('MSE:', metrics.mean_squared_error(y_test, predictions))\n",
    "print('RMSE:', np.sqrt(metrics.mean_squared_error(y_test, predictions)))"
   ]
  },
  {
   "cell_type": "markdown",
   "metadata": {},
   "source": [
    "# 2. XgBoostRegressor"
   ]
  },
  {
   "cell_type": "code",
   "execution_count": 93,
   "metadata": {},
   "outputs": [],
   "source": [
    "from sklearn.ensemble import RandomForestRegressor"
   ]
  },
  {
   "cell_type": "code",
   "execution_count": 94,
   "metadata": {},
   "outputs": [
    {
     "data": {
      "text/plain": [
       "RandomForestRegressor()"
      ]
     },
     "execution_count": 94,
     "metadata": {},
     "output_type": "execute_result"
    }
   ],
   "source": [
    "reg_rf = RandomForestRegressor()\n",
    "reg_rf.fit(X_train, y_train)"
   ]
  },
  {
   "cell_type": "code",
   "execution_count": 95,
   "metadata": {},
   "outputs": [],
   "source": [
    "y_pred = reg_rf.predict(X_test)"
   ]
  },
  {
   "cell_type": "code",
   "execution_count": 96,
   "metadata": {},
   "outputs": [
    {
     "data": {
      "text/plain": [
       "0.9624156673828663"
      ]
     },
     "execution_count": 96,
     "metadata": {},
     "output_type": "execute_result"
    }
   ],
   "source": [
    "reg_rf.score(X_train, y_train)"
   ]
  },
  {
   "cell_type": "code",
   "execution_count": 97,
   "metadata": {},
   "outputs": [
    {
     "data": {
      "text/plain": [
       "0.8695440526617003"
      ]
     },
     "execution_count": 97,
     "metadata": {},
     "output_type": "execute_result"
    }
   ],
   "source": [
    "reg_rf.score(X_test, y_test)"
   ]
  },
  {
   "cell_type": "code",
   "execution_count": 98,
   "metadata": {},
   "outputs": [
    {
     "data": {
      "text/plain": [
       "<matplotlib.axes._subplots.AxesSubplot at 0x1f908a2b358>"
      ]
     },
     "execution_count": 98,
     "metadata": {},
     "output_type": "execute_result"
    },
    {
     "data": {
      "image/png": "[encoded data removed]",
      "text/plain": [
       "<Figure size 432x288 with 1 Axes>"
      ]
     },
     "metadata": {
      "needs_background": "light"
     },
     "output_type": "display_data"
    }
   ],
   "source": [
    "sns.distplot((y_test-y_pred), bins = 50)"
   ]
  },
  {
   "cell_type": "code",
   "execution_count": 99,
   "metadata": {},
   "outputs": [
    {
     "data": {
      "text/plain": [
       "Text(0, 0.5, 'y_pred')"
      ]
     },
     "execution_count": 99,
     "metadata": {},
     "output_type": "execute_result"
    },
    {
     "data": {
      "image/png": "[encoded data removed]",
      "text/plain": [
       "<Figure size 432x288 with 1 Axes>"
      ]
     },
     "metadata": {
      "needs_background": "light"
     },
     "output_type": "display_data"
    }
   ],
   "source": [
    "plt.scatter(y_test, y_pred, alpha = 0.5)\n",
    "plt.xlabel(\"y_test\")\n",
    "plt.ylabel(\"y_pred\")"
   ]
  },
  {
   "cell_type": "code",
   "execution_count": 100,
   "metadata": {},
   "outputs": [
    {
     "name": "stdout",
     "output_type": "stream",
     "text": [
      "MAE: 0.1239184196878459\n",
      "MSE: 0.03549624688264165\n",
      "RMSE: 0.1884044768115706\n"
     ]
    }
   ],
   "source": [
    "print('MAE:', metrics.mean_absolute_error(y_test, y_pred))\n",
    "print('MSE:', metrics.mean_squared_error(y_test, y_pred))\n",
    "print('RMSE:', np.sqrt(metrics.mean_squared_error(y_test, y_pred)))"
   ]
  },
  {
   "cell_type": "markdown",
   "metadata": {},
   "source": [
    "# HyperParameter Tuning"
   ]
  },
  {
   "cell_type": "markdown",
   "metadata": {},
   "source": [
    "**Using RandomizedSearchCV for HyperParameter tuning**"
   ]
  },
  {
   "cell_type": "code",
   "execution_count": 101,
   "metadata": {},
   "outputs": [],
   "source": [
    "from sklearn.model_selection import RandomizedSearchCV"
   ]
  },
  {
   "cell_type": "code",
   "execution_count": 102,
   "metadata": {},
   "outputs": [],
   "source": [
    "#Randomized Search CV\n",
    "\n",
    "# Number of trees in random forest\n",
    "n_estimators = [int(x) for x in np.linspace(start = 10, stop = 1200, num = 22)]\n",
    "# Number of features to consider at every split\n",
    "max_features = ['auto', 'sqrt']\n",
    "# Maximum number of levels in tree\n",
    "max_depth = [int(x) for x in np.linspace(5, 50, num = 6)]\n",
    "# Minimum number of samples required to split a node\n",
    "min_samples_split = [2, 5, 10, 15, 100]\n",
    "# Minimum number of samples required at each leaf node\n",
    "min_samples_leaf = [1, 2, 5, 10]"
   ]
  },
  {
   "cell_type": "code",
   "execution_count": 103,
   "metadata": {},
   "outputs": [],
   "source": [
    "# Create a random grid\n",
    "\n",
    "random_grid = {\"n_estimators\":n_estimators,\n",
    "               \"max_features\":max_features,\n",
    "               \"max_depth\":max_depth,\n",
    "               \"min_samples_split\":min_samples_split,\n",
    "               \"min_samples_leaf\":min_samples_leaf}"
   ]
  },
  {
   "cell_type": "code",
   "execution_count": 104,
   "metadata": {},
   "outputs": [],
   "source": [
    "# Random search of parameters, using 10 fold cross validation, \n",
    "# search across 100 different combinations\n",
    "rf_random = RandomizedSearchCV(estimator = reg_rf, param_distributions = random_grid,scoring='neg_mean_squared_error', \n",
    "                               n_iter = 10, cv = 10, verbose=2, random_state=42, n_jobs = 1)"
   ]
  },
  {
   "cell_type": "code",
   "execution_count": 105,
   "metadata": {},
   "outputs": [
    {
     "name": "stdout",
     "output_type": "stream",
     "text": [
      "Fitting 10 folds for each of 10 candidates, totalling 100 fits\n",
      "[CV] n_estimators=123, min_samples_split=100, min_samples_leaf=10, max_features=sqrt, max_depth=5 \n"
     ]
    },
    {
     "name": "stderr",
     "output_type": "stream",
     "text": [
      "[Parallel(n_jobs=1)]: Using backend SequentialBackend with 1 concurrent workers.\n"
     ]
    },
    {
     "name": "stdout",
     "output_type": "stream",
     "text": [
      "[CV]  n_estimators=123, min_samples_split=100, min_samples_leaf=10, max_features=sqrt, max_depth=5, total=   0.9s\n",
      "[CV] n_estimators=123, min_samples_split=100, min_samples_leaf=10, max_features=sqrt, max_depth=5 \n"
     ]
    },
    {
     "name": "stderr",
     "output_type": "stream",
     "text": [
      "[Parallel(n_jobs=1)]: Done   1 out of   1 | elapsed:    0.8s remaining:    0.0s\n"
     ]
    },
    {
     "name": "stdout",
     "output_type": "stream",
     "text": [
      "[CV]  n_estimators=123, min_samples_split=100, min_samples_leaf=10, max_features=sqrt, max_depth=5, total=   0.8s\n",
      "[CV] n_estimators=123, min_samples_split=100, min_samples_leaf=10, max_features=sqrt, max_depth=5 \n",
      "[CV]  n_estimators=123, min_samples_split=100, min_samples_leaf=10, max_features=sqrt, max_depth=5, total=   0.8s\n",
      "[CV] n_estimators=123, min_samples_split=100, min_samples_leaf=10, max_features=sqrt, max_depth=5 \n",
      "[CV]  n_estimators=123, min_samples_split=100, min_samples_leaf=10, max_features=sqrt, max_depth=5, total=   0.7s\n",
      "[CV] n_estimators=123, min_samples_split=100, min_samples_leaf=10, max_features=sqrt, max_depth=5 \n",
      "[CV]  n_estimators=123, min_samples_split=100, min_samples_leaf=10, max_features=sqrt, max_depth=5, total=   0.7s\n",
      "[CV] n_estimators=123, min_samples_split=100, min_samples_leaf=10, max_features=sqrt, max_depth=5 \n",
      "[CV]  n_estimators=123, min_samples_split=100, min_samples_leaf=10, max_features=sqrt, max_depth=5, total=   0.7s\n",
      "[CV] n_estimators=123, min_samples_split=100, min_samples_leaf=10, max_features=sqrt, max_depth=5 \n",
      "[CV]  n_estimators=123, min_samples_split=100, min_samples_leaf=10, max_features=sqrt, max_depth=5, total=   0.7s\n",
      "[CV] n_estimators=123, min_samples_split=100, min_samples_leaf=10, max_features=sqrt, max_depth=5 \n",
      "[CV]  n_estimators=123, min_samples_split=100, min_samples_leaf=10, max_features=sqrt, max_depth=5, total=   0.7s\n",
      "[CV] n_estimators=123, min_samples_split=100, min_samples_leaf=10, max_features=sqrt, max_depth=5 \n",
      "[CV]  n_estimators=123, min_samples_split=100, min_samples_leaf=10, max_features=sqrt, max_depth=5, total=   0.7s\n",
      "[CV] n_estimators=123, min_samples_split=100, min_samples_leaf=10, max_features=sqrt, max_depth=5 \n",
      "[CV]  n_estimators=123, min_samples_split=100, min_samples_leaf=10, max_features=sqrt, max_depth=5, total=   0.7s\n",
      "[CV] n_estimators=690, min_samples_split=10, min_samples_leaf=10, max_features=sqrt, max_depth=50 \n",
      "[CV]  n_estimators=690, min_samples_split=10, min_samples_leaf=10, max_features=sqrt, max_depth=50, total=   6.0s\n",
      "[CV] n_estimators=690, min_samples_split=10, min_samples_leaf=10, max_features=sqrt, max_depth=50 \n",
      "[CV]  n_estimators=690, min_samples_split=10, min_samples_leaf=10, max_features=sqrt, max_depth=50, total=   6.3s\n",
      "[CV] n_estimators=690, min_samples_split=10, min_samples_leaf=10, max_features=sqrt, max_depth=50 \n",
      "[CV]  n_estimators=690, min_samples_split=10, min_samples_leaf=10, max_features=sqrt, max_depth=50, total=   8.0s\n",
      "[CV] n_estimators=690, min_samples_split=10, min_samples_leaf=10, max_features=sqrt, max_depth=50 \n",
      "[CV]  n_estimators=690, min_samples_split=10, min_samples_leaf=10, max_features=sqrt, max_depth=50, total=   6.4s\n",
      "[CV] n_estimators=690, min_samples_split=10, min_samples_leaf=10, max_features=sqrt, max_depth=50 \n",
      "[CV]  n_estimators=690, min_samples_split=10, min_samples_leaf=10, max_features=sqrt, max_depth=50, total=   6.4s\n",
      "[CV] n_estimators=690, min_samples_split=10, min_samples_leaf=10, max_features=sqrt, max_depth=50 \n",
      "[CV]  n_estimators=690, min_samples_split=10, min_samples_leaf=10, max_features=sqrt, max_depth=50, total=   6.2s\n",
      "[CV] n_estimators=690, min_samples_split=10, min_samples_leaf=10, max_features=sqrt, max_depth=50 \n",
      "[CV]  n_estimators=690, min_samples_split=10, min_samples_leaf=10, max_features=sqrt, max_depth=50, total=   9.7s\n",
      "[CV] n_estimators=690, min_samples_split=10, min_samples_leaf=10, max_features=sqrt, max_depth=50 \n",
      "[CV]  n_estimators=690, min_samples_split=10, min_samples_leaf=10, max_features=sqrt, max_depth=50, total=   9.3s\n",
      "[CV] n_estimators=690, min_samples_split=10, min_samples_leaf=10, max_features=sqrt, max_depth=50 \n",
      "[CV]  n_estimators=690, min_samples_split=10, min_samples_leaf=10, max_features=sqrt, max_depth=50, total=   9.4s\n",
      "[CV] n_estimators=690, min_samples_split=10, min_samples_leaf=10, max_features=sqrt, max_depth=50 \n",
      "[CV]  n_estimators=690, min_samples_split=10, min_samples_leaf=10, max_features=sqrt, max_depth=50, total=   9.4s\n",
      "[CV] n_estimators=1200, min_samples_split=2, min_samples_leaf=10, max_features=sqrt, max_depth=50 \n",
      "[CV]  n_estimators=1200, min_samples_split=2, min_samples_leaf=10, max_features=sqrt, max_depth=50, total= 1.2min\n",
      "[CV] n_estimators=1200, min_samples_split=2, min_samples_leaf=10, max_features=sqrt, max_depth=50 \n",
      "[CV]  n_estimators=1200, min_samples_split=2, min_samples_leaf=10, max_features=sqrt, max_depth=50, total= 1.3min\n",
      "[CV] n_estimators=1200, min_samples_split=2, min_samples_leaf=10, max_features=sqrt, max_depth=50 \n",
      "[CV]  n_estimators=1200, min_samples_split=2, min_samples_leaf=10, max_features=sqrt, max_depth=50, total= 1.5min\n",
      "[CV] n_estimators=1200, min_samples_split=2, min_samples_leaf=10, max_features=sqrt, max_depth=50 \n",
      "[CV]  n_estimators=1200, min_samples_split=2, min_samples_leaf=10, max_features=sqrt, max_depth=50, total= 1.3min\n",
      "[CV] n_estimators=1200, min_samples_split=2, min_samples_leaf=10, max_features=sqrt, max_depth=50 \n",
      "[CV]  n_estimators=1200, min_samples_split=2, min_samples_leaf=10, max_features=sqrt, max_depth=50, total=  38.3s\n",
      "[CV] n_estimators=1200, min_samples_split=2, min_samples_leaf=10, max_features=sqrt, max_depth=50 \n",
      "[CV]  n_estimators=1200, min_samples_split=2, min_samples_leaf=10, max_features=sqrt, max_depth=50, total=  11.7s\n",
      "[CV] n_estimators=1200, min_samples_split=2, min_samples_leaf=10, max_features=sqrt, max_depth=50 \n",
      "[CV]  n_estimators=1200, min_samples_split=2, min_samples_leaf=10, max_features=sqrt, max_depth=50, total=  10.7s\n",
      "[CV] n_estimators=1200, min_samples_split=2, min_samples_leaf=10, max_features=sqrt, max_depth=50 \n",
      "[CV]  n_estimators=1200, min_samples_split=2, min_samples_leaf=10, max_features=sqrt, max_depth=50, total=  10.4s\n",
      "[CV] n_estimators=1200, min_samples_split=2, min_samples_leaf=10, max_features=sqrt, max_depth=50 \n",
      "[CV]  n_estimators=1200, min_samples_split=2, min_samples_leaf=10, max_features=sqrt, max_depth=50, total=  10.6s\n",
      "[CV] n_estimators=1200, min_samples_split=2, min_samples_leaf=10, max_features=sqrt, max_depth=50 \n",
      "[CV]  n_estimators=1200, min_samples_split=2, min_samples_leaf=10, max_features=sqrt, max_depth=50, total=  10.4s\n",
      "[CV] n_estimators=576, min_samples_split=5, min_samples_leaf=5, max_features=auto, max_depth=41 \n",
      "[CV]  n_estimators=576, min_samples_split=5, min_samples_leaf=5, max_features=auto, max_depth=41, total=  16.6s\n",
      "[CV] n_estimators=576, min_samples_split=5, min_samples_leaf=5, max_features=auto, max_depth=41 \n",
      "[CV]  n_estimators=576, min_samples_split=5, min_samples_leaf=5, max_features=auto, max_depth=41, total=  19.0s\n",
      "[CV] n_estimators=576, min_samples_split=5, min_samples_leaf=5, max_features=auto, max_depth=41 \n",
      "[CV]  n_estimators=576, min_samples_split=5, min_samples_leaf=5, max_features=auto, max_depth=41, total=  21.5s\n",
      "[CV] n_estimators=576, min_samples_split=5, min_samples_leaf=5, max_features=auto, max_depth=41 \n",
      "[CV]  n_estimators=576, min_samples_split=5, min_samples_leaf=5, max_features=auto, max_depth=41, total=  19.1s\n",
      "[CV] n_estimators=576, min_samples_split=5, min_samples_leaf=5, max_features=auto, max_depth=41 \n",
      "[CV]  n_estimators=576, min_samples_split=5, min_samples_leaf=5, max_features=auto, max_depth=41, total=  30.3s\n",
      "[CV] n_estimators=576, min_samples_split=5, min_samples_leaf=5, max_features=auto, max_depth=41 \n",
      "[CV]  n_estimators=576, min_samples_split=5, min_samples_leaf=5, max_features=auto, max_depth=41, total=  53.7s\n",
      "[CV] n_estimators=576, min_samples_split=5, min_samples_leaf=5, max_features=auto, max_depth=41 \n",
      "[CV]  n_estimators=576, min_samples_split=5, min_samples_leaf=5, max_features=auto, max_depth=41, total=  28.3s\n",
      "[CV] n_estimators=576, min_samples_split=5, min_samples_leaf=5, max_features=auto, max_depth=41 \n",
      "[CV]  n_estimators=576, min_samples_split=5, min_samples_leaf=5, max_features=auto, max_depth=41, total=  16.7s\n",
      "[CV] n_estimators=576, min_samples_split=5, min_samples_leaf=5, max_features=auto, max_depth=41 \n",
      "[CV]  n_estimators=576, min_samples_split=5, min_samples_leaf=5, max_features=auto, max_depth=41, total=  17.2s\n",
      "[CV] n_estimators=576, min_samples_split=5, min_samples_leaf=5, max_features=auto, max_depth=41 \n",
      "[CV]  n_estimators=576, min_samples_split=5, min_samples_leaf=5, max_features=auto, max_depth=41, total=  16.8s\n",
      "[CV] n_estimators=690, min_samples_split=2, min_samples_leaf=1, max_features=sqrt, max_depth=32 \n"
     ]
    },
    {
     "name": "stdout",
     "output_type": "stream",
     "text": [
      "[CV]  n_estimators=690, min_samples_split=2, min_samples_leaf=1, max_features=sqrt, max_depth=32, total=  11.7s\n",
      "[CV] n_estimators=690, min_samples_split=2, min_samples_leaf=1, max_features=sqrt, max_depth=32 \n",
      "[CV]  n_estimators=690, min_samples_split=2, min_samples_leaf=1, max_features=sqrt, max_depth=32, total=  11.7s\n",
      "[CV] n_estimators=690, min_samples_split=2, min_samples_leaf=1, max_features=sqrt, max_depth=32 \n",
      "[CV]  n_estimators=690, min_samples_split=2, min_samples_leaf=1, max_features=sqrt, max_depth=32, total=  11.5s\n",
      "[CV] n_estimators=690, min_samples_split=2, min_samples_leaf=1, max_features=sqrt, max_depth=32 \n",
      "[CV]  n_estimators=690, min_samples_split=2, min_samples_leaf=1, max_features=sqrt, max_depth=32, total=  11.5s\n",
      "[CV] n_estimators=690, min_samples_split=2, min_samples_leaf=1, max_features=sqrt, max_depth=32 \n",
      "[CV]  n_estimators=690, min_samples_split=2, min_samples_leaf=1, max_features=sqrt, max_depth=32, total=  11.5s\n",
      "[CV] n_estimators=690, min_samples_split=2, min_samples_leaf=1, max_features=sqrt, max_depth=32 \n",
      "[CV]  n_estimators=690, min_samples_split=2, min_samples_leaf=1, max_features=sqrt, max_depth=32, total=  11.7s\n",
      "[CV] n_estimators=690, min_samples_split=2, min_samples_leaf=1, max_features=sqrt, max_depth=32 \n",
      "[CV]  n_estimators=690, min_samples_split=2, min_samples_leaf=1, max_features=sqrt, max_depth=32, total=  11.6s\n",
      "[CV] n_estimators=690, min_samples_split=2, min_samples_leaf=1, max_features=sqrt, max_depth=32 \n",
      "[CV]  n_estimators=690, min_samples_split=2, min_samples_leaf=1, max_features=sqrt, max_depth=32, total=  11.5s\n",
      "[CV] n_estimators=690, min_samples_split=2, min_samples_leaf=1, max_features=sqrt, max_depth=32 \n",
      "[CV]  n_estimators=690, min_samples_split=2, min_samples_leaf=1, max_features=sqrt, max_depth=32, total=  11.4s\n",
      "[CV] n_estimators=690, min_samples_split=2, min_samples_leaf=1, max_features=sqrt, max_depth=32 \n",
      "[CV]  n_estimators=690, min_samples_split=2, min_samples_leaf=1, max_features=sqrt, max_depth=32, total=  11.5s\n",
      "[CV] n_estimators=236, min_samples_split=5, min_samples_leaf=1, max_features=sqrt, max_depth=5 \n",
      "[CV]  n_estimators=236, min_samples_split=5, min_samples_leaf=1, max_features=sqrt, max_depth=5, total=   1.3s\n",
      "[CV] n_estimators=236, min_samples_split=5, min_samples_leaf=1, max_features=sqrt, max_depth=5 \n",
      "[CV]  n_estimators=236, min_samples_split=5, min_samples_leaf=1, max_features=sqrt, max_depth=5, total=   1.3s\n",
      "[CV] n_estimators=236, min_samples_split=5, min_samples_leaf=1, max_features=sqrt, max_depth=5 \n",
      "[CV]  n_estimators=236, min_samples_split=5, min_samples_leaf=1, max_features=sqrt, max_depth=5, total=   1.3s\n",
      "[CV] n_estimators=236, min_samples_split=5, min_samples_leaf=1, max_features=sqrt, max_depth=5 \n",
      "[CV]  n_estimators=236, min_samples_split=5, min_samples_leaf=1, max_features=sqrt, max_depth=5, total=   1.3s\n",
      "[CV] n_estimators=236, min_samples_split=5, min_samples_leaf=1, max_features=sqrt, max_depth=5 \n",
      "[CV]  n_estimators=236, min_samples_split=5, min_samples_leaf=1, max_features=sqrt, max_depth=5, total=   1.3s\n",
      "[CV] n_estimators=236, min_samples_split=5, min_samples_leaf=1, max_features=sqrt, max_depth=5 \n",
      "[CV]  n_estimators=236, min_samples_split=5, min_samples_leaf=1, max_features=sqrt, max_depth=5, total=   1.3s\n",
      "[CV] n_estimators=236, min_samples_split=5, min_samples_leaf=1, max_features=sqrt, max_depth=5 \n",
      "[CV]  n_estimators=236, min_samples_split=5, min_samples_leaf=1, max_features=sqrt, max_depth=5, total=   1.3s\n",
      "[CV] n_estimators=236, min_samples_split=5, min_samples_leaf=1, max_features=sqrt, max_depth=5 \n",
      "[CV]  n_estimators=236, min_samples_split=5, min_samples_leaf=1, max_features=sqrt, max_depth=5, total=   1.3s\n",
      "[CV] n_estimators=236, min_samples_split=5, min_samples_leaf=1, max_features=sqrt, max_depth=5 \n",
      "[CV]  n_estimators=236, min_samples_split=5, min_samples_leaf=1, max_features=sqrt, max_depth=5, total=   1.4s\n",
      "[CV] n_estimators=236, min_samples_split=5, min_samples_leaf=1, max_features=sqrt, max_depth=5 \n",
      "[CV]  n_estimators=236, min_samples_split=5, min_samples_leaf=1, max_features=sqrt, max_depth=5, total=   2.1s\n",
      "[CV] n_estimators=236, min_samples_split=5, min_samples_leaf=1, max_features=auto, max_depth=50 \n",
      "[CV]  n_estimators=236, min_samples_split=5, min_samples_leaf=1, max_features=auto, max_depth=50, total=  12.4s\n",
      "[CV] n_estimators=236, min_samples_split=5, min_samples_leaf=1, max_features=auto, max_depth=50 \n",
      "[CV]  n_estimators=236, min_samples_split=5, min_samples_leaf=1, max_features=auto, max_depth=50, total=  12.4s\n",
      "[CV] n_estimators=236, min_samples_split=5, min_samples_leaf=1, max_features=auto, max_depth=50 \n",
      "[CV]  n_estimators=236, min_samples_split=5, min_samples_leaf=1, max_features=auto, max_depth=50, total=   8.5s\n",
      "[CV] n_estimators=236, min_samples_split=5, min_samples_leaf=1, max_features=auto, max_depth=50 \n",
      "[CV]  n_estimators=236, min_samples_split=5, min_samples_leaf=1, max_features=auto, max_depth=50, total=   9.3s\n",
      "[CV] n_estimators=236, min_samples_split=5, min_samples_leaf=1, max_features=auto, max_depth=50 \n",
      "[CV]  n_estimators=236, min_samples_split=5, min_samples_leaf=1, max_features=auto, max_depth=50, total=   9.6s\n",
      "[CV] n_estimators=236, min_samples_split=5, min_samples_leaf=1, max_features=auto, max_depth=50 \n",
      "[CV]  n_estimators=236, min_samples_split=5, min_samples_leaf=1, max_features=auto, max_depth=50, total=   9.6s\n",
      "[CV] n_estimators=236, min_samples_split=5, min_samples_leaf=1, max_features=auto, max_depth=50 \n",
      "[CV]  n_estimators=236, min_samples_split=5, min_samples_leaf=1, max_features=auto, max_depth=50, total=   9.3s\n",
      "[CV] n_estimators=236, min_samples_split=5, min_samples_leaf=1, max_features=auto, max_depth=50 \n",
      "[CV]  n_estimators=236, min_samples_split=5, min_samples_leaf=1, max_features=auto, max_depth=50, total=   9.0s\n",
      "[CV] n_estimators=236, min_samples_split=5, min_samples_leaf=1, max_features=auto, max_depth=50 \n",
      "[CV]  n_estimators=236, min_samples_split=5, min_samples_leaf=1, max_features=auto, max_depth=50, total=   9.3s\n",
      "[CV] n_estimators=236, min_samples_split=5, min_samples_leaf=1, max_features=auto, max_depth=50 \n",
      "[CV]  n_estimators=236, min_samples_split=5, min_samples_leaf=1, max_features=auto, max_depth=50, total=   9.5s\n",
      "[CV] n_estimators=690, min_samples_split=5, min_samples_leaf=10, max_features=sqrt, max_depth=32 \n",
      "[CV]  n_estimators=690, min_samples_split=5, min_samples_leaf=10, max_features=sqrt, max_depth=32, total=   7.3s\n",
      "[CV] n_estimators=690, min_samples_split=5, min_samples_leaf=10, max_features=sqrt, max_depth=32 \n",
      "[CV]  n_estimators=690, min_samples_split=5, min_samples_leaf=10, max_features=sqrt, max_depth=32, total=   7.2s\n",
      "[CV] n_estimators=690, min_samples_split=5, min_samples_leaf=10, max_features=sqrt, max_depth=32 \n",
      "[CV]  n_estimators=690, min_samples_split=5, min_samples_leaf=10, max_features=sqrt, max_depth=32, total=   7.6s\n",
      "[CV] n_estimators=690, min_samples_split=5, min_samples_leaf=10, max_features=sqrt, max_depth=32 \n",
      "[CV]  n_estimators=690, min_samples_split=5, min_samples_leaf=10, max_features=sqrt, max_depth=32, total=   7.4s\n",
      "[CV] n_estimators=690, min_samples_split=5, min_samples_leaf=10, max_features=sqrt, max_depth=32 \n",
      "[CV]  n_estimators=690, min_samples_split=5, min_samples_leaf=10, max_features=sqrt, max_depth=32, total=   7.4s\n",
      "[CV] n_estimators=690, min_samples_split=5, min_samples_leaf=10, max_features=sqrt, max_depth=32 \n",
      "[CV]  n_estimators=690, min_samples_split=5, min_samples_leaf=10, max_features=sqrt, max_depth=32, total=   7.2s\n",
      "[CV] n_estimators=690, min_samples_split=5, min_samples_leaf=10, max_features=sqrt, max_depth=32 \n",
      "[CV]  n_estimators=690, min_samples_split=5, min_samples_leaf=10, max_features=sqrt, max_depth=32, total=   7.1s\n",
      "[CV] n_estimators=690, min_samples_split=5, min_samples_leaf=10, max_features=sqrt, max_depth=32 \n",
      "[CV]  n_estimators=690, min_samples_split=5, min_samples_leaf=10, max_features=sqrt, max_depth=32, total=   7.4s\n",
      "[CV] n_estimators=690, min_samples_split=5, min_samples_leaf=10, max_features=sqrt, max_depth=32 \n",
      "[CV]  n_estimators=690, min_samples_split=5, min_samples_leaf=10, max_features=sqrt, max_depth=32, total=   7.3s\n",
      "[CV] n_estimators=690, min_samples_split=5, min_samples_leaf=10, max_features=sqrt, max_depth=32 \n",
      "[CV]  n_estimators=690, min_samples_split=5, min_samples_leaf=10, max_features=sqrt, max_depth=32, total=   7.4s\n",
      "[CV] n_estimators=180, min_samples_split=100, min_samples_leaf=1, max_features=sqrt, max_depth=32 \n"
     ]
    },
    {
     "name": "stdout",
     "output_type": "stream",
     "text": [
      "[CV]  n_estimators=180, min_samples_split=100, min_samples_leaf=1, max_features=sqrt, max_depth=32, total=   1.7s\n",
      "[CV] n_estimators=180, min_samples_split=100, min_samples_leaf=1, max_features=sqrt, max_depth=32 \n",
      "[CV]  n_estimators=180, min_samples_split=100, min_samples_leaf=1, max_features=sqrt, max_depth=32, total=   1.7s\n",
      "[CV] n_estimators=180, min_samples_split=100, min_samples_leaf=1, max_features=sqrt, max_depth=32 \n",
      "[CV]  n_estimators=180, min_samples_split=100, min_samples_leaf=1, max_features=sqrt, max_depth=32, total=   1.7s\n",
      "[CV] n_estimators=180, min_samples_split=100, min_samples_leaf=1, max_features=sqrt, max_depth=32 \n",
      "[CV]  n_estimators=180, min_samples_split=100, min_samples_leaf=1, max_features=sqrt, max_depth=32, total=   1.8s\n",
      "[CV] n_estimators=180, min_samples_split=100, min_samples_leaf=1, max_features=sqrt, max_depth=32 \n",
      "[CV]  n_estimators=180, min_samples_split=100, min_samples_leaf=1, max_features=sqrt, max_depth=32, total=   1.7s\n",
      "[CV] n_estimators=180, min_samples_split=100, min_samples_leaf=1, max_features=sqrt, max_depth=32 \n",
      "[CV]  n_estimators=180, min_samples_split=100, min_samples_leaf=1, max_features=sqrt, max_depth=32, total=   1.7s\n",
      "[CV] n_estimators=180, min_samples_split=100, min_samples_leaf=1, max_features=sqrt, max_depth=32 \n",
      "[CV]  n_estimators=180, min_samples_split=100, min_samples_leaf=1, max_features=sqrt, max_depth=32, total=   1.7s\n",
      "[CV] n_estimators=180, min_samples_split=100, min_samples_leaf=1, max_features=sqrt, max_depth=32 \n",
      "[CV]  n_estimators=180, min_samples_split=100, min_samples_leaf=1, max_features=sqrt, max_depth=32, total=   1.7s\n",
      "[CV] n_estimators=180, min_samples_split=100, min_samples_leaf=1, max_features=sqrt, max_depth=32 \n",
      "[CV]  n_estimators=180, min_samples_split=100, min_samples_leaf=1, max_features=sqrt, max_depth=32, total=   1.7s\n",
      "[CV] n_estimators=180, min_samples_split=100, min_samples_leaf=1, max_features=sqrt, max_depth=32 \n",
      "[CV]  n_estimators=180, min_samples_split=100, min_samples_leaf=1, max_features=sqrt, max_depth=32, total=   1.8s\n",
      "[CV] n_estimators=860, min_samples_split=10, min_samples_leaf=5, max_features=auto, max_depth=32 \n",
      "[CV]  n_estimators=860, min_samples_split=10, min_samples_leaf=5, max_features=auto, max_depth=32, total=  28.5s\n",
      "[CV] n_estimators=860, min_samples_split=10, min_samples_leaf=5, max_features=auto, max_depth=32 \n",
      "[CV]  n_estimators=860, min_samples_split=10, min_samples_leaf=5, max_features=auto, max_depth=32, total=  26.7s\n",
      "[CV] n_estimators=860, min_samples_split=10, min_samples_leaf=5, max_features=auto, max_depth=32 \n",
      "[CV]  n_estimators=860, min_samples_split=10, min_samples_leaf=5, max_features=auto, max_depth=32, total=  24.8s\n",
      "[CV] n_estimators=860, min_samples_split=10, min_samples_leaf=5, max_features=auto, max_depth=32 \n",
      "[CV]  n_estimators=860, min_samples_split=10, min_samples_leaf=5, max_features=auto, max_depth=32, total=  25.5s\n",
      "[CV] n_estimators=860, min_samples_split=10, min_samples_leaf=5, max_features=auto, max_depth=32 \n",
      "[CV]  n_estimators=860, min_samples_split=10, min_samples_leaf=5, max_features=auto, max_depth=32, total=  28.7s\n",
      "[CV] n_estimators=860, min_samples_split=10, min_samples_leaf=5, max_features=auto, max_depth=32 \n",
      "[CV]  n_estimators=860, min_samples_split=10, min_samples_leaf=5, max_features=auto, max_depth=32, total=  28.5s\n",
      "[CV] n_estimators=860, min_samples_split=10, min_samples_leaf=5, max_features=auto, max_depth=32 \n",
      "[CV]  n_estimators=860, min_samples_split=10, min_samples_leaf=5, max_features=auto, max_depth=32, total=  28.8s\n",
      "[CV] n_estimators=860, min_samples_split=10, min_samples_leaf=5, max_features=auto, max_depth=32 \n",
      "[CV]  n_estimators=860, min_samples_split=10, min_samples_leaf=5, max_features=auto, max_depth=32, total=  28.7s\n",
      "[CV] n_estimators=860, min_samples_split=10, min_samples_leaf=5, max_features=auto, max_depth=32 \n",
      "[CV]  n_estimators=860, min_samples_split=10, min_samples_leaf=5, max_features=auto, max_depth=32, total=  29.2s\n",
      "[CV] n_estimators=860, min_samples_split=10, min_samples_leaf=5, max_features=auto, max_depth=32 \n",
      "[CV]  n_estimators=860, min_samples_split=10, min_samples_leaf=5, max_features=auto, max_depth=32, total=  32.7s\n"
     ]
    },
    {
     "name": "stderr",
     "output_type": "stream",
     "text": [
      "[Parallel(n_jobs=1)]: Done 100 out of 100 | elapsed: 22.3min finished\n"
     ]
    },
    {
     "data": {
      "text/plain": [
       "RandomizedSearchCV(cv=10, estimator=RandomForestRegressor(), n_jobs=1,\n",
       "                   param_distributions={'max_depth': [5, 14, 23, 32, 41, 50],\n",
       "                                        'max_features': ['auto', 'sqrt'],\n",
       "                                        'min_samples_leaf': [1, 2, 5, 10],\n",
       "                                        'min_samples_split': [2, 5, 10, 15,\n",
       "                                                              100],\n",
       "                                        'n_estimators': [10, 66, 123, 180, 236,\n",
       "                                                         293, 350, 406, 463,\n",
       "                                                         520, 576, 633, 690,\n",
       "                                                         746, 803, 860, 916,\n",
       "                                                         973, 1030, 1086, 1143,\n",
       "                                                         1200]},\n",
       "                   random_state=42, scoring='neg_mean_squared_error',\n",
       "                   verbose=2)"
      ]
     },
     "execution_count": 105,
     "metadata": {},
     "output_type": "execute_result"
    }
   ],
   "source": [
    "rf_random.fit(X_train, y_train)"
   ]
  },
  {
   "cell_type": "code",
   "execution_count": 106,
   "metadata": {},
   "outputs": [
    {
     "data": {
      "text/plain": [
       "{'n_estimators': 860,\n",
       " 'min_samples_split': 10,\n",
       " 'min_samples_leaf': 5,\n",
       " 'max_features': 'auto',\n",
       " 'max_depth': 32}"
      ]
     },
     "execution_count": 106,
     "metadata": {},
     "output_type": "execute_result"
    }
   ],
   "source": [
    "rf_random.best_params_"
   ]
  },
  {
   "cell_type": "code",
   "execution_count": 107,
   "metadata": {},
   "outputs": [
    {
     "data": {
      "text/plain": [
       "-0.03176886991037433"
      ]
     },
     "execution_count": 107,
     "metadata": {},
     "output_type": "execute_result"
    }
   ],
   "source": [
    "rf_random.best_score_"
   ]
  },
  {
   "cell_type": "code",
   "execution_count": 108,
   "metadata": {},
   "outputs": [],
   "source": [
    "prediction = rf_random.predict(X_test)"
   ]
  },
  {
   "cell_type": "code",
   "execution_count": 109,
   "metadata": {},
   "outputs": [
    {
     "data": {
      "text/plain": [
       "array([9.70295522, 8.70637719, 9.05279388, ..., 8.80084064, 9.40120867,\n",
       "       9.41491431])"
      ]
     },
     "execution_count": 109,
     "metadata": {},
     "output_type": "execute_result"
    }
   ],
   "source": [
    "prediction"
   ]
  },
  {
   "cell_type": "code",
   "execution_count": 110,
   "metadata": {},
   "outputs": [
    {
     "data": {
      "text/plain": [
       "<matplotlib.axes._subplots.AxesSubplot at 0x1f901d0c048>"
      ]
     },
     "execution_count": 110,
     "metadata": {},
     "output_type": "execute_result"
    },
    {
     "data": {
      "image/png": "[encoded data removed]",
      "text/plain": [
       "<Figure size 432x360 with 1 Axes>"
      ]
     },
     "metadata": {
      "needs_background": "light"
     },
     "output_type": "display_data"
    }
   ],
   "source": [
    "plt.figure(figsize = (6,5))\n",
    "sns.distplot(y_test-prediction)"
   ]
  },
  {
   "cell_type": "code",
   "execution_count": 111,
   "metadata": {},
   "outputs": [
    {
     "data": {
      "text/plain": [
       "Text(0, 0.5, 'prediction')"
      ]
     },
     "execution_count": 111,
     "metadata": {},
     "output_type": "execute_result"
    },
    {
     "data": {
      "image/png": "[encoded data removed]",
      "text/plain": [
       "<Figure size 432x288 with 1 Axes>"
      ]
     },
     "metadata": {
      "needs_background": "light"
     },
     "output_type": "display_data"
    }
   ],
   "source": [
    "plt.scatter(y_test, prediction, alpha = 0.5)\n",
    "plt.xlabel(\"y_test\")\n",
    "plt.ylabel(\"prediction\")"
   ]
  },
  {
   "cell_type": "code",
   "execution_count": 112,
   "metadata": {},
   "outputs": [
    {
     "name": "stdout",
     "output_type": "stream",
     "text": [
      "MAE: 0.12046032871055792\n",
      "MSE: 0.030778529182369632\n",
      "RMSE: 0.175438106414683\n",
      "R2 score : 0.8868826274664812\n"
     ]
    }
   ],
   "source": [
    "print('MAE:', metrics.mean_absolute_error(y_test, prediction))\n",
    "print('MSE:', metrics.mean_squared_error(y_test, prediction))\n",
    "print('RMSE:', np.sqrt(metrics.mean_squared_error(y_test, prediction)))\n",
    "print(\"R2 score :\", metrics.r2_score(y_test, prediction))"
   ]
  },
  {
   "cell_type": "code",
   "execution_count": 113,
   "metadata": {},
   "outputs": [],
   "source": [
    "y_train_xgb_pred = rf_random.predict(X_train)\n",
    "y_test_xgb_pred = rf_random.predict(X_test)"
   ]
  },
  {
   "cell_type": "code",
   "execution_count": 114,
   "metadata": {},
   "outputs": [
    {
     "data": {
      "text/plain": [
       "(array([9.07899562, 9.35561788, 8.72844235, ..., 8.90796078, 8.75885007,\n",
       "        9.33819527]),\n",
       " array([9.70295522, 8.70637719, 9.05279388, ..., 8.80084064, 9.40120867,\n",
       "        9.41491431]))"
      ]
     },
     "execution_count": 114,
     "metadata": {},
     "output_type": "execute_result"
    }
   ],
   "source": [
    "y_train_xgb_pred, y_test_xgb_pred"
   ]
  },
  {
   "cell_type": "markdown",
   "metadata": {},
   "source": [
    "# 3.RandomForest Regressor"
   ]
  },
  {
   "cell_type": "code",
   "execution_count": 115,
   "metadata": {},
   "outputs": [],
   "source": [
    "from sklearn.ensemble import RandomForestRegressor"
   ]
  },
  {
   "cell_type": "code",
   "execution_count": 116,
   "metadata": {},
   "outputs": [
    {
     "data": {
      "text/plain": [
       "RandomForestRegressor(n_jobs=-1)"
      ]
     },
     "execution_count": 116,
     "metadata": {},
     "output_type": "execute_result"
    }
   ],
   "source": [
    "rfr = RandomForestRegressor(n_jobs = -1)\n",
    "rfr.fit(X_train, y_train)"
   ]
  },
  {
   "cell_type": "code",
   "execution_count": 117,
   "metadata": {},
   "outputs": [],
   "source": [
    "#estimators = np.arange(10, 200, 10)\n",
    "#scores = []\n",
    "#for n in estimators:\n",
    "#    rfr.set_params(n_estimators=n)\n",
    "#    rfr.fit(X_train, y_train)\n",
    "#    scores.append(model.score(X_test, y_test))\n",
    "#plt.title(\"Effect of n_estimators\")\n",
    "#plt.xlabel(\"n_estimator\")\n",
    "#plt.ylabel(\"score\")\n",
    "#plt.plot(estimators, scores)"
   ]
  },
  {
   "cell_type": "code",
   "execution_count": 118,
   "metadata": {},
   "outputs": [],
   "source": [
    "y_rfr_pred = rfr.predict(X_test)"
   ]
  },
  {
   "cell_type": "code",
   "execution_count": 119,
   "metadata": {},
   "outputs": [
    {
     "data": {
      "text/plain": [
       "0.9623546132538197"
      ]
     },
     "execution_count": 119,
     "metadata": {},
     "output_type": "execute_result"
    }
   ],
   "source": [
    "rfr.score(X_train, y_train)"
   ]
  },
  {
   "cell_type": "code",
   "execution_count": 120,
   "metadata": {},
   "outputs": [
    {
     "data": {
      "text/plain": [
       "0.8712051118695986"
      ]
     },
     "execution_count": 120,
     "metadata": {},
     "output_type": "execute_result"
    }
   ],
   "source": [
    "rfr.score(X_test, y_test)"
   ]
  },
  {
   "cell_type": "code",
   "execution_count": 121,
   "metadata": {},
   "outputs": [
    {
     "data": {
      "text/plain": [
       "<matplotlib.axes._subplots.AxesSubplot at 0x1f901d284e0>"
      ]
     },
     "execution_count": 121,
     "metadata": {},
     "output_type": "execute_result"
    },
    {
     "data": {
      "image/png": "[encoded data removed]",
      "text/plain": [
       "<Figure size 432x288 with 1 Axes>"
      ]
     },
     "metadata": {
      "needs_background": "light"
     },
     "output_type": "display_data"
    }
   ],
   "source": [
    "sns.distplot((y_test-y_rfr_pred), bins = 50)"
   ]
  },
  {
   "cell_type": "code",
   "execution_count": 122,
   "metadata": {},
   "outputs": [
    {
     "data": {
      "text/plain": [
       "Text(0, 0.5, 'y_rfr_pred')"
      ]
     },
     "execution_count": 122,
     "metadata": {},
     "output_type": "execute_result"
    },
    {
     "data": {
      "image/png": "[encoded data removed]",
      "text/plain": [
       "<Figure size 432x288 with 1 Axes>"
      ]
     },
     "metadata": {
      "needs_background": "light"
     },
     "output_type": "display_data"
    }
   ],
   "source": [
    "plt.scatter(y_test, y_rfr_pred, alpha = 0.5)\n",
    "plt.xlabel(\"y_test\")\n",
    "plt.ylabel(\"y_rfr_pred\")"
   ]
  },
  {
   "cell_type": "code",
   "execution_count": 123,
   "metadata": {},
   "outputs": [
    {
     "name": "stdout",
     "output_type": "stream",
     "text": [
      "MAE: 0.12359462717822667\n",
      "MSE: 0.03504428306701471\n",
      "RMSE: 0.18720118340174752\n",
      "R2 score : 0.8712051118695987\n"
     ]
    }
   ],
   "source": [
    "print('MAE:', metrics.mean_absolute_error(y_test, y_rfr_pred))\n",
    "print('MSE:', metrics.mean_squared_error(y_test, y_rfr_pred))\n",
    "print('RMSE:', np.sqrt(metrics.mean_squared_error(y_test, y_rfr_pred)))\n",
    "print(\"R2 score :\", metrics.r2_score(y_test, y_rfr_pred))"
   ]
  },
  {
   "cell_type": "markdown",
   "metadata": {},
   "source": [
    "# RandomizedSearchCV for RandomForestRegressor"
   ]
  },
  {
   "cell_type": "code",
   "execution_count": 124,
   "metadata": {},
   "outputs": [],
   "source": [
    "from sklearn.model_selection import RandomizedSearchCV"
   ]
  },
  {
   "cell_type": "code",
   "execution_count": 125,
   "metadata": {},
   "outputs": [],
   "source": [
    "#Randomized Search CV\n",
    "\n",
    "# Number of trees in random forest\n",
    "n_estimators = [int(x) for x in np.linspace(start = 5, stop = 1200, num = 22)]\n",
    "# Number of features to consider at every split\n",
    "max_features = ['auto', 'sqrt']\n",
    "# Maximum number of levels in tree\n",
    "max_depth = [int(x) for x in np.linspace(5, 50, num = 6)]\n",
    "# Minimum number of samples required to split a node\n",
    "min_samples_split = [2, 5, 10, 15, 100]\n",
    "# Minimum number of samples required at each leaf node\n",
    "min_samples_leaf = [1, 2, 5, 10]"
   ]
  },
  {
   "cell_type": "code",
   "execution_count": 126,
   "metadata": {},
   "outputs": [],
   "source": [
    "# Create a random grid\n",
    "\n",
    "random_rfr_grid = {\"n_estimators\":n_estimators,\n",
    "               \"max_features\":max_features,\n",
    "               \"max_depth\":max_depth,\n",
    "               \"min_samples_split\":min_samples_split,\n",
    "               \"min_samples_leaf\":min_samples_leaf}"
   ]
  },
  {
   "cell_type": "code",
   "execution_count": 127,
   "metadata": {},
   "outputs": [],
   "source": [
    "# Random search of parameters, using 10 fold cross validation, \n",
    "# search across 100 different combinations\n",
    "rfr_random = RandomizedSearchCV(estimator = rfr, param_distributions = random_rfr_grid,scoring='neg_mean_squared_error', \n",
    "                               n_iter = 10, cv = 10, verbose=2, random_state=42, n_jobs = 1)"
   ]
  },
  {
   "cell_type": "code",
   "execution_count": 128,
   "metadata": {},
   "outputs": [
    {
     "name": "stdout",
     "output_type": "stream",
     "text": [
      "Fitting 10 folds for each of 10 candidates, totalling 100 fits\n",
      "[CV] n_estimators=118, min_samples_split=100, min_samples_leaf=10, max_features=sqrt, max_depth=5 \n"
     ]
    },
    {
     "name": "stderr",
     "output_type": "stream",
     "text": [
      "[Parallel(n_jobs=1)]: Using backend SequentialBackend with 1 concurrent workers.\n"
     ]
    },
    {
     "name": "stdout",
     "output_type": "stream",
     "text": [
      "[CV]  n_estimators=118, min_samples_split=100, min_samples_leaf=10, max_features=sqrt, max_depth=5, total=   5.6s\n",
      "[CV] n_estimators=118, min_samples_split=100, min_samples_leaf=10, max_features=sqrt, max_depth=5 \n"
     ]
    },
    {
     "name": "stderr",
     "output_type": "stream",
     "text": [
      "[Parallel(n_jobs=1)]: Done   1 out of   1 | elapsed:    5.5s remaining:    0.0s\n"
     ]
    },
    {
     "name": "stdout",
     "output_type": "stream",
     "text": [
      "[CV]  n_estimators=118, min_samples_split=100, min_samples_leaf=10, max_features=sqrt, max_depth=5, total=   1.1s\n",
      "[CV] n_estimators=118, min_samples_split=100, min_samples_leaf=10, max_features=sqrt, max_depth=5 \n",
      "[CV]  n_estimators=118, min_samples_split=100, min_samples_leaf=10, max_features=sqrt, max_depth=5, total=   1.0s\n",
      "[CV] n_estimators=118, min_samples_split=100, min_samples_leaf=10, max_features=sqrt, max_depth=5 \n",
      "[CV]  n_estimators=118, min_samples_split=100, min_samples_leaf=10, max_features=sqrt, max_depth=5, total=   1.0s\n",
      "[CV] n_estimators=118, min_samples_split=100, min_samples_leaf=10, max_features=sqrt, max_depth=5 \n",
      "[CV]  n_estimators=118, min_samples_split=100, min_samples_leaf=10, max_features=sqrt, max_depth=5, total=   1.1s\n",
      "[CV] n_estimators=118, min_samples_split=100, min_samples_leaf=10, max_features=sqrt, max_depth=5 \n",
      "[CV]  n_estimators=118, min_samples_split=100, min_samples_leaf=10, max_features=sqrt, max_depth=5, total=   1.1s\n",
      "[CV] n_estimators=118, min_samples_split=100, min_samples_leaf=10, max_features=sqrt, max_depth=5 \n",
      "[CV]  n_estimators=118, min_samples_split=100, min_samples_leaf=10, max_features=sqrt, max_depth=5, total=   1.1s\n",
      "[CV] n_estimators=118, min_samples_split=100, min_samples_leaf=10, max_features=sqrt, max_depth=5 \n",
      "[CV]  n_estimators=118, min_samples_split=100, min_samples_leaf=10, max_features=sqrt, max_depth=5, total=   1.1s\n",
      "[CV] n_estimators=118, min_samples_split=100, min_samples_leaf=10, max_features=sqrt, max_depth=5 \n",
      "[CV]  n_estimators=118, min_samples_split=100, min_samples_leaf=10, max_features=sqrt, max_depth=5, total=   1.0s\n",
      "[CV] n_estimators=118, min_samples_split=100, min_samples_leaf=10, max_features=sqrt, max_depth=5 \n",
      "[CV]  n_estimators=118, min_samples_split=100, min_samples_leaf=10, max_features=sqrt, max_depth=5, total=   1.0s\n",
      "[CV] n_estimators=687, min_samples_split=10, min_samples_leaf=10, max_features=sqrt, max_depth=50 \n",
      "[CV]  n_estimators=687, min_samples_split=10, min_samples_leaf=10, max_features=sqrt, max_depth=50, total=   6.0s\n",
      "[CV] n_estimators=687, min_samples_split=10, min_samples_leaf=10, max_features=sqrt, max_depth=50 \n",
      "[CV]  n_estimators=687, min_samples_split=10, min_samples_leaf=10, max_features=sqrt, max_depth=50, total=   6.7s\n",
      "[CV] n_estimators=687, min_samples_split=10, min_samples_leaf=10, max_features=sqrt, max_depth=50 \n",
      "[CV]  n_estimators=687, min_samples_split=10, min_samples_leaf=10, max_features=sqrt, max_depth=50, total=   6.2s\n",
      "[CV] n_estimators=687, min_samples_split=10, min_samples_leaf=10, max_features=sqrt, max_depth=50 \n",
      "[CV]  n_estimators=687, min_samples_split=10, min_samples_leaf=10, max_features=sqrt, max_depth=50, total=   6.1s\n",
      "[CV] n_estimators=687, min_samples_split=10, min_samples_leaf=10, max_features=sqrt, max_depth=50 \n",
      "[CV]  n_estimators=687, min_samples_split=10, min_samples_leaf=10, max_features=sqrt, max_depth=50, total=   6.2s\n",
      "[CV] n_estimators=687, min_samples_split=10, min_samples_leaf=10, max_features=sqrt, max_depth=50 \n",
      "[CV]  n_estimators=687, min_samples_split=10, min_samples_leaf=10, max_features=sqrt, max_depth=50, total=   6.2s\n",
      "[CV] n_estimators=687, min_samples_split=10, min_samples_leaf=10, max_features=sqrt, max_depth=50 \n",
      "[CV]  n_estimators=687, min_samples_split=10, min_samples_leaf=10, max_features=sqrt, max_depth=50, total=   6.1s\n",
      "[CV] n_estimators=687, min_samples_split=10, min_samples_leaf=10, max_features=sqrt, max_depth=50 \n",
      "[CV]  n_estimators=687, min_samples_split=10, min_samples_leaf=10, max_features=sqrt, max_depth=50, total=   6.1s\n",
      "[CV] n_estimators=687, min_samples_split=10, min_samples_leaf=10, max_features=sqrt, max_depth=50 \n",
      "[CV]  n_estimators=687, min_samples_split=10, min_samples_leaf=10, max_features=sqrt, max_depth=50, total=   6.1s\n",
      "[CV] n_estimators=687, min_samples_split=10, min_samples_leaf=10, max_features=sqrt, max_depth=50 \n",
      "[CV]  n_estimators=687, min_samples_split=10, min_samples_leaf=10, max_features=sqrt, max_depth=50, total=   6.0s\n",
      "[CV] n_estimators=1200, min_samples_split=2, min_samples_leaf=10, max_features=sqrt, max_depth=50 \n",
      "[CV]  n_estimators=1200, min_samples_split=2, min_samples_leaf=10, max_features=sqrt, max_depth=50, total=  10.4s\n",
      "[CV] n_estimators=1200, min_samples_split=2, min_samples_leaf=10, max_features=sqrt, max_depth=50 \n",
      "[CV]  n_estimators=1200, min_samples_split=2, min_samples_leaf=10, max_features=sqrt, max_depth=50, total=  17.3s\n",
      "[CV] n_estimators=1200, min_samples_split=2, min_samples_leaf=10, max_features=sqrt, max_depth=50 \n",
      "[CV]  n_estimators=1200, min_samples_split=2, min_samples_leaf=10, max_features=sqrt, max_depth=50, total=  11.7s\n",
      "[CV] n_estimators=1200, min_samples_split=2, min_samples_leaf=10, max_features=sqrt, max_depth=50 \n",
      "[CV]  n_estimators=1200, min_samples_split=2, min_samples_leaf=10, max_features=sqrt, max_depth=50, total=   7.3s\n",
      "[CV] n_estimators=1200, min_samples_split=2, min_samples_leaf=10, max_features=sqrt, max_depth=50 \n",
      "[CV]  n_estimators=1200, min_samples_split=2, min_samples_leaf=10, max_features=sqrt, max_depth=50, total=   7.4s\n",
      "[CV] n_estimators=1200, min_samples_split=2, min_samples_leaf=10, max_features=sqrt, max_depth=50 \n",
      "[CV]  n_estimators=1200, min_samples_split=2, min_samples_leaf=10, max_features=sqrt, max_depth=50, total=   7.3s\n",
      "[CV] n_estimators=1200, min_samples_split=2, min_samples_leaf=10, max_features=sqrt, max_depth=50 \n",
      "[CV]  n_estimators=1200, min_samples_split=2, min_samples_leaf=10, max_features=sqrt, max_depth=50, total=   7.5s\n",
      "[CV] n_estimators=1200, min_samples_split=2, min_samples_leaf=10, max_features=sqrt, max_depth=50 \n",
      "[CV]  n_estimators=1200, min_samples_split=2, min_samples_leaf=10, max_features=sqrt, max_depth=50, total=   7.7s\n",
      "[CV] n_estimators=1200, min_samples_split=2, min_samples_leaf=10, max_features=sqrt, max_depth=50 \n",
      "[CV]  n_estimators=1200, min_samples_split=2, min_samples_leaf=10, max_features=sqrt, max_depth=50, total=   7.5s\n",
      "[CV] n_estimators=1200, min_samples_split=2, min_samples_leaf=10, max_features=sqrt, max_depth=50 \n",
      "[CV]  n_estimators=1200, min_samples_split=2, min_samples_leaf=10, max_features=sqrt, max_depth=50, total=   7.4s\n",
      "[CV] n_estimators=574, min_samples_split=5, min_samples_leaf=5, max_features=auto, max_depth=41 \n",
      "[CV]  n_estimators=574, min_samples_split=5, min_samples_leaf=5, max_features=auto, max_depth=41, total=   9.9s\n",
      "[CV] n_estimators=574, min_samples_split=5, min_samples_leaf=5, max_features=auto, max_depth=41 \n",
      "[CV]  n_estimators=574, min_samples_split=5, min_samples_leaf=5, max_features=auto, max_depth=41, total=   9.4s\n",
      "[CV] n_estimators=574, min_samples_split=5, min_samples_leaf=5, max_features=auto, max_depth=41 \n",
      "[CV]  n_estimators=574, min_samples_split=5, min_samples_leaf=5, max_features=auto, max_depth=41, total=   9.9s\n",
      "[CV] n_estimators=574, min_samples_split=5, min_samples_leaf=5, max_features=auto, max_depth=41 \n",
      "[CV]  n_estimators=574, min_samples_split=5, min_samples_leaf=5, max_features=auto, max_depth=41, total=   9.3s\n",
      "[CV] n_estimators=574, min_samples_split=5, min_samples_leaf=5, max_features=auto, max_depth=41 \n",
      "[CV]  n_estimators=574, min_samples_split=5, min_samples_leaf=5, max_features=auto, max_depth=41, total=  10.2s\n",
      "[CV] n_estimators=574, min_samples_split=5, min_samples_leaf=5, max_features=auto, max_depth=41 \n",
      "[CV]  n_estimators=574, min_samples_split=5, min_samples_leaf=5, max_features=auto, max_depth=41, total=   9.8s\n",
      "[CV] n_estimators=574, min_samples_split=5, min_samples_leaf=5, max_features=auto, max_depth=41 \n",
      "[CV]  n_estimators=574, min_samples_split=5, min_samples_leaf=5, max_features=auto, max_depth=41, total=   9.3s\n",
      "[CV] n_estimators=574, min_samples_split=5, min_samples_leaf=5, max_features=auto, max_depth=41 \n",
      "[CV]  n_estimators=574, min_samples_split=5, min_samples_leaf=5, max_features=auto, max_depth=41, total=   9.3s\n",
      "[CV] n_estimators=574, min_samples_split=5, min_samples_leaf=5, max_features=auto, max_depth=41 \n",
      "[CV]  n_estimators=574, min_samples_split=5, min_samples_leaf=5, max_features=auto, max_depth=41, total=   9.3s\n",
      "[CV] n_estimators=574, min_samples_split=5, min_samples_leaf=5, max_features=auto, max_depth=41 \n",
      "[CV]  n_estimators=574, min_samples_split=5, min_samples_leaf=5, max_features=auto, max_depth=41, total=   9.2s\n",
      "[CV] n_estimators=687, min_samples_split=2, min_samples_leaf=1, max_features=sqrt, max_depth=32 \n"
     ]
    },
    {
     "name": "stdout",
     "output_type": "stream",
     "text": [
      "[CV]  n_estimators=687, min_samples_split=2, min_samples_leaf=1, max_features=sqrt, max_depth=32, total=   9.6s\n",
      "[CV] n_estimators=687, min_samples_split=2, min_samples_leaf=1, max_features=sqrt, max_depth=32 \n",
      "[CV]  n_estimators=687, min_samples_split=2, min_samples_leaf=1, max_features=sqrt, max_depth=32, total=   8.7s\n",
      "[CV] n_estimators=687, min_samples_split=2, min_samples_leaf=1, max_features=sqrt, max_depth=32 \n",
      "[CV]  n_estimators=687, min_samples_split=2, min_samples_leaf=1, max_features=sqrt, max_depth=32, total=   8.5s\n",
      "[CV] n_estimators=687, min_samples_split=2, min_samples_leaf=1, max_features=sqrt, max_depth=32 \n",
      "[CV]  n_estimators=687, min_samples_split=2, min_samples_leaf=1, max_features=sqrt, max_depth=32, total=   8.5s\n",
      "[CV] n_estimators=687, min_samples_split=2, min_samples_leaf=1, max_features=sqrt, max_depth=32 \n",
      "[CV]  n_estimators=687, min_samples_split=2, min_samples_leaf=1, max_features=sqrt, max_depth=32, total=   8.6s\n",
      "[CV] n_estimators=687, min_samples_split=2, min_samples_leaf=1, max_features=sqrt, max_depth=32 \n",
      "[CV]  n_estimators=687, min_samples_split=2, min_samples_leaf=1, max_features=sqrt, max_depth=32, total=   8.3s\n",
      "[CV] n_estimators=687, min_samples_split=2, min_samples_leaf=1, max_features=sqrt, max_depth=32 \n",
      "[CV]  n_estimators=687, min_samples_split=2, min_samples_leaf=1, max_features=sqrt, max_depth=32, total=   9.0s\n",
      "[CV] n_estimators=687, min_samples_split=2, min_samples_leaf=1, max_features=sqrt, max_depth=32 \n",
      "[CV]  n_estimators=687, min_samples_split=2, min_samples_leaf=1, max_features=sqrt, max_depth=32, total=   9.0s\n",
      "[CV] n_estimators=687, min_samples_split=2, min_samples_leaf=1, max_features=sqrt, max_depth=32 \n",
      "[CV]  n_estimators=687, min_samples_split=2, min_samples_leaf=1, max_features=sqrt, max_depth=32, total=   8.9s\n",
      "[CV] n_estimators=687, min_samples_split=2, min_samples_leaf=1, max_features=sqrt, max_depth=32 \n",
      "[CV]  n_estimators=687, min_samples_split=2, min_samples_leaf=1, max_features=sqrt, max_depth=32, total=  12.5s\n",
      "[CV] n_estimators=232, min_samples_split=5, min_samples_leaf=1, max_features=sqrt, max_depth=5 \n",
      "[CV]  n_estimators=232, min_samples_split=5, min_samples_leaf=1, max_features=sqrt, max_depth=5, total=   1.7s\n",
      "[CV] n_estimators=232, min_samples_split=5, min_samples_leaf=1, max_features=sqrt, max_depth=5 \n",
      "[CV]  n_estimators=232, min_samples_split=5, min_samples_leaf=1, max_features=sqrt, max_depth=5, total=   1.5s\n",
      "[CV] n_estimators=232, min_samples_split=5, min_samples_leaf=1, max_features=sqrt, max_depth=5 \n",
      "[CV]  n_estimators=232, min_samples_split=5, min_samples_leaf=1, max_features=sqrt, max_depth=5, total=   1.4s\n",
      "[CV] n_estimators=232, min_samples_split=5, min_samples_leaf=1, max_features=sqrt, max_depth=5 \n",
      "[CV]  n_estimators=232, min_samples_split=5, min_samples_leaf=1, max_features=sqrt, max_depth=5, total=   1.4s\n",
      "[CV] n_estimators=232, min_samples_split=5, min_samples_leaf=1, max_features=sqrt, max_depth=5 \n",
      "[CV]  n_estimators=232, min_samples_split=5, min_samples_leaf=1, max_features=sqrt, max_depth=5, total=   1.4s\n",
      "[CV] n_estimators=232, min_samples_split=5, min_samples_leaf=1, max_features=sqrt, max_depth=5 \n",
      "[CV]  n_estimators=232, min_samples_split=5, min_samples_leaf=1, max_features=sqrt, max_depth=5, total=   1.4s\n",
      "[CV] n_estimators=232, min_samples_split=5, min_samples_leaf=1, max_features=sqrt, max_depth=5 \n",
      "[CV]  n_estimators=232, min_samples_split=5, min_samples_leaf=1, max_features=sqrt, max_depth=5, total=   1.4s\n",
      "[CV] n_estimators=232, min_samples_split=5, min_samples_leaf=1, max_features=sqrt, max_depth=5 \n",
      "[CV]  n_estimators=232, min_samples_split=5, min_samples_leaf=1, max_features=sqrt, max_depth=5, total=   1.4s\n",
      "[CV] n_estimators=232, min_samples_split=5, min_samples_leaf=1, max_features=sqrt, max_depth=5 \n",
      "[CV]  n_estimators=232, min_samples_split=5, min_samples_leaf=1, max_features=sqrt, max_depth=5, total=   1.3s\n",
      "[CV] n_estimators=232, min_samples_split=5, min_samples_leaf=1, max_features=sqrt, max_depth=5 \n",
      "[CV]  n_estimators=232, min_samples_split=5, min_samples_leaf=1, max_features=sqrt, max_depth=5, total=   1.4s\n",
      "[CV] n_estimators=232, min_samples_split=5, min_samples_leaf=1, max_features=auto, max_depth=50 \n",
      "[CV]  n_estimators=232, min_samples_split=5, min_samples_leaf=1, max_features=auto, max_depth=50, total=   4.7s\n",
      "[CV] n_estimators=232, min_samples_split=5, min_samples_leaf=1, max_features=auto, max_depth=50 \n",
      "[CV]  n_estimators=232, min_samples_split=5, min_samples_leaf=1, max_features=auto, max_depth=50, total=   4.7s\n",
      "[CV] n_estimators=232, min_samples_split=5, min_samples_leaf=1, max_features=auto, max_depth=50 \n",
      "[CV]  n_estimators=232, min_samples_split=5, min_samples_leaf=1, max_features=auto, max_depth=50, total=   4.9s\n",
      "[CV] n_estimators=232, min_samples_split=5, min_samples_leaf=1, max_features=auto, max_depth=50 \n",
      "[CV]  n_estimators=232, min_samples_split=5, min_samples_leaf=1, max_features=auto, max_depth=50, total=   5.0s\n",
      "[CV] n_estimators=232, min_samples_split=5, min_samples_leaf=1, max_features=auto, max_depth=50 \n",
      "[CV]  n_estimators=232, min_samples_split=5, min_samples_leaf=1, max_features=auto, max_depth=50, total=   4.7s\n",
      "[CV] n_estimators=232, min_samples_split=5, min_samples_leaf=1, max_features=auto, max_depth=50 \n",
      "[CV]  n_estimators=232, min_samples_split=5, min_samples_leaf=1, max_features=auto, max_depth=50, total=   4.7s\n",
      "[CV] n_estimators=232, min_samples_split=5, min_samples_leaf=1, max_features=auto, max_depth=50 \n",
      "[CV]  n_estimators=232, min_samples_split=5, min_samples_leaf=1, max_features=auto, max_depth=50, total=   4.7s\n",
      "[CV] n_estimators=232, min_samples_split=5, min_samples_leaf=1, max_features=auto, max_depth=50 \n",
      "[CV]  n_estimators=232, min_samples_split=5, min_samples_leaf=1, max_features=auto, max_depth=50, total=   4.7s\n",
      "[CV] n_estimators=232, min_samples_split=5, min_samples_leaf=1, max_features=auto, max_depth=50 \n",
      "[CV]  n_estimators=232, min_samples_split=5, min_samples_leaf=1, max_features=auto, max_depth=50, total=   4.8s\n",
      "[CV] n_estimators=232, min_samples_split=5, min_samples_leaf=1, max_features=auto, max_depth=50 \n",
      "[CV]  n_estimators=232, min_samples_split=5, min_samples_leaf=1, max_features=auto, max_depth=50, total=   4.7s\n",
      "[CV] n_estimators=687, min_samples_split=5, min_samples_leaf=10, max_features=sqrt, max_depth=32 \n",
      "[CV]  n_estimators=687, min_samples_split=5, min_samples_leaf=10, max_features=sqrt, max_depth=32, total=   4.3s\n",
      "[CV] n_estimators=687, min_samples_split=5, min_samples_leaf=10, max_features=sqrt, max_depth=32 \n",
      "[CV]  n_estimators=687, min_samples_split=5, min_samples_leaf=10, max_features=sqrt, max_depth=32, total=   4.2s\n",
      "[CV] n_estimators=687, min_samples_split=5, min_samples_leaf=10, max_features=sqrt, max_depth=32 \n",
      "[CV]  n_estimators=687, min_samples_split=5, min_samples_leaf=10, max_features=sqrt, max_depth=32, total=   4.2s\n",
      "[CV] n_estimators=687, min_samples_split=5, min_samples_leaf=10, max_features=sqrt, max_depth=32 \n",
      "[CV]  n_estimators=687, min_samples_split=5, min_samples_leaf=10, max_features=sqrt, max_depth=32, total=   4.3s\n",
      "[CV] n_estimators=687, min_samples_split=5, min_samples_leaf=10, max_features=sqrt, max_depth=32 \n",
      "[CV]  n_estimators=687, min_samples_split=5, min_samples_leaf=10, max_features=sqrt, max_depth=32, total=   4.3s\n",
      "[CV] n_estimators=687, min_samples_split=5, min_samples_leaf=10, max_features=sqrt, max_depth=32 \n",
      "[CV]  n_estimators=687, min_samples_split=5, min_samples_leaf=10, max_features=sqrt, max_depth=32, total=   4.3s\n",
      "[CV] n_estimators=687, min_samples_split=5, min_samples_leaf=10, max_features=sqrt, max_depth=32 \n",
      "[CV]  n_estimators=687, min_samples_split=5, min_samples_leaf=10, max_features=sqrt, max_depth=32, total=   6.5s\n",
      "[CV] n_estimators=687, min_samples_split=5, min_samples_leaf=10, max_features=sqrt, max_depth=32 \n",
      "[CV]  n_estimators=687, min_samples_split=5, min_samples_leaf=10, max_features=sqrt, max_depth=32, total=   6.2s\n",
      "[CV] n_estimators=687, min_samples_split=5, min_samples_leaf=10, max_features=sqrt, max_depth=32 \n",
      "[CV]  n_estimators=687, min_samples_split=5, min_samples_leaf=10, max_features=sqrt, max_depth=32, total=   6.1s\n",
      "[CV] n_estimators=687, min_samples_split=5, min_samples_leaf=10, max_features=sqrt, max_depth=32 \n",
      "[CV]  n_estimators=687, min_samples_split=5, min_samples_leaf=10, max_features=sqrt, max_depth=32, total=   6.0s\n",
      "[CV] n_estimators=175, min_samples_split=100, min_samples_leaf=1, max_features=sqrt, max_depth=32 \n"
     ]
    },
    {
     "name": "stdout",
     "output_type": "stream",
     "text": [
      "[CV]  n_estimators=175, min_samples_split=100, min_samples_leaf=1, max_features=sqrt, max_depth=32, total=   1.6s\n",
      "[CV] n_estimators=175, min_samples_split=100, min_samples_leaf=1, max_features=sqrt, max_depth=32 \n",
      "[CV]  n_estimators=175, min_samples_split=100, min_samples_leaf=1, max_features=sqrt, max_depth=32, total=   1.7s\n",
      "[CV] n_estimators=175, min_samples_split=100, min_samples_leaf=1, max_features=sqrt, max_depth=32 \n",
      "[CV]  n_estimators=175, min_samples_split=100, min_samples_leaf=1, max_features=sqrt, max_depth=32, total=   1.6s\n",
      "[CV] n_estimators=175, min_samples_split=100, min_samples_leaf=1, max_features=sqrt, max_depth=32 \n",
      "[CV]  n_estimators=175, min_samples_split=100, min_samples_leaf=1, max_features=sqrt, max_depth=32, total=   1.7s\n",
      "[CV] n_estimators=175, min_samples_split=100, min_samples_leaf=1, max_features=sqrt, max_depth=32 \n",
      "[CV]  n_estimators=175, min_samples_split=100, min_samples_leaf=1, max_features=sqrt, max_depth=32, total=   1.6s\n",
      "[CV] n_estimators=175, min_samples_split=100, min_samples_leaf=1, max_features=sqrt, max_depth=32 \n",
      "[CV]  n_estimators=175, min_samples_split=100, min_samples_leaf=1, max_features=sqrt, max_depth=32, total=   1.6s\n",
      "[CV] n_estimators=175, min_samples_split=100, min_samples_leaf=1, max_features=sqrt, max_depth=32 \n",
      "[CV]  n_estimators=175, min_samples_split=100, min_samples_leaf=1, max_features=sqrt, max_depth=32, total=   1.7s\n",
      "[CV] n_estimators=175, min_samples_split=100, min_samples_leaf=1, max_features=sqrt, max_depth=32 \n",
      "[CV]  n_estimators=175, min_samples_split=100, min_samples_leaf=1, max_features=sqrt, max_depth=32, total=   1.5s\n",
      "[CV] n_estimators=175, min_samples_split=100, min_samples_leaf=1, max_features=sqrt, max_depth=32 \n",
      "[CV]  n_estimators=175, min_samples_split=100, min_samples_leaf=1, max_features=sqrt, max_depth=32, total=   1.6s\n",
      "[CV] n_estimators=175, min_samples_split=100, min_samples_leaf=1, max_features=sqrt, max_depth=32 \n",
      "[CV]  n_estimators=175, min_samples_split=100, min_samples_leaf=1, max_features=sqrt, max_depth=32, total=   1.6s\n",
      "[CV] n_estimators=858, min_samples_split=10, min_samples_leaf=5, max_features=auto, max_depth=32 \n",
      "[CV]  n_estimators=858, min_samples_split=10, min_samples_leaf=5, max_features=auto, max_depth=32, total=  23.8s\n",
      "[CV] n_estimators=858, min_samples_split=10, min_samples_leaf=5, max_features=auto, max_depth=32 \n",
      "[CV]  n_estimators=858, min_samples_split=10, min_samples_leaf=5, max_features=auto, max_depth=32, total=  25.7s\n",
      "[CV] n_estimators=858, min_samples_split=10, min_samples_leaf=5, max_features=auto, max_depth=32 \n",
      "[CV]  n_estimators=858, min_samples_split=10, min_samples_leaf=5, max_features=auto, max_depth=32, total=  24.1s\n",
      "[CV] n_estimators=858, min_samples_split=10, min_samples_leaf=5, max_features=auto, max_depth=32 \n",
      "[CV]  n_estimators=858, min_samples_split=10, min_samples_leaf=5, max_features=auto, max_depth=32, total=  15.4s\n",
      "[CV] n_estimators=858, min_samples_split=10, min_samples_leaf=5, max_features=auto, max_depth=32 \n",
      "[CV]  n_estimators=858, min_samples_split=10, min_samples_leaf=5, max_features=auto, max_depth=32, total=  14.7s\n",
      "[CV] n_estimators=858, min_samples_split=10, min_samples_leaf=5, max_features=auto, max_depth=32 \n",
      "[CV]  n_estimators=858, min_samples_split=10, min_samples_leaf=5, max_features=auto, max_depth=32, total=  14.7s\n",
      "[CV] n_estimators=858, min_samples_split=10, min_samples_leaf=5, max_features=auto, max_depth=32 \n",
      "[CV]  n_estimators=858, min_samples_split=10, min_samples_leaf=5, max_features=auto, max_depth=32, total=  14.9s\n",
      "[CV] n_estimators=858, min_samples_split=10, min_samples_leaf=5, max_features=auto, max_depth=32 \n",
      "[CV]  n_estimators=858, min_samples_split=10, min_samples_leaf=5, max_features=auto, max_depth=32, total=  15.4s\n",
      "[CV] n_estimators=858, min_samples_split=10, min_samples_leaf=5, max_features=auto, max_depth=32 \n",
      "[CV]  n_estimators=858, min_samples_split=10, min_samples_leaf=5, max_features=auto, max_depth=32, total=  14.9s\n",
      "[CV] n_estimators=858, min_samples_split=10, min_samples_leaf=5, max_features=auto, max_depth=32 \n",
      "[CV]  n_estimators=858, min_samples_split=10, min_samples_leaf=5, max_features=auto, max_depth=32, total=  15.0s\n"
     ]
    },
    {
     "name": "stderr",
     "output_type": "stream",
     "text": [
      "[Parallel(n_jobs=1)]: Done 100 out of 100 | elapsed: 11.1min finished\n"
     ]
    },
    {
     "data": {
      "text/plain": [
       "RandomizedSearchCV(cv=10, estimator=RandomForestRegressor(n_jobs=-1), n_jobs=1,\n",
       "                   param_distributions={'max_depth': [5, 14, 23, 32, 41, 50],\n",
       "                                        'max_features': ['auto', 'sqrt'],\n",
       "                                        'min_samples_leaf': [1, 2, 5, 10],\n",
       "                                        'min_samples_split': [2, 5, 10, 15,\n",
       "                                                              100],\n",
       "                                        'n_estimators': [5, 61, 118, 175, 232,\n",
       "                                                         289, 346, 403, 460,\n",
       "                                                         517, 574, 630, 687,\n",
       "                                                         744, 801, 858, 915,\n",
       "                                                         972, 1029, 1086, 1143,\n",
       "                                                         1200]},\n",
       "                   random_state=42, scoring='neg_mean_squared_error',\n",
       "                   verbose=2)"
      ]
     },
     "execution_count": 128,
     "metadata": {},
     "output_type": "execute_result"
    }
   ],
   "source": [
    "rfr_random.fit(X_train, y_train)"
   ]
  },
  {
   "cell_type": "code",
   "execution_count": 129,
   "metadata": {},
   "outputs": [
    {
     "data": {
      "text/plain": [
       "{'n_estimators': 858,\n",
       " 'min_samples_split': 10,\n",
       " 'min_samples_leaf': 5,\n",
       " 'max_features': 'auto',\n",
       " 'max_depth': 32}"
      ]
     },
     "execution_count": 129,
     "metadata": {},
     "output_type": "execute_result"
    }
   ],
   "source": [
    "rfr_random.best_params_"
   ]
  },
  {
   "cell_type": "code",
   "execution_count": 130,
   "metadata": {},
   "outputs": [
    {
     "data": {
      "text/plain": [
       "-0.03172566964700583"
      ]
     },
     "execution_count": 130,
     "metadata": {},
     "output_type": "execute_result"
    }
   ],
   "source": [
    "rfr_random.best_score_"
   ]
  },
  {
   "cell_type": "code",
   "execution_count": 131,
   "metadata": {},
   "outputs": [],
   "source": [
    "predictions_rfr=rfr_random.predict(X_test)"
   ]
  },
  {
   "cell_type": "code",
   "execution_count": 132,
   "metadata": {},
   "outputs": [
    {
     "data": {
      "text/plain": [
       "array([9.69891998, 8.72072943, 9.04947637, ..., 8.80343967, 9.40180066,\n",
       "       9.41842472])"
      ]
     },
     "execution_count": 132,
     "metadata": {},
     "output_type": "execute_result"
    }
   ],
   "source": [
    "predictions_rfr"
   ]
  },
  {
   "cell_type": "code",
   "execution_count": 133,
   "metadata": {},
   "outputs": [
    {
     "data": {
      "text/plain": [
       "<matplotlib.axes._subplots.AxesSubplot at 0x1f908882a20>"
      ]
     },
     "execution_count": 133,
     "metadata": {},
     "output_type": "execute_result"
    },
    {
     "data": {
      "image/png": "[encoded data removed]",
      "text/plain": [
       "<Figure size 432x360 with 1 Axes>"
      ]
     },
     "metadata": {
      "needs_background": "light"
     },
     "output_type": "display_data"
    }
   ],
   "source": [
    "plt.figure(figsize = (6,5))\n",
    "sns.distplot(y_test-predictions_rfr)"
   ]
  },
  {
   "cell_type": "code",
   "execution_count": 134,
   "metadata": {},
   "outputs": [
    {
     "data": {
      "text/plain": [
       "Text(0, 0.5, 'predictions_rfr')"
      ]
     },
     "execution_count": 134,
     "metadata": {},
     "output_type": "execute_result"
    },
    {
     "data": {
      "image/png": "[encoded data removed]",
      "text/plain": [
       "<Figure size 432x288 with 1 Axes>"
      ]
     },
     "metadata": {
      "needs_background": "light"
     },
     "output_type": "display_data"
    }
   ],
   "source": [
    "plt.scatter(y_test, predictions_rfr, alpha = 0.5)\n",
    "plt.xlabel(\"y_test\")\n",
    "plt.ylabel(\"predictions_rfr\")"
   ]
  },
  {
   "cell_type": "code",
   "execution_count": 135,
   "metadata": {},
   "outputs": [
    {
     "name": "stdout",
     "output_type": "stream",
     "text": [
      "MAE: 0.12069629217833486\n",
      "MSE: 0.030882508487678532\n",
      "RMSE: 0.17573419840110385\n",
      "R2 score : 0.8865004823111778\n"
     ]
    }
   ],
   "source": [
    "print('MAE:', metrics.mean_absolute_error(y_test, predictions_rfr))\n",
    "print('MSE:', metrics.mean_squared_error(y_test, predictions_rfr))\n",
    "print('RMSE:', np.sqrt(metrics.mean_squared_error(y_test, predictions_rfr)))\n",
    "print(\"R2 score :\", metrics.r2_score(y_test, predictions_rfr))"
   ]
  },
  {
   "cell_type": "code",
   "execution_count": 136,
   "metadata": {},
   "outputs": [],
   "source": [
    "y_train_rfr_pred = rfr_random.predict(X_train)\n",
    "y_test_rfr_pred = rfr_random.predict(X_test)"
   ]
  },
  {
   "cell_type": "code",
   "execution_count": 137,
   "metadata": {},
   "outputs": [
    {
     "data": {
      "text/plain": [
       "(array([9.08396476, 9.35164284, 8.73346554, ..., 8.9070922 , 8.75798051,\n",
       "        9.34355953]),\n",
       " array([9.69891998, 8.72072943, 9.04947637, ..., 8.80343967, 9.40180066,\n",
       "        9.41842472]))"
      ]
     },
     "execution_count": 137,
     "metadata": {},
     "output_type": "execute_result"
    }
   ],
   "source": [
    "y_train_rfr_pred, y_test_rfr_pred"
   ]
  },
  {
   "cell_type": "markdown",
   "metadata": {},
   "source": [
    "**From the Above models I can conclude that the R^2 value for XgBoostRegressor is better which higher accuracy.**"
   ]
  },
  {
   "cell_type": "code",
   "execution_count": 138,
   "metadata": {},
   "outputs": [],
   "source": [
    "Final_Flight_output = pd.DataFrame(prediction)"
   ]
  },
  {
   "cell_type": "code",
   "execution_count": 139,
   "metadata": {},
   "outputs": [
    {
     "data": {
      "text/html": [
       "<div>\n",
       "<style scoped>\n",
       "    .dataframe tbody tr th:only-of-type {\n",
       "        vertical-align: middle;\n",
       "    }\n",
       "\n",
       "    .dataframe tbody tr th {\n",
       "        vertical-align: top;\n",
       "    }\n",
       "\n",
       "    .dataframe thead th {\n",
       "        text-align: right;\n",
       "    }\n",
       "</style>\n",
       "<table border=\"1\" class=\"dataframe\">\n",
       "  <thead>\n",
       "    <tr style=\"text-align: right;\">\n",
       "      <th></th>\n",
       "      <th>0</th>\n",
       "    </tr>\n",
       "  </thead>\n",
       "  <tbody>\n",
       "    <tr>\n",
       "      <th>0</th>\n",
       "      <td>9.702955</td>\n",
       "    </tr>\n",
       "    <tr>\n",
       "      <th>1</th>\n",
       "      <td>8.706377</td>\n",
       "    </tr>\n",
       "    <tr>\n",
       "      <th>2</th>\n",
       "      <td>9.052794</td>\n",
       "    </tr>\n",
       "    <tr>\n",
       "      <th>3</th>\n",
       "      <td>8.209142</td>\n",
       "    </tr>\n",
       "    <tr>\n",
       "      <th>4</th>\n",
       "      <td>9.583226</td>\n",
       "    </tr>\n",
       "    <tr>\n",
       "      <th>...</th>\n",
       "      <td>...</td>\n",
       "    </tr>\n",
       "    <tr>\n",
       "      <th>2132</th>\n",
       "      <td>9.256513</td>\n",
       "    </tr>\n",
       "    <tr>\n",
       "      <th>2133</th>\n",
       "      <td>8.537831</td>\n",
       "    </tr>\n",
       "    <tr>\n",
       "      <th>2134</th>\n",
       "      <td>8.800841</td>\n",
       "    </tr>\n",
       "    <tr>\n",
       "      <th>2135</th>\n",
       "      <td>9.401209</td>\n",
       "    </tr>\n",
       "    <tr>\n",
       "      <th>2136</th>\n",
       "      <td>9.414914</td>\n",
       "    </tr>\n",
       "  </tbody>\n",
       "</table>\n",
       "<p>2137 rows × 1 columns</p>\n",
       "</div>"
      ],
      "text/plain": [
       "             0\n",
       "0     9.702955\n",
       "1     8.706377\n",
       "2     9.052794\n",
       "3     8.209142\n",
       "4     9.583226\n",
       "...        ...\n",
       "2132  9.256513\n",
       "2133  8.537831\n",
       "2134  8.800841\n",
       "2135  9.401209\n",
       "2136  9.414914\n",
       "\n",
       "[2137 rows x 1 columns]"
      ]
     },
     "execution_count": 139,
     "metadata": {},
     "output_type": "execute_result"
    }
   ],
   "source": [
    "Final_Flight_output"
   ]
  },
  {
   "cell_type": "code",
   "execution_count": 140,
   "metadata": {},
   "outputs": [],
   "source": [
    "Final_Flight_output = Final_Flight_output.to_csv(r'C:\\Users\\karti\\Desktop\\Machine Hack\\Final_Flight_output.csv', index = False)"
   ]
  }
 ],
 "metadata": {
  "kernelspec": {
   "display_name": "Python 3",
   "language": "python",
   "name": "python3"
  },
  "language_info": {
   "codemirror_mode": {
    "name": "ipython",
    "version": 3
   },
   "file_extension": ".py",
   "mimetype": "text/x-python",
   "name": "python",
   "nbconvert_exporter": "python",
   "pygments_lexer": "ipython3",
   "version": "3.6.10"
  }
 },
 "nbformat": 4,
 "nbformat_minor": 4
}
